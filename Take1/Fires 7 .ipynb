{
 "cells": [
  {
   "cell_type": "code",
   "execution_count": 2,
   "metadata": {},
   "outputs": [],
   "source": [
    "import pandas as pd\n",
    "pd.set_option('display.max_columns',500)\n",
    "pd.set_option('display.max_rows', 300)\n",
    "import pickle\n",
    "import numpy as np\n",
    "import matplotlib.pyplot as plt\n",
    "import seaborn as sns\n",
    "%matplotlib inline\n",
    "sns.set()\n",
    "#plt.style.use('fivethirtyeight')\n",
    "import warnings\n",
    "warnings.filterwarnings('ignore')"
   ]
  },
  {
   "cell_type": "code",
   "execution_count": 3,
   "metadata": {},
   "outputs": [],
   "source": [
    "from sklearn.linear_model import LogisticRegression\n",
    "from sklearn.model_selection import cross_val_score, train_test_split, KFold\n",
    "from sklearn.metrics import precision_score, recall_score, f1_score, classification_report, confusion_matrix\n",
    "from sklearn.preprocessing import LabelEncoder\n",
    "from sklearn.ensemble import RandomForestClassifier\n",
    "from collections import Counter\n",
    "from imblearn.over_sampling import RandomOverSampler \n",
    "from sklearn.naive_bayes import MultinomialNB"
   ]
  },
  {
   "cell_type": "code",
   "execution_count": 4,
   "metadata": {},
   "outputs": [],
   "source": [
    "#work with countyID info filled in\n",
    "with open('/home/douglas/ds/metis/metisgh/Week 4 work/fires_county_ids.pkl', 'rb') as picklefile:\n",
    "    fires = pickle.load(picklefile)"
   ]
  },
  {
   "cell_type": "code",
   "execution_count": 4,
   "metadata": {},
   "outputs": [
    {
     "data": {
      "text/html": [
       "<div>\n",
       "<style scoped>\n",
       "    .dataframe tbody tr th:only-of-type {\n",
       "        vertical-align: middle;\n",
       "    }\n",
       "\n",
       "    .dataframe tbody tr th {\n",
       "        vertical-align: top;\n",
       "    }\n",
       "\n",
       "    .dataframe thead th {\n",
       "        text-align: right;\n",
       "    }\n",
       "</style>\n",
       "<table border=\"1\" class=\"dataframe\">\n",
       "  <thead>\n",
       "    <tr style=\"text-align: right;\">\n",
       "      <th></th>\n",
       "      <th>FOD_ID</th>\n",
       "      <th>DISCOVERY_DATE</th>\n",
       "      <th>DISCOVERY_DOY</th>\n",
       "      <th>DISCOVERY_TIME</th>\n",
       "      <th>STAT_CAUSE_CODE</th>\n",
       "      <th>STAT_CAUSE_DESCR</th>\n",
       "      <th>FIRE_SIZE</th>\n",
       "      <th>FIRE_SIZE_CLASS</th>\n",
       "      <th>LATITUDE</th>\n",
       "      <th>LONGITUDE</th>\n",
       "      <th>STATE</th>\n",
       "      <th>Month</th>\n",
       "      <th>DayofWeek</th>\n",
       "      <th>DISCOVERY_TIME2</th>\n",
       "      <th>COUNTY2_x</th>\n",
       "      <th>COUNTY_ID</th>\n",
       "      <th>Cause</th>\n",
       "      <th>Prev_Lightning_Fires</th>\n",
       "      <th>Prev_Accident_Fires</th>\n",
       "      <th>Prev_Arson_Fires</th>\n",
       "      <th>Prev_Other_Fires</th>\n",
       "      <th>Prev_A_Fires</th>\n",
       "      <th>Prev_B_Fires</th>\n",
       "      <th>Prev_C_Fires</th>\n",
       "      <th>Prev_D_Fires</th>\n",
       "      <th>Prev_E_Fires</th>\n",
       "      <th>Prev_F_Fires</th>\n",
       "      <th>Prev_G_Fires</th>\n",
       "      <th>Prev_Fires_Same_Month</th>\n",
       "      <th>Prev_Fires_Same_DayofWeek</th>\n",
       "      <th>StateID</th>\n",
       "    </tr>\n",
       "  </thead>\n",
       "  <tbody>\n",
       "    <tr>\n",
       "      <th>2</th>\n",
       "      <td>844425</td>\n",
       "      <td>1992-01-02</td>\n",
       "      <td>2</td>\n",
       "      <td>None</td>\n",
       "      <td>13.0</td>\n",
       "      <td>Missing/Undefined</td>\n",
       "      <td>1.0</td>\n",
       "      <td>B</td>\n",
       "      <td>33.558333</td>\n",
       "      <td>-80.329167</td>\n",
       "      <td>SC</td>\n",
       "      <td>1</td>\n",
       "      <td>Thursday</td>\n",
       "      <td>NaN</td>\n",
       "      <td>clarendon</td>\n",
       "      <td>45027</td>\n",
       "      <td>Other</td>\n",
       "      <td>0.0</td>\n",
       "      <td>0.0</td>\n",
       "      <td>0.0</td>\n",
       "      <td>0.0</td>\n",
       "      <td>0.0</td>\n",
       "      <td>0.0</td>\n",
       "      <td>0.0</td>\n",
       "      <td>0.0</td>\n",
       "      <td>0.0</td>\n",
       "      <td>0.0</td>\n",
       "      <td>0.0</td>\n",
       "      <td>0.0</td>\n",
       "      <td>0.0</td>\n",
       "      <td>45</td>\n",
       "    </tr>\n",
       "    <tr>\n",
       "      <th>3</th>\n",
       "      <td>52822</td>\n",
       "      <td>1992-01-04</td>\n",
       "      <td>4</td>\n",
       "      <td>1400</td>\n",
       "      <td>7.0</td>\n",
       "      <td>Arson</td>\n",
       "      <td>1.0</td>\n",
       "      <td>B</td>\n",
       "      <td>31.483333</td>\n",
       "      <td>-88.750000</td>\n",
       "      <td>MS</td>\n",
       "      <td>1</td>\n",
       "      <td>Saturday</td>\n",
       "      <td>1400.0</td>\n",
       "      <td>wayne</td>\n",
       "      <td>28153</td>\n",
       "      <td>Arson</td>\n",
       "      <td>0.0</td>\n",
       "      <td>0.0</td>\n",
       "      <td>0.0</td>\n",
       "      <td>0.0</td>\n",
       "      <td>0.0</td>\n",
       "      <td>0.0</td>\n",
       "      <td>0.0</td>\n",
       "      <td>0.0</td>\n",
       "      <td>0.0</td>\n",
       "      <td>0.0</td>\n",
       "      <td>0.0</td>\n",
       "      <td>0.0</td>\n",
       "      <td>0.0</td>\n",
       "      <td>28</td>\n",
       "    </tr>\n",
       "    <tr>\n",
       "      <th>6</th>\n",
       "      <td>846362</td>\n",
       "      <td>1992-01-17</td>\n",
       "      <td>17</td>\n",
       "      <td>None</td>\n",
       "      <td>13.0</td>\n",
       "      <td>Missing/Undefined</td>\n",
       "      <td>0.5</td>\n",
       "      <td>B</td>\n",
       "      <td>32.604167</td>\n",
       "      <td>-80.991667</td>\n",
       "      <td>SC</td>\n",
       "      <td>1</td>\n",
       "      <td>Friday</td>\n",
       "      <td>NaN</td>\n",
       "      <td>jasper</td>\n",
       "      <td>45053</td>\n",
       "      <td>Other</td>\n",
       "      <td>0.0</td>\n",
       "      <td>0.0</td>\n",
       "      <td>0.0</td>\n",
       "      <td>0.0</td>\n",
       "      <td>0.0</td>\n",
       "      <td>0.0</td>\n",
       "      <td>0.0</td>\n",
       "      <td>0.0</td>\n",
       "      <td>0.0</td>\n",
       "      <td>0.0</td>\n",
       "      <td>0.0</td>\n",
       "      <td>0.0</td>\n",
       "      <td>0.0</td>\n",
       "      <td>45</td>\n",
       "    </tr>\n",
       "    <tr>\n",
       "      <th>7</th>\n",
       "      <td>847880</td>\n",
       "      <td>1992-01-17</td>\n",
       "      <td>17</td>\n",
       "      <td>None</td>\n",
       "      <td>13.0</td>\n",
       "      <td>Missing/Undefined</td>\n",
       "      <td>0.5</td>\n",
       "      <td>B</td>\n",
       "      <td>34.687500</td>\n",
       "      <td>-81.570833</td>\n",
       "      <td>SC</td>\n",
       "      <td>1</td>\n",
       "      <td>Friday</td>\n",
       "      <td>NaN</td>\n",
       "      <td>union</td>\n",
       "      <td>45087</td>\n",
       "      <td>Other</td>\n",
       "      <td>0.0</td>\n",
       "      <td>0.0</td>\n",
       "      <td>0.0</td>\n",
       "      <td>0.0</td>\n",
       "      <td>0.0</td>\n",
       "      <td>0.0</td>\n",
       "      <td>0.0</td>\n",
       "      <td>0.0</td>\n",
       "      <td>0.0</td>\n",
       "      <td>0.0</td>\n",
       "      <td>0.0</td>\n",
       "      <td>0.0</td>\n",
       "      <td>0.0</td>\n",
       "      <td>45</td>\n",
       "    </tr>\n",
       "    <tr>\n",
       "      <th>9</th>\n",
       "      <td>1128355</td>\n",
       "      <td>1992-01-18</td>\n",
       "      <td>18</td>\n",
       "      <td>None</td>\n",
       "      <td>5.0</td>\n",
       "      <td>Debris Burning</td>\n",
       "      <td>0.4</td>\n",
       "      <td>B</td>\n",
       "      <td>36.398300</td>\n",
       "      <td>-78.128300</td>\n",
       "      <td>NC</td>\n",
       "      <td>1</td>\n",
       "      <td>Saturday</td>\n",
       "      <td>NaN</td>\n",
       "      <td>warren</td>\n",
       "      <td>37185</td>\n",
       "      <td>Accident</td>\n",
       "      <td>0.0</td>\n",
       "      <td>0.0</td>\n",
       "      <td>0.0</td>\n",
       "      <td>0.0</td>\n",
       "      <td>0.0</td>\n",
       "      <td>0.0</td>\n",
       "      <td>0.0</td>\n",
       "      <td>0.0</td>\n",
       "      <td>0.0</td>\n",
       "      <td>0.0</td>\n",
       "      <td>0.0</td>\n",
       "      <td>0.0</td>\n",
       "      <td>0.0</td>\n",
       "      <td>37</td>\n",
       "    </tr>\n",
       "  </tbody>\n",
       "</table>\n",
       "</div>"
      ],
      "text/plain": [
       "    FOD_ID DISCOVERY_DATE  DISCOVERY_DOY DISCOVERY_TIME  STAT_CAUSE_CODE  \\\n",
       "2   844425     1992-01-02              2           None             13.0   \n",
       "3    52822     1992-01-04              4           1400              7.0   \n",
       "6   846362     1992-01-17             17           None             13.0   \n",
       "7   847880     1992-01-17             17           None             13.0   \n",
       "9  1128355     1992-01-18             18           None              5.0   \n",
       "\n",
       "    STAT_CAUSE_DESCR  FIRE_SIZE FIRE_SIZE_CLASS   LATITUDE  LONGITUDE STATE  \\\n",
       "2  Missing/Undefined        1.0               B  33.558333 -80.329167    SC   \n",
       "3              Arson        1.0               B  31.483333 -88.750000    MS   \n",
       "6  Missing/Undefined        0.5               B  32.604167 -80.991667    SC   \n",
       "7  Missing/Undefined        0.5               B  34.687500 -81.570833    SC   \n",
       "9     Debris Burning        0.4               B  36.398300 -78.128300    NC   \n",
       "\n",
       "   Month DayofWeek  DISCOVERY_TIME2  COUNTY2_x COUNTY_ID     Cause  \\\n",
       "2      1  Thursday              NaN  clarendon     45027     Other   \n",
       "3      1  Saturday           1400.0      wayne     28153     Arson   \n",
       "6      1    Friday              NaN     jasper     45053     Other   \n",
       "7      1    Friday              NaN      union     45087     Other   \n",
       "9      1  Saturday              NaN     warren     37185  Accident   \n",
       "\n",
       "   Prev_Lightning_Fires  Prev_Accident_Fires  Prev_Arson_Fires  \\\n",
       "2                   0.0                  0.0               0.0   \n",
       "3                   0.0                  0.0               0.0   \n",
       "6                   0.0                  0.0               0.0   \n",
       "7                   0.0                  0.0               0.0   \n",
       "9                   0.0                  0.0               0.0   \n",
       "\n",
       "   Prev_Other_Fires  Prev_A_Fires  Prev_B_Fires  Prev_C_Fires  Prev_D_Fires  \\\n",
       "2               0.0           0.0           0.0           0.0           0.0   \n",
       "3               0.0           0.0           0.0           0.0           0.0   \n",
       "6               0.0           0.0           0.0           0.0           0.0   \n",
       "7               0.0           0.0           0.0           0.0           0.0   \n",
       "9               0.0           0.0           0.0           0.0           0.0   \n",
       "\n",
       "   Prev_E_Fires  Prev_F_Fires  Prev_G_Fires  Prev_Fires_Same_Month  \\\n",
       "2           0.0           0.0           0.0                    0.0   \n",
       "3           0.0           0.0           0.0                    0.0   \n",
       "6           0.0           0.0           0.0                    0.0   \n",
       "7           0.0           0.0           0.0                    0.0   \n",
       "9           0.0           0.0           0.0                    0.0   \n",
       "\n",
       "   Prev_Fires_Same_DayofWeek StateID  \n",
       "2                        0.0      45  \n",
       "3                        0.0      28  \n",
       "6                        0.0      45  \n",
       "7                        0.0      45  \n",
       "9                        0.0      37  "
      ]
     },
     "execution_count": 4,
     "metadata": {},
     "output_type": "execute_result"
    }
   ],
   "source": [
    "fires.head()"
   ]
  },
  {
   "cell_type": "code",
   "execution_count": 6,
   "metadata": {},
   "outputs": [],
   "source": [
    "#A=greater than 0 but less than or equal to 0.25 acres, B=0.26-9.9 acres, C=10.0-99.9 acres, D=100-299 acres, E=300 to 999 acres, F=1000 to 4999 acres, and G=5000+ acres)\n",
    "bins = [0, 10, 1000, 10000000000]\n",
    "fires['CLASS'] = pd.cut(fires['FIRE_SIZE'], bins, labels=[1,2,3])"
   ]
  },
  {
   "cell_type": "code",
   "execution_count": 11,
   "metadata": {},
   "outputs": [
    {
     "data": {
      "text/html": [
       "<div>\n",
       "<style scoped>\n",
       "    .dataframe tbody tr th:only-of-type {\n",
       "        vertical-align: middle;\n",
       "    }\n",
       "\n",
       "    .dataframe tbody tr th {\n",
       "        vertical-align: top;\n",
       "    }\n",
       "\n",
       "    .dataframe thead th {\n",
       "        text-align: right;\n",
       "    }\n",
       "</style>\n",
       "<table border=\"1\" class=\"dataframe\">\n",
       "  <thead>\n",
       "    <tr style=\"text-align: right;\">\n",
       "      <th></th>\n",
       "      <th>FOD_ID</th>\n",
       "      <th>DISCOVERY_DATE</th>\n",
       "      <th>DISCOVERY_DOY</th>\n",
       "      <th>DISCOVERY_TIME</th>\n",
       "      <th>STAT_CAUSE_CODE</th>\n",
       "      <th>STAT_CAUSE_DESCR</th>\n",
       "      <th>FIRE_SIZE</th>\n",
       "      <th>FIRE_SIZE_CLASS</th>\n",
       "      <th>LATITUDE</th>\n",
       "      <th>LONGITUDE</th>\n",
       "      <th>STATE</th>\n",
       "      <th>Month</th>\n",
       "      <th>DayofWeek</th>\n",
       "      <th>DISCOVERY_TIME2</th>\n",
       "      <th>COUNTY2_x</th>\n",
       "      <th>COUNTY_ID</th>\n",
       "      <th>Cause</th>\n",
       "      <th>Prev_Lightning_Fires</th>\n",
       "      <th>Prev_Accident_Fires</th>\n",
       "      <th>Prev_Arson_Fires</th>\n",
       "      <th>Prev_Other_Fires</th>\n",
       "      <th>Prev_A_Fires</th>\n",
       "      <th>Prev_B_Fires</th>\n",
       "      <th>Prev_C_Fires</th>\n",
       "      <th>Prev_D_Fires</th>\n",
       "      <th>Prev_E_Fires</th>\n",
       "      <th>Prev_F_Fires</th>\n",
       "      <th>Prev_G_Fires</th>\n",
       "      <th>Prev_Fires_Same_Month</th>\n",
       "      <th>Prev_Fires_Same_DayofWeek</th>\n",
       "      <th>StateID</th>\n",
       "      <th>CLASS</th>\n",
       "    </tr>\n",
       "  </thead>\n",
       "  <tbody>\n",
       "    <tr>\n",
       "      <th>2</th>\n",
       "      <td>844425</td>\n",
       "      <td>1992-01-02</td>\n",
       "      <td>2</td>\n",
       "      <td>None</td>\n",
       "      <td>13.0</td>\n",
       "      <td>Missing/Undefined</td>\n",
       "      <td>1.0</td>\n",
       "      <td>B</td>\n",
       "      <td>33.558333</td>\n",
       "      <td>-80.329167</td>\n",
       "      <td>SC</td>\n",
       "      <td>1</td>\n",
       "      <td>Thursday</td>\n",
       "      <td>NaN</td>\n",
       "      <td>clarendon</td>\n",
       "      <td>45027</td>\n",
       "      <td>Other</td>\n",
       "      <td>0.0</td>\n",
       "      <td>0.0</td>\n",
       "      <td>0.0</td>\n",
       "      <td>0.0</td>\n",
       "      <td>0.0</td>\n",
       "      <td>0.0</td>\n",
       "      <td>0.0</td>\n",
       "      <td>0.0</td>\n",
       "      <td>0.0</td>\n",
       "      <td>0.0</td>\n",
       "      <td>0.0</td>\n",
       "      <td>0.0</td>\n",
       "      <td>0.0</td>\n",
       "      <td>45</td>\n",
       "      <td>1</td>\n",
       "    </tr>\n",
       "    <tr>\n",
       "      <th>3</th>\n",
       "      <td>52822</td>\n",
       "      <td>1992-01-04</td>\n",
       "      <td>4</td>\n",
       "      <td>1400</td>\n",
       "      <td>7.0</td>\n",
       "      <td>Arson</td>\n",
       "      <td>1.0</td>\n",
       "      <td>B</td>\n",
       "      <td>31.483333</td>\n",
       "      <td>-88.750000</td>\n",
       "      <td>MS</td>\n",
       "      <td>1</td>\n",
       "      <td>Saturday</td>\n",
       "      <td>1400.0</td>\n",
       "      <td>wayne</td>\n",
       "      <td>28153</td>\n",
       "      <td>Arson</td>\n",
       "      <td>0.0</td>\n",
       "      <td>0.0</td>\n",
       "      <td>0.0</td>\n",
       "      <td>0.0</td>\n",
       "      <td>0.0</td>\n",
       "      <td>0.0</td>\n",
       "      <td>0.0</td>\n",
       "      <td>0.0</td>\n",
       "      <td>0.0</td>\n",
       "      <td>0.0</td>\n",
       "      <td>0.0</td>\n",
       "      <td>0.0</td>\n",
       "      <td>0.0</td>\n",
       "      <td>28</td>\n",
       "      <td>1</td>\n",
       "    </tr>\n",
       "    <tr>\n",
       "      <th>6</th>\n",
       "      <td>846362</td>\n",
       "      <td>1992-01-17</td>\n",
       "      <td>17</td>\n",
       "      <td>None</td>\n",
       "      <td>13.0</td>\n",
       "      <td>Missing/Undefined</td>\n",
       "      <td>0.5</td>\n",
       "      <td>B</td>\n",
       "      <td>32.604167</td>\n",
       "      <td>-80.991667</td>\n",
       "      <td>SC</td>\n",
       "      <td>1</td>\n",
       "      <td>Friday</td>\n",
       "      <td>NaN</td>\n",
       "      <td>jasper</td>\n",
       "      <td>45053</td>\n",
       "      <td>Other</td>\n",
       "      <td>0.0</td>\n",
       "      <td>0.0</td>\n",
       "      <td>0.0</td>\n",
       "      <td>0.0</td>\n",
       "      <td>0.0</td>\n",
       "      <td>0.0</td>\n",
       "      <td>0.0</td>\n",
       "      <td>0.0</td>\n",
       "      <td>0.0</td>\n",
       "      <td>0.0</td>\n",
       "      <td>0.0</td>\n",
       "      <td>0.0</td>\n",
       "      <td>0.0</td>\n",
       "      <td>45</td>\n",
       "      <td>1</td>\n",
       "    </tr>\n",
       "    <tr>\n",
       "      <th>7</th>\n",
       "      <td>847880</td>\n",
       "      <td>1992-01-17</td>\n",
       "      <td>17</td>\n",
       "      <td>None</td>\n",
       "      <td>13.0</td>\n",
       "      <td>Missing/Undefined</td>\n",
       "      <td>0.5</td>\n",
       "      <td>B</td>\n",
       "      <td>34.687500</td>\n",
       "      <td>-81.570833</td>\n",
       "      <td>SC</td>\n",
       "      <td>1</td>\n",
       "      <td>Friday</td>\n",
       "      <td>NaN</td>\n",
       "      <td>union</td>\n",
       "      <td>45087</td>\n",
       "      <td>Other</td>\n",
       "      <td>0.0</td>\n",
       "      <td>0.0</td>\n",
       "      <td>0.0</td>\n",
       "      <td>0.0</td>\n",
       "      <td>0.0</td>\n",
       "      <td>0.0</td>\n",
       "      <td>0.0</td>\n",
       "      <td>0.0</td>\n",
       "      <td>0.0</td>\n",
       "      <td>0.0</td>\n",
       "      <td>0.0</td>\n",
       "      <td>0.0</td>\n",
       "      <td>0.0</td>\n",
       "      <td>45</td>\n",
       "      <td>1</td>\n",
       "    </tr>\n",
       "    <tr>\n",
       "      <th>9</th>\n",
       "      <td>1128355</td>\n",
       "      <td>1992-01-18</td>\n",
       "      <td>18</td>\n",
       "      <td>None</td>\n",
       "      <td>5.0</td>\n",
       "      <td>Debris Burning</td>\n",
       "      <td>0.4</td>\n",
       "      <td>B</td>\n",
       "      <td>36.398300</td>\n",
       "      <td>-78.128300</td>\n",
       "      <td>NC</td>\n",
       "      <td>1</td>\n",
       "      <td>Saturday</td>\n",
       "      <td>NaN</td>\n",
       "      <td>warren</td>\n",
       "      <td>37185</td>\n",
       "      <td>Accident</td>\n",
       "      <td>0.0</td>\n",
       "      <td>0.0</td>\n",
       "      <td>0.0</td>\n",
       "      <td>0.0</td>\n",
       "      <td>0.0</td>\n",
       "      <td>0.0</td>\n",
       "      <td>0.0</td>\n",
       "      <td>0.0</td>\n",
       "      <td>0.0</td>\n",
       "      <td>0.0</td>\n",
       "      <td>0.0</td>\n",
       "      <td>0.0</td>\n",
       "      <td>0.0</td>\n",
       "      <td>37</td>\n",
       "      <td>1</td>\n",
       "    </tr>\n",
       "  </tbody>\n",
       "</table>\n",
       "</div>"
      ],
      "text/plain": [
       "    FOD_ID DISCOVERY_DATE  DISCOVERY_DOY DISCOVERY_TIME  STAT_CAUSE_CODE  \\\n",
       "2   844425     1992-01-02              2           None             13.0   \n",
       "3    52822     1992-01-04              4           1400              7.0   \n",
       "6   846362     1992-01-17             17           None             13.0   \n",
       "7   847880     1992-01-17             17           None             13.0   \n",
       "9  1128355     1992-01-18             18           None              5.0   \n",
       "\n",
       "    STAT_CAUSE_DESCR  FIRE_SIZE FIRE_SIZE_CLASS   LATITUDE  LONGITUDE STATE  \\\n",
       "2  Missing/Undefined        1.0               B  33.558333 -80.329167    SC   \n",
       "3              Arson        1.0               B  31.483333 -88.750000    MS   \n",
       "6  Missing/Undefined        0.5               B  32.604167 -80.991667    SC   \n",
       "7  Missing/Undefined        0.5               B  34.687500 -81.570833    SC   \n",
       "9     Debris Burning        0.4               B  36.398300 -78.128300    NC   \n",
       "\n",
       "   Month DayofWeek  DISCOVERY_TIME2  COUNTY2_x COUNTY_ID     Cause  \\\n",
       "2      1  Thursday              NaN  clarendon     45027     Other   \n",
       "3      1  Saturday           1400.0      wayne     28153     Arson   \n",
       "6      1    Friday              NaN     jasper     45053     Other   \n",
       "7      1    Friday              NaN      union     45087     Other   \n",
       "9      1  Saturday              NaN     warren     37185  Accident   \n",
       "\n",
       "   Prev_Lightning_Fires  Prev_Accident_Fires  Prev_Arson_Fires  \\\n",
       "2                   0.0                  0.0               0.0   \n",
       "3                   0.0                  0.0               0.0   \n",
       "6                   0.0                  0.0               0.0   \n",
       "7                   0.0                  0.0               0.0   \n",
       "9                   0.0                  0.0               0.0   \n",
       "\n",
       "   Prev_Other_Fires  Prev_A_Fires  Prev_B_Fires  Prev_C_Fires  Prev_D_Fires  \\\n",
       "2               0.0           0.0           0.0           0.0           0.0   \n",
       "3               0.0           0.0           0.0           0.0           0.0   \n",
       "6               0.0           0.0           0.0           0.0           0.0   \n",
       "7               0.0           0.0           0.0           0.0           0.0   \n",
       "9               0.0           0.0           0.0           0.0           0.0   \n",
       "\n",
       "   Prev_E_Fires  Prev_F_Fires  Prev_G_Fires  Prev_Fires_Same_Month  \\\n",
       "2           0.0           0.0           0.0                    0.0   \n",
       "3           0.0           0.0           0.0                    0.0   \n",
       "6           0.0           0.0           0.0                    0.0   \n",
       "7           0.0           0.0           0.0                    0.0   \n",
       "9           0.0           0.0           0.0                    0.0   \n",
       "\n",
       "   Prev_Fires_Same_DayofWeek StateID CLASS  \n",
       "2                        0.0      45     1  \n",
       "3                        0.0      28     1  \n",
       "6                        0.0      45     1  \n",
       "7                        0.0      45     1  \n",
       "9                        0.0      37     1  "
      ]
     },
     "execution_count": 11,
     "metadata": {},
     "output_type": "execute_result"
    }
   ],
   "source": [
    "fires.head()"
   ]
  },
  {
   "cell_type": "code",
   "execution_count": 12,
   "metadata": {},
   "outputs": [
    {
     "data": {
      "text/plain": [
       "Index(['FOD_ID', 'DISCOVERY_DATE', 'DISCOVERY_DOY', 'DISCOVERY_TIME',\n",
       "       'STAT_CAUSE_CODE', 'STAT_CAUSE_DESCR', 'FIRE_SIZE', 'FIRE_SIZE_CLASS',\n",
       "       'LATITUDE', 'LONGITUDE', 'STATE', 'Month', 'DayofWeek',\n",
       "       'DISCOVERY_TIME2', 'COUNTY2_x', 'COUNTY_ID', 'Cause',\n",
       "       'Prev_Lightning_Fires', 'Prev_Accident_Fires', 'Prev_Arson_Fires',\n",
       "       'Prev_Other_Fires', 'Prev_A_Fires', 'Prev_B_Fires', 'Prev_C_Fires',\n",
       "       'Prev_D_Fires', 'Prev_E_Fires', 'Prev_F_Fires', 'Prev_G_Fires',\n",
       "       'Prev_Fires_Same_Month', 'Prev_Fires_Same_DayofWeek', 'StateID',\n",
       "       'CLASS'],\n",
       "      dtype='object')"
      ]
     },
     "execution_count": 12,
     "metadata": {},
     "output_type": "execute_result"
    }
   ],
   "source": [
    "fires.columns"
   ]
  },
  {
   "cell_type": "code",
   "execution_count": 14,
   "metadata": {},
   "outputs": [],
   "source": [
    "fires.drop(columns=['Prev_A_Fires', 'Prev_B_Fires', 'Prev_C_Fires',\n",
    "       'Prev_D_Fires', 'Prev_E_Fires', 'Prev_F_Fires', 'Prev_G_Fires'], inplace=True)"
   ]
  },
  {
   "cell_type": "code",
   "execution_count": 15,
   "metadata": {},
   "outputs": [
    {
     "data": {
      "text/html": [
       "<div>\n",
       "<style scoped>\n",
       "    .dataframe tbody tr th:only-of-type {\n",
       "        vertical-align: middle;\n",
       "    }\n",
       "\n",
       "    .dataframe tbody tr th {\n",
       "        vertical-align: top;\n",
       "    }\n",
       "\n",
       "    .dataframe thead th {\n",
       "        text-align: right;\n",
       "    }\n",
       "</style>\n",
       "<table border=\"1\" class=\"dataframe\">\n",
       "  <thead>\n",
       "    <tr style=\"text-align: right;\">\n",
       "      <th></th>\n",
       "      <th>FOD_ID</th>\n",
       "      <th>DISCOVERY_DATE</th>\n",
       "      <th>DISCOVERY_DOY</th>\n",
       "      <th>DISCOVERY_TIME</th>\n",
       "      <th>STAT_CAUSE_CODE</th>\n",
       "      <th>STAT_CAUSE_DESCR</th>\n",
       "      <th>FIRE_SIZE</th>\n",
       "      <th>FIRE_SIZE_CLASS</th>\n",
       "      <th>LATITUDE</th>\n",
       "      <th>LONGITUDE</th>\n",
       "      <th>STATE</th>\n",
       "      <th>Month</th>\n",
       "      <th>DayofWeek</th>\n",
       "      <th>DISCOVERY_TIME2</th>\n",
       "      <th>COUNTY2_x</th>\n",
       "      <th>COUNTY_ID</th>\n",
       "      <th>Cause</th>\n",
       "      <th>Prev_Lightning_Fires</th>\n",
       "      <th>Prev_Accident_Fires</th>\n",
       "      <th>Prev_Arson_Fires</th>\n",
       "      <th>Prev_Other_Fires</th>\n",
       "      <th>Prev_Fires_Same_Month</th>\n",
       "      <th>Prev_Fires_Same_DayofWeek</th>\n",
       "      <th>StateID</th>\n",
       "      <th>CLASS</th>\n",
       "    </tr>\n",
       "  </thead>\n",
       "  <tbody>\n",
       "    <tr>\n",
       "      <th>2</th>\n",
       "      <td>844425</td>\n",
       "      <td>1992-01-02</td>\n",
       "      <td>2</td>\n",
       "      <td>None</td>\n",
       "      <td>13.0</td>\n",
       "      <td>Missing/Undefined</td>\n",
       "      <td>1.0</td>\n",
       "      <td>B</td>\n",
       "      <td>33.558333</td>\n",
       "      <td>-80.329167</td>\n",
       "      <td>SC</td>\n",
       "      <td>1</td>\n",
       "      <td>Thursday</td>\n",
       "      <td>NaN</td>\n",
       "      <td>clarendon</td>\n",
       "      <td>45027</td>\n",
       "      <td>Other</td>\n",
       "      <td>0.0</td>\n",
       "      <td>0.0</td>\n",
       "      <td>0.0</td>\n",
       "      <td>0.0</td>\n",
       "      <td>0.0</td>\n",
       "      <td>0.0</td>\n",
       "      <td>45</td>\n",
       "      <td>1</td>\n",
       "    </tr>\n",
       "  </tbody>\n",
       "</table>\n",
       "</div>"
      ],
      "text/plain": [
       "   FOD_ID DISCOVERY_DATE  DISCOVERY_DOY DISCOVERY_TIME  STAT_CAUSE_CODE  \\\n",
       "2  844425     1992-01-02              2           None             13.0   \n",
       "\n",
       "    STAT_CAUSE_DESCR  FIRE_SIZE FIRE_SIZE_CLASS   LATITUDE  LONGITUDE STATE  \\\n",
       "2  Missing/Undefined        1.0               B  33.558333 -80.329167    SC   \n",
       "\n",
       "   Month DayofWeek  DISCOVERY_TIME2  COUNTY2_x COUNTY_ID  Cause  \\\n",
       "2      1  Thursday              NaN  clarendon     45027  Other   \n",
       "\n",
       "   Prev_Lightning_Fires  Prev_Accident_Fires  Prev_Arson_Fires  \\\n",
       "2                   0.0                  0.0               0.0   \n",
       "\n",
       "   Prev_Other_Fires  Prev_Fires_Same_Month  Prev_Fires_Same_DayofWeek StateID  \\\n",
       "2               0.0                    0.0                        0.0      45   \n",
       "\n",
       "  CLASS  \n",
       "2     1  "
      ]
     },
     "execution_count": 15,
     "metadata": {},
     "output_type": "execute_result"
    }
   ],
   "source": [
    "fires.head(1)"
   ]
  },
  {
   "cell_type": "code",
   "execution_count": 16,
   "metadata": {},
   "outputs": [
    {
     "data": {
      "text/plain": [
       "1    8709\n",
       "2    1235\n",
       "3      56\n",
       "Name: CLASS, dtype: int64"
      ]
     },
     "execution_count": 16,
     "metadata": {},
     "output_type": "execute_result"
    }
   ],
   "source": [
    "fires['CLASS'].value_counts()"
   ]
  },
  {
   "cell_type": "code",
   "execution_count": 42,
   "metadata": {},
   "outputs": [
    {
     "data": {
      "text/plain": [
       "(10000, 25)"
      ]
     },
     "execution_count": 42,
     "metadata": {},
     "output_type": "execute_result"
    }
   ],
   "source": [
    "fires.shape"
   ]
  },
  {
   "cell_type": "code",
   "execution_count": 31,
   "metadata": {},
   "outputs": [
    {
     "data": {
      "text/plain": [
       "<function matplotlib.pyplot.tight_layout>"
      ]
     },
     "execution_count": 31,
     "metadata": {},
     "output_type": "execute_result"
    },
    {
     "data": {
      "image/png": "[encoded data removed]",
      "text/plain": [
       "<matplotlib.figure.Figure at 0x7ff5dec4d128>"
      ]
     },
     "metadata": {},
     "output_type": "display_data"
    }
   ],
   "source": [
    "fires['CLASS'].hist(by=fires['Month'])\n",
    "plt.tight_layout"
   ]
  },
  {
   "cell_type": "code",
   "execution_count": 44,
   "metadata": {},
   "outputs": [],
   "source": [
    "x1 = np.array(fires[['LATITUDE', 'LONGITUDE']])\n",
    "y1 = np.array(fires['CLASS'])"
   ]
  },
  {
   "cell_type": "code",
   "execution_count": 7,
   "metadata": {},
   "outputs": [],
   "source": [
    "def cv_features(model, X, y):\n",
    "    kf = KFold(n_splits=5, shuffle=True, random_state=5)\n",
    "    fs = []\n",
    "    ps = []\n",
    "    rs = []\n",
    "    classes = [1, 2, 3]\n",
    "#     print('Original dataset shape {}'.format(Counter(y_test)))\n",
    "#     ros = RandomOverSampler(random_state=5)\n",
    "#     X, y = ros.fit_sample(X_train, y_train)\n",
    "#     print('Oversampled dataset shape {}'.format(Counter(y)))\n",
    "    for train_ind, val_ind in kf.split(X, y):\n",
    "        model.fit(X[train_ind],y[train_ind])\n",
    "        model_preds = model.predict(X[val_ind])\n",
    "        fs.append(f1_score(y[val_ind], model_preds, labels=classes, average=None))\n",
    "        ps.append(precision_score(y[val_ind], model_preds, labels=classes, average=None))\n",
    "        rs.append(recall_score(y[val_ind], model_preds, labels=classes, average=None))\n",
    "        \n",
    "    print(confusion_matrix(y[val_ind], model_preds, labels=classes)) # print for last one\n",
    "    print(classification_report(y[val_ind], model_preds, labels=classes))\n",
    "    return np.mean(fs, axis=0), np.mean(ps, axis=0), np.mean(rs, axis=0)"
   ]
  },
  {
   "cell_type": "code",
   "execution_count": 46,
   "metadata": {},
   "outputs": [
    {
     "name": "stdout",
     "output_type": "stream",
     "text": [
      "[[1757    0    0]\n",
      " [ 234    0    0]\n",
      " [   9    0    0]]\n",
      "             precision    recall  f1-score   support\n",
      "\n",
      "          1       0.88      1.00      0.94      1757\n",
      "          2       0.00      0.00      0.00       234\n",
      "          3       0.00      0.00      0.00         9\n",
      "\n",
      "avg / total       0.77      0.88      0.82      2000\n",
      "\n"
     ]
    },
    {
     "data": {
      "text/plain": [
       "(array([0.93098022, 0.        , 0.        ]),\n",
       " array([0.8709, 0.    , 0.    ]),\n",
       " array([1., 0., 0.]))"
      ]
     },
     "execution_count": 46,
     "metadata": {},
     "output_type": "execute_result"
    }
   ],
   "source": [
    "lr1 = LogisticRegression(C=100000)\n",
    "cv_features(lr1, x1, y1)"
   ]
  },
  {
   "cell_type": "code",
   "execution_count": 48,
   "metadata": {},
   "outputs": [],
   "source": [
    "def cv_features_withROS(model, X, y):\n",
    "    kf = KFold(n_splits=5, shuffle=True, random_state=5)\n",
    "    fs = []\n",
    "    ps = []\n",
    "    rs = []\n",
    "    classes = [1, 2, 3]\n",
    "    ros = RandomOverSampler(random_state=5)\n",
    "    for train_ind, val_ind in kf.split(X, y):\n",
    "        print('Original dataset shape {}'.format(Counter(y[train_ind])))\n",
    "        Xos, yos = ros.fit_sample(X[train_ind],y[train_ind])\n",
    "        model.fit(Xos, yos)\n",
    "        print('Oversampled dataset shape {}'.format(Counter(yos)))\n",
    "        model_preds = model.predict(X[val_ind])\n",
    "        fs.append(f1_score(y[val_ind], model_preds, labels=classes, average=None))\n",
    "        ps.append(precision_score(y[val_ind], model_preds, labels=classes, average=None))\n",
    "        rs.append(recall_score(y[val_ind], model_preds, labels=classes, average=None))\n",
    "    \n",
    "        \n",
    "    print(confusion_matrix(y[val_ind], model_preds, labels=classes)) # print for last one\n",
    "    print(classification_report(y[val_ind], model_preds, labels=classes))\n",
    "    return np.mean(fs, axis=0), np.mean(ps, axis=0), np.mean(rs, axis=0)"
   ]
  },
  {
   "cell_type": "code",
   "execution_count": 49,
   "metadata": {},
   "outputs": [
    {
     "name": "stdout",
     "output_type": "stream",
     "text": [
      "Original dataset shape Counter({1: 6962, 2: 994, 3: 44})\n",
      "Oversampled dataset shape Counter({1: 6962, 2: 6962, 3: 6962})\n",
      "Original dataset shape Counter({1: 6994, 2: 961, 3: 45})\n",
      "Oversampled dataset shape Counter({1: 6994, 2: 6994, 3: 6994})\n",
      "Original dataset shape Counter({1: 6961, 2: 996, 3: 43})\n",
      "Oversampled dataset shape Counter({1: 6961, 2: 6961, 3: 6961})\n",
      "Original dataset shape Counter({1: 6967, 2: 988, 3: 45})\n",
      "Oversampled dataset shape Counter({1: 6967, 2: 6967, 3: 6967})\n",
      "Original dataset shape Counter({1: 6952, 2: 1001, 3: 47})\n",
      "Oversampled dataset shape Counter({1: 6952, 2: 6952, 3: 6952})\n",
      "[[313 804 640]\n",
      " [ 23 165  46]\n",
      " [  1   2   6]]\n",
      "             precision    recall  f1-score   support\n",
      "\n",
      "          1       0.93      0.18      0.30      1757\n",
      "          2       0.17      0.71      0.27       234\n",
      "          3       0.01      0.67      0.02         9\n",
      "\n",
      "avg / total       0.84      0.24      0.29      2000\n",
      "\n"
     ]
    },
    {
     "data": {
      "text/plain": [
       "(array([0.29290824, 0.27095616, 0.02284477]),\n",
       " array([0.91177108, 0.16975255, 0.01161155]),\n",
       " array([0.17449759, 0.67247747, 0.71270396]))"
      ]
     },
     "execution_count": 49,
     "metadata": {},
     "output_type": "execute_result"
    }
   ],
   "source": [
    "cv_features_withROS(lr1, x1,y1)"
   ]
  },
  {
   "cell_type": "code",
   "execution_count": 50,
   "metadata": {},
   "outputs": [
    {
     "name": "stdout",
     "output_type": "stream",
     "text": [
      "[[1672   81    4]\n",
      " [ 212   22    0]\n",
      " [   6    2    1]]\n",
      "             precision    recall  f1-score   support\n",
      "\n",
      "          1       0.88      0.95      0.92      1757\n",
      "          2       0.21      0.09      0.13       234\n",
      "          3       0.20      0.11      0.14         9\n",
      "\n",
      "avg / total       0.80      0.85      0.82      2000\n",
      "\n"
     ]
    },
    {
     "data": {
      "text/plain": [
       "(array([0.91990871, 0.16517249, 0.02857143]),\n",
       " array([0.88003924, 0.31030133, 0.04      ]),\n",
       " array([0.96362256, 0.11295828, 0.02222222]))"
      ]
     },
     "execution_count": 50,
     "metadata": {},
     "output_type": "execute_result"
    }
   ],
   "source": [
    "rf1 = RandomForestClassifier(n_estimators=1000)\n",
    "cv_features(rf1, x1,y1)"
   ]
  },
  {
   "cell_type": "code",
   "execution_count": 53,
   "metadata": {},
   "outputs": [
    {
     "data": {
      "text/plain": [
       "(155.51785714285714, 22.053571428571427)"
      ]
     },
     "execution_count": 53,
     "metadata": {},
     "output_type": "execute_result"
    }
   ],
   "source": [
    "8709/56, 1235/56"
   ]
  },
  {
   "cell_type": "code",
   "execution_count": 68,
   "metadata": {},
   "outputs": [],
   "source": [
    "weights={1:1, 2:10, 3:75}\n",
    "weights2={1:1, 2:12, 3:100}"
   ]
  },
  {
   "cell_type": "code",
   "execution_count": 55,
   "metadata": {},
   "outputs": [
    {
     "name": "stdout",
     "output_type": "stream",
     "text": [
      "[[1679   76    2]\n",
      " [ 214   20    0]\n",
      " [   7    1    1]]\n",
      "             precision    recall  f1-score   support\n",
      "\n",
      "          1       0.88      0.96      0.92      1757\n",
      "          2       0.21      0.09      0.12       234\n",
      "          3       0.33      0.11      0.17         9\n",
      "\n",
      "avg / total       0.80      0.85      0.82      2000\n",
      "\n"
     ]
    },
    {
     "data": {
      "text/plain": [
       "(array([0.92129904, 0.16564009, 0.03333333]),\n",
       " array([0.88009333, 0.32394988, 0.06666667]),\n",
       " array([0.96661345, 0.11164308, 0.02222222]))"
      ]
     },
     "execution_count": 55,
     "metadata": {},
     "output_type": "execute_result"
    }
   ],
   "source": [
    "rf1b = RandomForestClassifier(n_estimators=1000, class_weight=weights)\n",
    "cv_features(rf1b,x1,y1) #best among three"
   ]
  },
  {
   "cell_type": "code",
   "execution_count": 56,
   "metadata": {},
   "outputs": [
    {
     "name": "stdout",
     "output_type": "stream",
     "text": [
      "[[1462  284   11]\n",
      " [ 151   81    2]\n",
      " [   6    2    1]]\n",
      "             precision    recall  f1-score   support\n",
      "\n",
      "          1       0.90      0.83      0.87      1757\n",
      "          2       0.22      0.35      0.27       234\n",
      "          3       0.07      0.11      0.09         9\n",
      "\n",
      "avg / total       0.82      0.77      0.79      2000\n",
      "\n"
     ]
    },
    {
     "data": {
      "text/plain": [
       "(array([0.87043612, 0.30286609, 0.05785107]),\n",
       " array([0.90187197, 0.25387631, 0.07539683]),\n",
       " array([0.84119427, 0.37659232, 0.05858586]))"
      ]
     },
     "execution_count": 56,
     "metadata": {},
     "output_type": "execute_result"
    }
   ],
   "source": [
    "rf1c = RandomForestClassifier(n_estimators=1000, class_weight=weights, min_samples_leaf=5)\n",
    "cv_features(rf1c,x1,y1)"
   ]
  },
  {
   "cell_type": "code",
   "execution_count": 57,
   "metadata": {},
   "outputs": [
    {
     "name": "stdout",
     "output_type": "stream",
     "text": [
      "[[1598  153    6]\n",
      " [ 196   37    1]\n",
      " [   6    2    1]]\n",
      "             precision    recall  f1-score   support\n",
      "\n",
      "          1       0.89      0.91      0.90      1757\n",
      "          2       0.19      0.16      0.17       234\n",
      "          3       0.12      0.11      0.12         9\n",
      "\n",
      "avg / total       0.80      0.82      0.81      2000\n",
      "\n"
     ]
    },
    {
     "data": {
      "text/plain": [
       "(array([0.90776422, 0.22861585, 0.02352941]),\n",
       " array([0.88645502, 0.28403289, 0.025     ]),\n",
       " array([0.93024934, 0.19273368, 0.02222222]))"
      ]
     },
     "execution_count": 57,
     "metadata": {},
     "output_type": "execute_result"
    }
   ],
   "source": [
    "rf1d = RandomForestClassifier(n_estimators=1000, class_weight=weights, min_samples_leaf=2)\n",
    "cv_features(rf1d,x1,y1)"
   ]
  },
  {
   "cell_type": "markdown",
   "metadata": {},
   "source": [
    "# Add Month"
   ]
  },
  {
   "cell_type": "code",
   "execution_count": 58,
   "metadata": {},
   "outputs": [],
   "source": [
    "x2 = np.array(fires[['LATITUDE', 'LONGITUDE', 'Month']])\n",
    "y2 = np.array(fires['CLASS'])"
   ]
  },
  {
   "cell_type": "code",
   "execution_count": 59,
   "metadata": {},
   "outputs": [
    {
     "name": "stdout",
     "output_type": "stream",
     "text": [
      "[[1738   19    0]\n",
      " [ 233    1    0]\n",
      " [   9    0    0]]\n",
      "             precision    recall  f1-score   support\n",
      "\n",
      "          1       0.88      0.99      0.93      1757\n",
      "          2       0.05      0.00      0.01       234\n",
      "          3       0.00      0.00      0.00         9\n",
      "\n",
      "avg / total       0.78      0.87      0.82      2000\n",
      "\n"
     ]
    },
    {
     "data": {
      "text/plain": [
       "(array([0.9254459 , 0.01471937, 0.        ]),\n",
       " array([0.87041323, 0.08616258, 0.        ]),\n",
       " array([0.98794842, 0.00807015, 0.        ]))"
      ]
     },
     "execution_count": 59,
     "metadata": {},
     "output_type": "execute_result"
    }
   ],
   "source": [
    "lr2 = LogisticRegression(C=100000, class_weight=weights)\n",
    "cv_features(lr2, x2, y2)"
   ]
  },
  {
   "cell_type": "code",
   "execution_count": 60,
   "metadata": {},
   "outputs": [
    {
     "name": "stdout",
     "output_type": "stream",
     "text": [
      "[[1712   45    0]\n",
      " [ 214   20    0]\n",
      " [   8    1    0]]\n",
      "             precision    recall  f1-score   support\n",
      "\n",
      "          1       0.89      0.97      0.93      1757\n",
      "          2       0.30      0.09      0.13       234\n",
      "          3       0.00      0.00      0.00         9\n",
      "\n",
      "avg / total       0.81      0.87      0.83      2000\n",
      "\n"
     ]
    },
    {
     "data": {
      "text/plain": [
       "(array([0.92400302, 0.1443942 , 0.        ]),\n",
       " array([0.87840543, 0.33940623, 0.        ]),\n",
       " array([0.97463583, 0.09199356, 0.        ]))"
      ]
     },
     "execution_count": 60,
     "metadata": {},
     "output_type": "execute_result"
    }
   ],
   "source": [
    "rf2 = RandomForestClassifier(n_estimators=1000, class_weight=weights)\n",
    "cv_features(rf2,x2,y2)"
   ]
  },
  {
   "cell_type": "markdown",
   "metadata": {},
   "source": [
    "# Set 3"
   ]
  },
  {
   "cell_type": "code",
   "execution_count": 62,
   "metadata": {},
   "outputs": [],
   "source": [
    "x3 = np.array(fires[['Month', 'LATITUDE', 'LONGITUDE', 'Prev_Lightning_Fires']])\n",
    "y3 = np.array(fires['CLASS'])\n"
   ]
  },
  {
   "cell_type": "code",
   "execution_count": 63,
   "metadata": {},
   "outputs": [
    {
     "name": "stdout",
     "output_type": "stream",
     "text": [
      "[[1727   30    0]\n",
      " [ 210   24    0]\n",
      " [   8    1    0]]\n",
      "             precision    recall  f1-score   support\n",
      "\n",
      "          1       0.89      0.98      0.93      1757\n",
      "          2       0.44      0.10      0.17       234\n",
      "          3       0.00      0.00      0.00         9\n",
      "\n",
      "avg / total       0.83      0.88      0.84      2000\n",
      "\n"
     ]
    },
    {
     "data": {
      "text/plain": [
       "(array([0.92758038, 0.13946911, 0.        ]),\n",
       " array([0.87838406, 0.40764271, 0.        ]),\n",
       " array([0.98266572, 0.08459302, 0.        ]))"
      ]
     },
     "execution_count": 63,
     "metadata": {},
     "output_type": "execute_result"
    }
   ],
   "source": [
    "rf3 = RandomForestClassifier(n_estimators=1000, class_weight=weights)\n",
    "cv_features(rf3,x3,y3)"
   ]
  },
  {
   "cell_type": "code",
   "execution_count": 65,
   "metadata": {},
   "outputs": [
    {
     "name": "stdout",
     "output_type": "stream",
     "text": [
      "[[1728   29    0]\n",
      " [ 212   22    0]\n",
      " [   8    1    0]]\n",
      "             precision    recall  f1-score   support\n",
      "\n",
      "          1       0.89      0.98      0.93      1757\n",
      "          2       0.42      0.09      0.15       234\n",
      "          3       0.00      0.00      0.00         9\n",
      "\n",
      "avg / total       0.83      0.88      0.84      2000\n",
      "\n"
     ]
    },
    {
     "data": {
      "text/plain": [
       "(array([0.92773487, 0.14194017, 0.        ]),\n",
       " array([0.87856261, 0.41322058, 0.        ]),\n",
       " array([0.98277019, 0.08593038, 0.        ]))"
      ]
     },
     "execution_count": 65,
     "metadata": {},
     "output_type": "execute_result"
    }
   ],
   "source": [
    "rf3b = RandomForestClassifier(n_estimators=1000, class_weight=weights, min_samples_leaf=2)\n",
    "cv_features(rf3,x3,y3)"
   ]
  },
  {
   "cell_type": "code",
   "execution_count": 66,
   "metadata": {},
   "outputs": [],
   "source": [
    "x4 = np.array(fires[['Month', 'LATITUDE', 'LONGITUDE', 'Prev_Lightning_Fires','Prev_Accident_Fires',\n",
    "       'Prev_Arson_Fires', 'Prev_Other_Fires']])\n",
    "y4 = np.array(fires['CLASS'])\n"
   ]
  },
  {
   "cell_type": "code",
   "execution_count": 69,
   "metadata": {},
   "outputs": [
    {
     "name": "stdout",
     "output_type": "stream",
     "text": [
      "[[1668   89    0]\n",
      " [ 190   43    1]\n",
      " [   8    1    0]]\n",
      "             precision    recall  f1-score   support\n",
      "\n",
      "          1       0.89      0.95      0.92      1757\n",
      "          2       0.32      0.18      0.23       234\n",
      "          3       0.00      0.00      0.00         9\n",
      "\n",
      "avg / total       0.82      0.86      0.84      2000\n",
      "\n"
     ]
    },
    {
     "data": {
      "text/plain": [
       "(array([0.91678225, 0.19241658, 0.        ]),\n",
       " array([0.88253832, 0.30252202, 0.        ]),\n",
       " array([0.95388203, 0.14215392, 0.        ]))"
      ]
     },
     "execution_count": 69,
     "metadata": {},
     "output_type": "execute_result"
    }
   ],
   "source": [
    "rf4 = RandomForestClassifier(n_estimators=1000, class_weight=weights2, min_samples_leaf=2)\n",
    "cv_features(rf4, x4, y4)"
   ]
  },
  {
   "cell_type": "markdown",
   "metadata": {},
   "source": [
    "# Add 'Prev_Fires_Same_Month', 'Prev_Fires_Same_DayofWeek'"
   ]
  },
  {
   "cell_type": "code",
   "execution_count": 70,
   "metadata": {},
   "outputs": [],
   "source": [
    "    x5 = np.array(fires[['Month', 'LATITUDE', 'LONGITUDE', 'Prev_Lightning_Fires','Prev_Accident_Fires',\n",
    "           'Prev_Arson_Fires', 'Prev_Other_Fires', 'Prev_Fires_Same_Month', 'Prev_Fires_Same_DayofWeek']])\n",
    "    y5 = np.array(fires['CLASS'])\n"
   ]
  },
  {
   "cell_type": "code",
   "execution_count": 75,
   "metadata": {},
   "outputs": [
    {
     "name": "stdout",
     "output_type": "stream",
     "text": [
      "[[1505  252    0]\n",
      " [ 152   81    1]\n",
      " [   8    1    0]]\n",
      "             precision    recall  f1-score   support\n",
      "\n",
      "          1       0.90      0.86      0.88      1757\n",
      "          2       0.24      0.35      0.29       234\n",
      "          3       0.00      0.00      0.00         9\n",
      "\n",
      "avg / total       0.82      0.79      0.81      2000\n",
      "\n"
     ]
    },
    {
     "data": {
      "text/plain": [
       "(array([0.87749225, 0.28141006, 0.        ]),\n",
       " array([0.89500453, 0.24806912, 0.        ]),\n",
       " array([0.86076093, 0.32678089, 0.        ]))"
      ]
     },
     "execution_count": 75,
     "metadata": {},
     "output_type": "execute_result"
    }
   ],
   "source": [
    "rf5 = RandomForestClassifier(n_estimators=1000, class_weight=weights2, max_depth=15)\n",
    "cv_features(rf5, x5, y5)"
   ]
  },
  {
   "cell_type": "code",
   "execution_count": 79,
   "metadata": {},
   "outputs": [
    {
     "name": "stdout",
     "output_type": "stream",
     "text": [
      "Original dataset shape Counter({1: 6962, 2: 994, 3: 44})\n",
      "Oversampled dataset shape Counter({1: 6962, 2: 6962, 3: 6962})\n",
      "Original dataset shape Counter({1: 6994, 2: 961, 3: 45})\n",
      "Oversampled dataset shape Counter({1: 6994, 2: 6994, 3: 6994})\n",
      "Original dataset shape Counter({1: 6961, 2: 996, 3: 43})\n",
      "Oversampled dataset shape Counter({1: 6961, 2: 6961, 3: 6961})\n",
      "Original dataset shape Counter({1: 6967, 2: 988, 3: 45})\n",
      "Oversampled dataset shape Counter({1: 6967, 2: 6967, 3: 6967})\n",
      "Original dataset shape Counter({1: 6952, 2: 1001, 3: 47})\n",
      "Oversampled dataset shape Counter({1: 6952, 2: 6952, 3: 6952})\n",
      "[[813 779 165]\n",
      " [ 50 168  16]\n",
      " [  2   4   3]]\n",
      "             precision    recall  f1-score   support\n",
      "\n",
      "          1       0.94      0.46      0.62      1757\n",
      "          2       0.18      0.72      0.28       234\n",
      "          3       0.02      0.33      0.03         9\n",
      "\n",
      "avg / total       0.85      0.49      0.58      2000\n",
      "\n"
     ]
    },
    {
     "data": {
      "text/plain": [
       "(array([0.61719168, 0.28379349, 0.04024074]),\n",
       " array([0.9273853 , 0.17935278, 0.02128328]),\n",
       " array([0.46309654, 0.68328325, 0.37564103]))"
      ]
     },
     "execution_count": 79,
     "metadata": {},
     "output_type": "execute_result"
    }
   ],
   "source": [
    "rf5b = RandomForestClassifier(n_estimators=1000)\n",
    "cv_features_withROS(rf5, x5, y5)"
   ]
  },
  {
   "cell_type": "code",
   "execution_count": 80,
   "metadata": {},
   "outputs": [
    {
     "name": "stdout",
     "output_type": "stream",
     "text": [
      "Original dataset shape Counter({1: 6962, 2: 994, 3: 44})\n",
      "Oversampled dataset shape Counter({1: 6962, 2: 6962, 3: 6962})\n",
      "Original dataset shape Counter({1: 6994, 2: 961, 3: 45})\n",
      "Oversampled dataset shape Counter({1: 6994, 2: 6994, 3: 6994})\n",
      "Original dataset shape Counter({1: 6961, 2: 996, 3: 43})\n",
      "Oversampled dataset shape Counter({1: 6961, 2: 6961, 3: 6961})\n",
      "Original dataset shape Counter({1: 6967, 2: 988, 3: 45})\n",
      "Oversampled dataset shape Counter({1: 6967, 2: 6967, 3: 6967})\n",
      "Original dataset shape Counter({1: 6952, 2: 1001, 3: 47})\n",
      "Oversampled dataset shape Counter({1: 6952, 2: 6952, 3: 6952})\n",
      "[[1667   89    1]\n",
      " [ 198   35    1]\n",
      " [   7    2    0]]\n",
      "             precision    recall  f1-score   support\n",
      "\n",
      "          1       0.89      0.95      0.92      1757\n",
      "          2       0.28      0.15      0.19       234\n",
      "          3       0.00      0.00      0.00         9\n",
      "\n",
      "avg / total       0.81      0.85      0.83      2000\n",
      "\n"
     ]
    },
    {
     "data": {
      "text/plain": [
       "(array([0.91507073, 0.17698256, 0.        ]),\n",
       " array([0.88084643, 0.27891108, 0.        ]),\n",
       " array([0.95215266, 0.13059184, 0.        ]))"
      ]
     },
     "execution_count": 80,
     "metadata": {},
     "output_type": "execute_result"
    }
   ],
   "source": [
    "weights3 = {1:1, 2:18, 3:130} \n",
    "rf5c = RandomForestClassifier(n_estimators=1000, class_weight=weights3)\n",
    "cv_features_withROS(rf5c, x5, y5)"
   ]
  },
  {
   "cell_type": "code",
   "execution_count": 76,
   "metadata": {},
   "outputs": [],
   "source": [
    "x6 = np.array(fires[['Month', 'Prev_Lightning_Fires', 'Prev_Accident_Fires',\n",
    "       'Prev_Arson_Fires', 'Prev_Other_Fires', 'Prev_Fires_Same_Month', 'Prev_Fires_Same_DayofWeek', 'LATITUDE', 'LONGITUDE', 'StateID']])\n",
    "y6= np.array(fires['CLASS'])"
   ]
  },
  {
   "cell_type": "code",
   "execution_count": 77,
   "metadata": {},
   "outputs": [
    {
     "name": "stdout",
     "output_type": "stream",
     "text": [
      "[[1596  161    0]\n",
      " [ 172   62    0]\n",
      " [   8    1    0]]\n",
      "             precision    recall  f1-score   support\n",
      "\n",
      "          1       0.90      0.91      0.90      1757\n",
      "          2       0.28      0.26      0.27       234\n",
      "          3       0.00      0.00      0.00         9\n",
      "\n",
      "avg / total       0.82      0.83      0.83      2000\n",
      "\n"
     ]
    },
    {
     "data": {
      "text/plain": [
       "(array([0.89852164, 0.25627174, 0.        ]),\n",
       " array([0.88932018, 0.27218489, 0.        ]),\n",
       " array([0.9080772 , 0.24441948, 0.        ]))"
      ]
     },
     "execution_count": 77,
     "metadata": {},
     "output_type": "execute_result"
    }
   ],
   "source": [
    "rf6 = RandomForestClassifier(n_estimators=1000, class_weight=weights2, max_depth=16)\n",
    "cv_features(rf6, x6, y6)"
   ]
  },
  {
   "cell_type": "code",
   "execution_count": null,
   "metadata": {},
   "outputs": [],
   "source": []
  },
  {
   "cell_type": "code",
   "execution_count": 8,
   "metadata": {},
   "outputs": [],
   "source": [
    "x7 = np.array(fires[['Month', 'Prev_Lightning_Fires', 'Prev_Accident_Fires',\n",
    "       'Prev_Arson_Fires', 'Prev_Other_Fires', 'Prev_Fires_Same_Month', 'Prev_Fires_Same_DayofWeek', 'LATITUDE', 'LONGITUDE', 'StateID', 'COUNTY_ID']])\n",
    "y7= np.array(fires['CLASS'])"
   ]
  },
  {
   "cell_type": "code",
   "execution_count": 84,
   "metadata": {},
   "outputs": [
    {
     "name": "stdout",
     "output_type": "stream",
     "text": [
      "[[1734   23    0]\n",
      " [ 218   16    0]\n",
      " [   9    0    0]]\n",
      "             precision    recall  f1-score   support\n",
      "\n",
      "          1       0.88      0.99      0.93      1757\n",
      "          2       0.41      0.07      0.12       234\n",
      "          3       0.00      0.00      0.00         9\n",
      "\n",
      "avg / total       0.82      0.88      0.83      2000\n",
      "\n"
     ]
    },
    {
     "data": {
      "text/plain": [
       "(array([0.92894483, 0.09883236, 0.        ]),\n",
       " array([0.87599717, 0.40788812, 0.        ]),\n",
       " array([0.98874797, 0.05633319, 0.        ]))"
      ]
     },
     "execution_count": 84,
     "metadata": {},
     "output_type": "execute_result"
    }
   ],
   "source": [
    "rf7 = RandomForestClassifier(n_estimators=1000, class_weight=weights2)\n",
    "cv_features(rf7, x7, y7)"
   ]
  },
  {
   "cell_type": "code",
   "execution_count": 85,
   "metadata": {},
   "outputs": [
    {
     "name": "stdout",
     "output_type": "stream",
     "text": [
      "[[1570  185    2]\n",
      " [ 170   63    1]\n",
      " [   7    1    1]]\n",
      "             precision    recall  f1-score   support\n",
      "\n",
      "          1       0.90      0.89      0.90      1757\n",
      "          2       0.25      0.27      0.26       234\n",
      "          3       0.25      0.11      0.15         9\n",
      "\n",
      "avg / total       0.82      0.82      0.82      2000\n",
      "\n"
     ]
    },
    {
     "data": {
      "text/plain": [
       "(array([0.89688295, 0.2933042 , 0.03076923]),\n",
       " array([0.89600322, 0.29165566, 0.05      ]),\n",
       " array([0.89786249, 0.29664183, 0.02222222]))"
      ]
     },
     "execution_count": 85,
     "metadata": {},
     "output_type": "execute_result"
    }
   ],
   "source": [
    "rf7 = RandomForestClassifier(n_estimators=1000, class_weight=weights2, min_samples_leaf=4)\n",
    "cv_features(rf7, x7, y7)"
   ]
  },
  {
   "cell_type": "code",
   "execution_count": 86,
   "metadata": {
    "scrolled": true
   },
   "outputs": [
    {
     "name": "stdout",
     "output_type": "stream",
     "text": [
      "[[1564  190    3]\n",
      " [ 168   65    1]\n",
      " [   7    1    1]]\n",
      "             precision    recall  f1-score   support\n",
      "\n",
      "          1       0.90      0.89      0.89      1757\n",
      "          2       0.25      0.28      0.27       234\n",
      "          3       0.20      0.11      0.14         9\n",
      "\n",
      "avg / total       0.82      0.81      0.82      2000\n",
      "\n"
     ]
    },
    {
     "data": {
      "text/plain": [
       "(array([0.89473437, 0.28548892, 0.02857143]),\n",
       " array([0.89505378, 0.28210937, 0.04      ]),\n",
       " array([0.89454573, 0.29109479, 0.02222222]))"
      ]
     },
     "execution_count": 86,
     "metadata": {},
     "output_type": "execute_result"
    }
   ],
   "source": [
    "rf7 = RandomForestClassifier(n_estimators=1000, class_weight=weights2, min_samples_leaf=4, max_features='log2')\n",
    "cv_features(rf7, x7, y7)"
   ]
  },
  {
   "cell_type": "code",
   "execution_count": 12,
   "metadata": {},
   "outputs": [
    {
     "name": "stdout",
     "output_type": "stream",
     "text": [
      "[[1722   35    0]\n",
      " [ 216   17    1]\n",
      " [   9    0    0]]\n",
      "             precision    recall  f1-score   support\n",
      "\n",
      "          1       0.88      0.98      0.93      1757\n",
      "          2       0.33      0.07      0.12       234\n",
      "          3       0.00      0.00      0.00         9\n",
      "\n",
      "avg / total       0.82      0.87      0.83      2000\n",
      "\n"
     ]
    },
    {
     "data": {
      "text/plain": [
       "(array([0.92672029, 0.11624193, 0.        ]),\n",
       " array([0.87692765, 0.35824176, 0.        ]),\n",
       " array([0.98255509, 0.06965919, 0.        ]))"
      ]
     },
     "execution_count": 12,
     "metadata": {},
     "output_type": "execute_result"
    }
   ],
   "source": [
    "rf7b = RandomForestClassifier(n_estimators=1000, class_weight='balanced', max_depth=20)\n",
    "cv_features(rf7b, x7, y7)"
   ]
  },
  {
   "cell_type": "code",
   "execution_count": null,
   "metadata": {},
   "outputs": [],
   "source": []
  },
  {
   "cell_type": "code",
   "execution_count": null,
   "metadata": {},
   "outputs": [],
   "source": []
  },
  {
   "cell_type": "code",
   "execution_count": null,
   "metadata": {},
   "outputs": [],
   "source": []
  },
  {
   "cell_type": "code",
   "execution_count": null,
   "metadata": {},
   "outputs": [],
   "source": []
  },
  {
   "cell_type": "code",
   "execution_count": null,
   "metadata": {},
   "outputs": [],
   "source": []
  },
  {
   "cell_type": "code",
   "execution_count": null,
   "metadata": {},
   "outputs": [],
   "source": []
  },
  {
   "cell_type": "code",
   "execution_count": null,
   "metadata": {},
   "outputs": [],
   "source": []
  },
  {
   "cell_type": "code",
   "execution_count": 98,
   "metadata": {},
   "outputs": [],
   "source": [
    "from sklearn.model_selection import GridSearchCV\n",
    "max_depth_range = [None,4,20]\n",
    "max_features = ['auto','log2']\n",
    "min_sample_leaf = [1,2,4]\n",
    "weight_range = [weights, weights3]\n",
    "param_grid = {'max_depth':max_depth_range, 'min_samples_leaf':min_sample_leaf, 'class_weight':weight_range, 'max_features':max_features}\n",
    "grid = GridSearchCV(rf7, param_grid, cv=5, scoring='f1_weighted')"
   ]
  },
  {
   "cell_type": "code",
   "execution_count": null,
   "metadata": {},
   "outputs": [],
   "source": []
  },
  {
   "cell_type": "code",
   "execution_count": 99,
   "metadata": {},
   "outputs": [
    {
     "ename": "KeyboardInterrupt",
     "evalue": "",
     "output_type": "error",
     "traceback": [
      "\u001b[0;31m---------------------------------------------------------------------------\u001b[0m",
      "\u001b[0;31mKeyboardInterrupt\u001b[0m                         Traceback (most recent call last)",
      "\u001b[0;32m<ipython-input-99-be81d5eb457f>\u001b[0m in \u001b[0;36m<module>\u001b[0;34m()\u001b[0m\n\u001b[0;32m----> 1\u001b[0;31m \u001b[0mgrid\u001b[0m\u001b[0;34m.\u001b[0m\u001b[0mfit\u001b[0m\u001b[0;34m(\u001b[0m\u001b[0mx7\u001b[0m\u001b[0;34m,\u001b[0m \u001b[0my7\u001b[0m\u001b[0;34m)\u001b[0m\u001b[0;34m\u001b[0m\u001b[0m\n\u001b[0m",
      "\u001b[0;32m~/anaconda3/lib/python3.6/site-packages/sklearn/model_selection/_search.py\u001b[0m in \u001b[0;36mfit\u001b[0;34m(self, X, y, groups, **fit_params)\u001b[0m\n\u001b[1;32m    637\u001b[0m                                   error_score=self.error_score)\n\u001b[1;32m    638\u001b[0m           for parameters, (train, test) in product(candidate_params,\n\u001b[0;32m--> 639\u001b[0;31m                                                    cv.split(X, y, groups)))\n\u001b[0m\u001b[1;32m    640\u001b[0m \u001b[0;34m\u001b[0m\u001b[0m\n\u001b[1;32m    641\u001b[0m         \u001b[0;31m# if one choose to see train score, \"out\" will contain train score info\u001b[0m\u001b[0;34m\u001b[0m\u001b[0;34m\u001b[0m\u001b[0m\n",
      "\u001b[0;32m~/anaconda3/lib/python3.6/site-packages/sklearn/externals/joblib/parallel.py\u001b[0m in \u001b[0;36m__call__\u001b[0;34m(self, iterable)\u001b[0m\n\u001b[1;32m    777\u001b[0m             \u001b[0;31m# was dispatched. In particular this covers the edge\u001b[0m\u001b[0;34m\u001b[0m\u001b[0;34m\u001b[0m\u001b[0m\n\u001b[1;32m    778\u001b[0m             \u001b[0;31m# case of Parallel used with an exhausted iterator.\u001b[0m\u001b[0;34m\u001b[0m\u001b[0;34m\u001b[0m\u001b[0m\n\u001b[0;32m--> 779\u001b[0;31m             \u001b[0;32mwhile\u001b[0m \u001b[0mself\u001b[0m\u001b[0;34m.\u001b[0m\u001b[0mdispatch_one_batch\u001b[0m\u001b[0;34m(\u001b[0m\u001b[0miterator\u001b[0m\u001b[0;34m)\u001b[0m\u001b[0;34m:\u001b[0m\u001b[0;34m\u001b[0m\u001b[0m\n\u001b[0m\u001b[1;32m    780\u001b[0m                 \u001b[0mself\u001b[0m\u001b[0;34m.\u001b[0m\u001b[0m_iterating\u001b[0m \u001b[0;34m=\u001b[0m \u001b[0;32mTrue\u001b[0m\u001b[0;34m\u001b[0m\u001b[0m\n\u001b[1;32m    781\u001b[0m             \u001b[0;32melse\u001b[0m\u001b[0;34m:\u001b[0m\u001b[0;34m\u001b[0m\u001b[0m\n",
      "\u001b[0;32m~/anaconda3/lib/python3.6/site-packages/sklearn/externals/joblib/parallel.py\u001b[0m in \u001b[0;36mdispatch_one_batch\u001b[0;34m(self, iterator)\u001b[0m\n\u001b[1;32m    623\u001b[0m                 \u001b[0;32mreturn\u001b[0m \u001b[0;32mFalse\u001b[0m\u001b[0;34m\u001b[0m\u001b[0m\n\u001b[1;32m    624\u001b[0m             \u001b[0;32melse\u001b[0m\u001b[0;34m:\u001b[0m\u001b[0;34m\u001b[0m\u001b[0m\n\u001b[0;32m--> 625\u001b[0;31m                 \u001b[0mself\u001b[0m\u001b[0;34m.\u001b[0m\u001b[0m_dispatch\u001b[0m\u001b[0;34m(\u001b[0m\u001b[0mtasks\u001b[0m\u001b[0;34m)\u001b[0m\u001b[0;34m\u001b[0m\u001b[0m\n\u001b[0m\u001b[1;32m    626\u001b[0m                 \u001b[0;32mreturn\u001b[0m \u001b[0;32mTrue\u001b[0m\u001b[0;34m\u001b[0m\u001b[0m\n\u001b[1;32m    627\u001b[0m \u001b[0;34m\u001b[0m\u001b[0m\n",
      "\u001b[0;32m~/anaconda3/lib/python3.6/site-packages/sklearn/externals/joblib/parallel.py\u001b[0m in \u001b[0;36m_dispatch\u001b[0;34m(self, batch)\u001b[0m\n\u001b[1;32m    586\u001b[0m         \u001b[0mdispatch_timestamp\u001b[0m \u001b[0;34m=\u001b[0m \u001b[0mtime\u001b[0m\u001b[0;34m.\u001b[0m\u001b[0mtime\u001b[0m\u001b[0;34m(\u001b[0m\u001b[0;34m)\u001b[0m\u001b[0;34m\u001b[0m\u001b[0m\n\u001b[1;32m    587\u001b[0m         \u001b[0mcb\u001b[0m \u001b[0;34m=\u001b[0m \u001b[0mBatchCompletionCallBack\u001b[0m\u001b[0;34m(\u001b[0m\u001b[0mdispatch_timestamp\u001b[0m\u001b[0;34m,\u001b[0m \u001b[0mlen\u001b[0m\u001b[0;34m(\u001b[0m\u001b[0mbatch\u001b[0m\u001b[0;34m)\u001b[0m\u001b[0;34m,\u001b[0m \u001b[0mself\u001b[0m\u001b[0;34m)\u001b[0m\u001b[0;34m\u001b[0m\u001b[0m\n\u001b[0;32m--> 588\u001b[0;31m         \u001b[0mjob\u001b[0m \u001b[0;34m=\u001b[0m \u001b[0mself\u001b[0m\u001b[0;34m.\u001b[0m\u001b[0m_backend\u001b[0m\u001b[0;34m.\u001b[0m\u001b[0mapply_async\u001b[0m\u001b[0;34m(\u001b[0m\u001b[0mbatch\u001b[0m\u001b[0;34m,\u001b[0m \u001b[0mcallback\u001b[0m\u001b[0;34m=\u001b[0m\u001b[0mcb\u001b[0m\u001b[0;34m)\u001b[0m\u001b[0;34m\u001b[0m\u001b[0m\n\u001b[0m\u001b[1;32m    589\u001b[0m         \u001b[0mself\u001b[0m\u001b[0;34m.\u001b[0m\u001b[0m_jobs\u001b[0m\u001b[0;34m.\u001b[0m\u001b[0mappend\u001b[0m\u001b[0;34m(\u001b[0m\u001b[0mjob\u001b[0m\u001b[0;34m)\u001b[0m\u001b[0;34m\u001b[0m\u001b[0m\n\u001b[1;32m    590\u001b[0m \u001b[0;34m\u001b[0m\u001b[0m\n",
      "\u001b[0;32m~/anaconda3/lib/python3.6/site-packages/sklearn/externals/joblib/_parallel_backends.py\u001b[0m in \u001b[0;36mapply_async\u001b[0;34m(self, func, callback)\u001b[0m\n\u001b[1;32m    109\u001b[0m     \u001b[0;32mdef\u001b[0m \u001b[0mapply_async\u001b[0m\u001b[0;34m(\u001b[0m\u001b[0mself\u001b[0m\u001b[0;34m,\u001b[0m \u001b[0mfunc\u001b[0m\u001b[0;34m,\u001b[0m \u001b[0mcallback\u001b[0m\u001b[0;34m=\u001b[0m\u001b[0;32mNone\u001b[0m\u001b[0;34m)\u001b[0m\u001b[0;34m:\u001b[0m\u001b[0;34m\u001b[0m\u001b[0m\n\u001b[1;32m    110\u001b[0m         \u001b[0;34m\"\"\"Schedule a func to be run\"\"\"\u001b[0m\u001b[0;34m\u001b[0m\u001b[0m\n\u001b[0;32m--> 111\u001b[0;31m         \u001b[0mresult\u001b[0m \u001b[0;34m=\u001b[0m \u001b[0mImmediateResult\u001b[0m\u001b[0;34m(\u001b[0m\u001b[0mfunc\u001b[0m\u001b[0;34m)\u001b[0m\u001b[0;34m\u001b[0m\u001b[0m\n\u001b[0m\u001b[1;32m    112\u001b[0m         \u001b[0;32mif\u001b[0m \u001b[0mcallback\u001b[0m\u001b[0;34m:\u001b[0m\u001b[0;34m\u001b[0m\u001b[0m\n\u001b[1;32m    113\u001b[0m             \u001b[0mcallback\u001b[0m\u001b[0;34m(\u001b[0m\u001b[0mresult\u001b[0m\u001b[0;34m)\u001b[0m\u001b[0;34m\u001b[0m\u001b[0m\n",
      "\u001b[0;32m~/anaconda3/lib/python3.6/site-packages/sklearn/externals/joblib/_parallel_backends.py\u001b[0m in \u001b[0;36m__init__\u001b[0;34m(self, batch)\u001b[0m\n\u001b[1;32m    330\u001b[0m         \u001b[0;31m# Don't delay the application, to avoid keeping the input\u001b[0m\u001b[0;34m\u001b[0m\u001b[0;34m\u001b[0m\u001b[0m\n\u001b[1;32m    331\u001b[0m         \u001b[0;31m# arguments in memory\u001b[0m\u001b[0;34m\u001b[0m\u001b[0;34m\u001b[0m\u001b[0m\n\u001b[0;32m--> 332\u001b[0;31m         \u001b[0mself\u001b[0m\u001b[0;34m.\u001b[0m\u001b[0mresults\u001b[0m \u001b[0;34m=\u001b[0m \u001b[0mbatch\u001b[0m\u001b[0;34m(\u001b[0m\u001b[0;34m)\u001b[0m\u001b[0;34m\u001b[0m\u001b[0m\n\u001b[0m\u001b[1;32m    333\u001b[0m \u001b[0;34m\u001b[0m\u001b[0m\n\u001b[1;32m    334\u001b[0m     \u001b[0;32mdef\u001b[0m \u001b[0mget\u001b[0m\u001b[0;34m(\u001b[0m\u001b[0mself\u001b[0m\u001b[0;34m)\u001b[0m\u001b[0;34m:\u001b[0m\u001b[0;34m\u001b[0m\u001b[0m\n",
      "\u001b[0;32m~/anaconda3/lib/python3.6/site-packages/sklearn/externals/joblib/parallel.py\u001b[0m in \u001b[0;36m__call__\u001b[0;34m(self)\u001b[0m\n\u001b[1;32m    129\u001b[0m \u001b[0;34m\u001b[0m\u001b[0m\n\u001b[1;32m    130\u001b[0m     \u001b[0;32mdef\u001b[0m \u001b[0m__call__\u001b[0m\u001b[0;34m(\u001b[0m\u001b[0mself\u001b[0m\u001b[0;34m)\u001b[0m\u001b[0;34m:\u001b[0m\u001b[0;34m\u001b[0m\u001b[0m\n\u001b[0;32m--> 131\u001b[0;31m         \u001b[0;32mreturn\u001b[0m \u001b[0;34m[\u001b[0m\u001b[0mfunc\u001b[0m\u001b[0;34m(\u001b[0m\u001b[0;34m*\u001b[0m\u001b[0margs\u001b[0m\u001b[0;34m,\u001b[0m \u001b[0;34m**\u001b[0m\u001b[0mkwargs\u001b[0m\u001b[0;34m)\u001b[0m \u001b[0;32mfor\u001b[0m \u001b[0mfunc\u001b[0m\u001b[0;34m,\u001b[0m \u001b[0margs\u001b[0m\u001b[0;34m,\u001b[0m \u001b[0mkwargs\u001b[0m \u001b[0;32min\u001b[0m \u001b[0mself\u001b[0m\u001b[0;34m.\u001b[0m\u001b[0mitems\u001b[0m\u001b[0;34m]\u001b[0m\u001b[0;34m\u001b[0m\u001b[0m\n\u001b[0m\u001b[1;32m    132\u001b[0m \u001b[0;34m\u001b[0m\u001b[0m\n\u001b[1;32m    133\u001b[0m     \u001b[0;32mdef\u001b[0m \u001b[0m__len__\u001b[0m\u001b[0;34m(\u001b[0m\u001b[0mself\u001b[0m\u001b[0;34m)\u001b[0m\u001b[0;34m:\u001b[0m\u001b[0;34m\u001b[0m\u001b[0m\n",
      "\u001b[0;32m~/anaconda3/lib/python3.6/site-packages/sklearn/externals/joblib/parallel.py\u001b[0m in \u001b[0;36m<listcomp>\u001b[0;34m(.0)\u001b[0m\n\u001b[1;32m    129\u001b[0m \u001b[0;34m\u001b[0m\u001b[0m\n\u001b[1;32m    130\u001b[0m     \u001b[0;32mdef\u001b[0m \u001b[0m__call__\u001b[0m\u001b[0;34m(\u001b[0m\u001b[0mself\u001b[0m\u001b[0;34m)\u001b[0m\u001b[0;34m:\u001b[0m\u001b[0;34m\u001b[0m\u001b[0m\n\u001b[0;32m--> 131\u001b[0;31m         \u001b[0;32mreturn\u001b[0m \u001b[0;34m[\u001b[0m\u001b[0mfunc\u001b[0m\u001b[0;34m(\u001b[0m\u001b[0;34m*\u001b[0m\u001b[0margs\u001b[0m\u001b[0;34m,\u001b[0m \u001b[0;34m**\u001b[0m\u001b[0mkwargs\u001b[0m\u001b[0;34m)\u001b[0m \u001b[0;32mfor\u001b[0m \u001b[0mfunc\u001b[0m\u001b[0;34m,\u001b[0m \u001b[0margs\u001b[0m\u001b[0;34m,\u001b[0m \u001b[0mkwargs\u001b[0m \u001b[0;32min\u001b[0m \u001b[0mself\u001b[0m\u001b[0;34m.\u001b[0m\u001b[0mitems\u001b[0m\u001b[0;34m]\u001b[0m\u001b[0;34m\u001b[0m\u001b[0m\n\u001b[0m\u001b[1;32m    132\u001b[0m \u001b[0;34m\u001b[0m\u001b[0m\n\u001b[1;32m    133\u001b[0m     \u001b[0;32mdef\u001b[0m \u001b[0m__len__\u001b[0m\u001b[0;34m(\u001b[0m\u001b[0mself\u001b[0m\u001b[0;34m)\u001b[0m\u001b[0;34m:\u001b[0m\u001b[0;34m\u001b[0m\u001b[0m\n",
      "\u001b[0;32m~/anaconda3/lib/python3.6/site-packages/sklearn/model_selection/_validation.py\u001b[0m in \u001b[0;36m_fit_and_score\u001b[0;34m(estimator, X, y, scorer, train, test, verbose, parameters, fit_params, return_train_score, return_parameters, return_n_test_samples, return_times, error_score)\u001b[0m\n\u001b[1;32m    456\u001b[0m             \u001b[0mestimator\u001b[0m\u001b[0;34m.\u001b[0m\u001b[0mfit\u001b[0m\u001b[0;34m(\u001b[0m\u001b[0mX_train\u001b[0m\u001b[0;34m,\u001b[0m \u001b[0;34m**\u001b[0m\u001b[0mfit_params\u001b[0m\u001b[0;34m)\u001b[0m\u001b[0;34m\u001b[0m\u001b[0m\n\u001b[1;32m    457\u001b[0m         \u001b[0;32melse\u001b[0m\u001b[0;34m:\u001b[0m\u001b[0;34m\u001b[0m\u001b[0m\n\u001b[0;32m--> 458\u001b[0;31m             \u001b[0mestimator\u001b[0m\u001b[0;34m.\u001b[0m\u001b[0mfit\u001b[0m\u001b[0;34m(\u001b[0m\u001b[0mX_train\u001b[0m\u001b[0;34m,\u001b[0m \u001b[0my_train\u001b[0m\u001b[0;34m,\u001b[0m \u001b[0;34m**\u001b[0m\u001b[0mfit_params\u001b[0m\u001b[0;34m)\u001b[0m\u001b[0;34m\u001b[0m\u001b[0m\n\u001b[0m\u001b[1;32m    459\u001b[0m \u001b[0;34m\u001b[0m\u001b[0m\n\u001b[1;32m    460\u001b[0m     \u001b[0;32mexcept\u001b[0m \u001b[0mException\u001b[0m \u001b[0;32mas\u001b[0m \u001b[0me\u001b[0m\u001b[0;34m:\u001b[0m\u001b[0;34m\u001b[0m\u001b[0m\n",
      "\u001b[0;32m~/anaconda3/lib/python3.6/site-packages/sklearn/ensemble/forest.py\u001b[0m in \u001b[0;36mfit\u001b[0;34m(self, X, y, sample_weight)\u001b[0m\n\u001b[1;32m    326\u001b[0m                     \u001b[0mt\u001b[0m\u001b[0;34m,\u001b[0m \u001b[0mself\u001b[0m\u001b[0;34m,\u001b[0m \u001b[0mX\u001b[0m\u001b[0;34m,\u001b[0m \u001b[0my\u001b[0m\u001b[0;34m,\u001b[0m \u001b[0msample_weight\u001b[0m\u001b[0;34m,\u001b[0m \u001b[0mi\u001b[0m\u001b[0;34m,\u001b[0m \u001b[0mlen\u001b[0m\u001b[0;34m(\u001b[0m\u001b[0mtrees\u001b[0m\u001b[0;34m)\u001b[0m\u001b[0;34m,\u001b[0m\u001b[0;34m\u001b[0m\u001b[0m\n\u001b[1;32m    327\u001b[0m                     verbose=self.verbose, class_weight=self.class_weight)\n\u001b[0;32m--> 328\u001b[0;31m                 for i, t in enumerate(trees))\n\u001b[0m\u001b[1;32m    329\u001b[0m \u001b[0;34m\u001b[0m\u001b[0m\n\u001b[1;32m    330\u001b[0m             \u001b[0;31m# Collect newly grown trees\u001b[0m\u001b[0;34m\u001b[0m\u001b[0;34m\u001b[0m\u001b[0m\n",
      "\u001b[0;32m~/anaconda3/lib/python3.6/site-packages/sklearn/externals/joblib/parallel.py\u001b[0m in \u001b[0;36m__call__\u001b[0;34m(self, iterable)\u001b[0m\n\u001b[1;32m    777\u001b[0m             \u001b[0;31m# was dispatched. In particular this covers the edge\u001b[0m\u001b[0;34m\u001b[0m\u001b[0;34m\u001b[0m\u001b[0m\n\u001b[1;32m    778\u001b[0m             \u001b[0;31m# case of Parallel used with an exhausted iterator.\u001b[0m\u001b[0;34m\u001b[0m\u001b[0;34m\u001b[0m\u001b[0m\n\u001b[0;32m--> 779\u001b[0;31m             \u001b[0;32mwhile\u001b[0m \u001b[0mself\u001b[0m\u001b[0;34m.\u001b[0m\u001b[0mdispatch_one_batch\u001b[0m\u001b[0;34m(\u001b[0m\u001b[0miterator\u001b[0m\u001b[0;34m)\u001b[0m\u001b[0;34m:\u001b[0m\u001b[0;34m\u001b[0m\u001b[0m\n\u001b[0m\u001b[1;32m    780\u001b[0m                 \u001b[0mself\u001b[0m\u001b[0;34m.\u001b[0m\u001b[0m_iterating\u001b[0m \u001b[0;34m=\u001b[0m \u001b[0;32mTrue\u001b[0m\u001b[0;34m\u001b[0m\u001b[0m\n\u001b[1;32m    781\u001b[0m             \u001b[0;32melse\u001b[0m\u001b[0;34m:\u001b[0m\u001b[0;34m\u001b[0m\u001b[0m\n",
      "\u001b[0;32m~/anaconda3/lib/python3.6/site-packages/sklearn/externals/joblib/parallel.py\u001b[0m in \u001b[0;36mdispatch_one_batch\u001b[0;34m(self, iterator)\u001b[0m\n\u001b[1;32m    623\u001b[0m                 \u001b[0;32mreturn\u001b[0m \u001b[0;32mFalse\u001b[0m\u001b[0;34m\u001b[0m\u001b[0m\n\u001b[1;32m    624\u001b[0m             \u001b[0;32melse\u001b[0m\u001b[0;34m:\u001b[0m\u001b[0;34m\u001b[0m\u001b[0m\n\u001b[0;32m--> 625\u001b[0;31m                 \u001b[0mself\u001b[0m\u001b[0;34m.\u001b[0m\u001b[0m_dispatch\u001b[0m\u001b[0;34m(\u001b[0m\u001b[0mtasks\u001b[0m\u001b[0;34m)\u001b[0m\u001b[0;34m\u001b[0m\u001b[0m\n\u001b[0m\u001b[1;32m    626\u001b[0m                 \u001b[0;32mreturn\u001b[0m \u001b[0;32mTrue\u001b[0m\u001b[0;34m\u001b[0m\u001b[0m\n\u001b[1;32m    627\u001b[0m \u001b[0;34m\u001b[0m\u001b[0m\n",
      "\u001b[0;32m~/anaconda3/lib/python3.6/site-packages/sklearn/externals/joblib/parallel.py\u001b[0m in \u001b[0;36m_dispatch\u001b[0;34m(self, batch)\u001b[0m\n\u001b[1;32m    586\u001b[0m         \u001b[0mdispatch_timestamp\u001b[0m \u001b[0;34m=\u001b[0m \u001b[0mtime\u001b[0m\u001b[0;34m.\u001b[0m\u001b[0mtime\u001b[0m\u001b[0;34m(\u001b[0m\u001b[0;34m)\u001b[0m\u001b[0;34m\u001b[0m\u001b[0m\n\u001b[1;32m    587\u001b[0m         \u001b[0mcb\u001b[0m \u001b[0;34m=\u001b[0m \u001b[0mBatchCompletionCallBack\u001b[0m\u001b[0;34m(\u001b[0m\u001b[0mdispatch_timestamp\u001b[0m\u001b[0;34m,\u001b[0m \u001b[0mlen\u001b[0m\u001b[0;34m(\u001b[0m\u001b[0mbatch\u001b[0m\u001b[0;34m)\u001b[0m\u001b[0;34m,\u001b[0m \u001b[0mself\u001b[0m\u001b[0;34m)\u001b[0m\u001b[0;34m\u001b[0m\u001b[0m\n\u001b[0;32m--> 588\u001b[0;31m         \u001b[0mjob\u001b[0m \u001b[0;34m=\u001b[0m \u001b[0mself\u001b[0m\u001b[0;34m.\u001b[0m\u001b[0m_backend\u001b[0m\u001b[0;34m.\u001b[0m\u001b[0mapply_async\u001b[0m\u001b[0;34m(\u001b[0m\u001b[0mbatch\u001b[0m\u001b[0;34m,\u001b[0m \u001b[0mcallback\u001b[0m\u001b[0;34m=\u001b[0m\u001b[0mcb\u001b[0m\u001b[0;34m)\u001b[0m\u001b[0;34m\u001b[0m\u001b[0m\n\u001b[0m\u001b[1;32m    589\u001b[0m         \u001b[0mself\u001b[0m\u001b[0;34m.\u001b[0m\u001b[0m_jobs\u001b[0m\u001b[0;34m.\u001b[0m\u001b[0mappend\u001b[0m\u001b[0;34m(\u001b[0m\u001b[0mjob\u001b[0m\u001b[0;34m)\u001b[0m\u001b[0;34m\u001b[0m\u001b[0m\n\u001b[1;32m    590\u001b[0m \u001b[0;34m\u001b[0m\u001b[0m\n",
      "\u001b[0;32m~/anaconda3/lib/python3.6/site-packages/sklearn/externals/joblib/_parallel_backends.py\u001b[0m in \u001b[0;36mapply_async\u001b[0;34m(self, func, callback)\u001b[0m\n\u001b[1;32m    109\u001b[0m     \u001b[0;32mdef\u001b[0m \u001b[0mapply_async\u001b[0m\u001b[0;34m(\u001b[0m\u001b[0mself\u001b[0m\u001b[0;34m,\u001b[0m \u001b[0mfunc\u001b[0m\u001b[0;34m,\u001b[0m \u001b[0mcallback\u001b[0m\u001b[0;34m=\u001b[0m\u001b[0;32mNone\u001b[0m\u001b[0;34m)\u001b[0m\u001b[0;34m:\u001b[0m\u001b[0;34m\u001b[0m\u001b[0m\n\u001b[1;32m    110\u001b[0m         \u001b[0;34m\"\"\"Schedule a func to be run\"\"\"\u001b[0m\u001b[0;34m\u001b[0m\u001b[0m\n\u001b[0;32m--> 111\u001b[0;31m         \u001b[0mresult\u001b[0m \u001b[0;34m=\u001b[0m \u001b[0mImmediateResult\u001b[0m\u001b[0;34m(\u001b[0m\u001b[0mfunc\u001b[0m\u001b[0;34m)\u001b[0m\u001b[0;34m\u001b[0m\u001b[0m\n\u001b[0m\u001b[1;32m    112\u001b[0m         \u001b[0;32mif\u001b[0m \u001b[0mcallback\u001b[0m\u001b[0;34m:\u001b[0m\u001b[0;34m\u001b[0m\u001b[0m\n\u001b[1;32m    113\u001b[0m             \u001b[0mcallback\u001b[0m\u001b[0;34m(\u001b[0m\u001b[0mresult\u001b[0m\u001b[0;34m)\u001b[0m\u001b[0;34m\u001b[0m\u001b[0m\n",
      "\u001b[0;32m~/anaconda3/lib/python3.6/site-packages/sklearn/externals/joblib/_parallel_backends.py\u001b[0m in \u001b[0;36m__init__\u001b[0;34m(self, batch)\u001b[0m\n\u001b[1;32m    330\u001b[0m         \u001b[0;31m# Don't delay the application, to avoid keeping the input\u001b[0m\u001b[0;34m\u001b[0m\u001b[0;34m\u001b[0m\u001b[0m\n\u001b[1;32m    331\u001b[0m         \u001b[0;31m# arguments in memory\u001b[0m\u001b[0;34m\u001b[0m\u001b[0;34m\u001b[0m\u001b[0m\n\u001b[0;32m--> 332\u001b[0;31m         \u001b[0mself\u001b[0m\u001b[0;34m.\u001b[0m\u001b[0mresults\u001b[0m \u001b[0;34m=\u001b[0m \u001b[0mbatch\u001b[0m\u001b[0;34m(\u001b[0m\u001b[0;34m)\u001b[0m\u001b[0;34m\u001b[0m\u001b[0m\n\u001b[0m\u001b[1;32m    333\u001b[0m \u001b[0;34m\u001b[0m\u001b[0m\n\u001b[1;32m    334\u001b[0m     \u001b[0;32mdef\u001b[0m \u001b[0mget\u001b[0m\u001b[0;34m(\u001b[0m\u001b[0mself\u001b[0m\u001b[0;34m)\u001b[0m\u001b[0;34m:\u001b[0m\u001b[0;34m\u001b[0m\u001b[0m\n",
      "\u001b[0;32m~/anaconda3/lib/python3.6/site-packages/sklearn/externals/joblib/parallel.py\u001b[0m in \u001b[0;36m__call__\u001b[0;34m(self)\u001b[0m\n\u001b[1;32m    129\u001b[0m \u001b[0;34m\u001b[0m\u001b[0m\n\u001b[1;32m    130\u001b[0m     \u001b[0;32mdef\u001b[0m \u001b[0m__call__\u001b[0m\u001b[0;34m(\u001b[0m\u001b[0mself\u001b[0m\u001b[0;34m)\u001b[0m\u001b[0;34m:\u001b[0m\u001b[0;34m\u001b[0m\u001b[0m\n\u001b[0;32m--> 131\u001b[0;31m         \u001b[0;32mreturn\u001b[0m \u001b[0;34m[\u001b[0m\u001b[0mfunc\u001b[0m\u001b[0;34m(\u001b[0m\u001b[0;34m*\u001b[0m\u001b[0margs\u001b[0m\u001b[0;34m,\u001b[0m \u001b[0;34m**\u001b[0m\u001b[0mkwargs\u001b[0m\u001b[0;34m)\u001b[0m \u001b[0;32mfor\u001b[0m \u001b[0mfunc\u001b[0m\u001b[0;34m,\u001b[0m \u001b[0margs\u001b[0m\u001b[0;34m,\u001b[0m \u001b[0mkwargs\u001b[0m \u001b[0;32min\u001b[0m \u001b[0mself\u001b[0m\u001b[0;34m.\u001b[0m\u001b[0mitems\u001b[0m\u001b[0;34m]\u001b[0m\u001b[0;34m\u001b[0m\u001b[0m\n\u001b[0m\u001b[1;32m    132\u001b[0m \u001b[0;34m\u001b[0m\u001b[0m\n\u001b[1;32m    133\u001b[0m     \u001b[0;32mdef\u001b[0m \u001b[0m__len__\u001b[0m\u001b[0;34m(\u001b[0m\u001b[0mself\u001b[0m\u001b[0;34m)\u001b[0m\u001b[0;34m:\u001b[0m\u001b[0;34m\u001b[0m\u001b[0m\n",
      "\u001b[0;32m~/anaconda3/lib/python3.6/site-packages/sklearn/externals/joblib/parallel.py\u001b[0m in \u001b[0;36m<listcomp>\u001b[0;34m(.0)\u001b[0m\n\u001b[1;32m    129\u001b[0m \u001b[0;34m\u001b[0m\u001b[0m\n\u001b[1;32m    130\u001b[0m     \u001b[0;32mdef\u001b[0m \u001b[0m__call__\u001b[0m\u001b[0;34m(\u001b[0m\u001b[0mself\u001b[0m\u001b[0;34m)\u001b[0m\u001b[0;34m:\u001b[0m\u001b[0;34m\u001b[0m\u001b[0m\n\u001b[0;32m--> 131\u001b[0;31m         \u001b[0;32mreturn\u001b[0m \u001b[0;34m[\u001b[0m\u001b[0mfunc\u001b[0m\u001b[0;34m(\u001b[0m\u001b[0;34m*\u001b[0m\u001b[0margs\u001b[0m\u001b[0;34m,\u001b[0m \u001b[0;34m**\u001b[0m\u001b[0mkwargs\u001b[0m\u001b[0;34m)\u001b[0m \u001b[0;32mfor\u001b[0m \u001b[0mfunc\u001b[0m\u001b[0;34m,\u001b[0m \u001b[0margs\u001b[0m\u001b[0;34m,\u001b[0m \u001b[0mkwargs\u001b[0m \u001b[0;32min\u001b[0m \u001b[0mself\u001b[0m\u001b[0;34m.\u001b[0m\u001b[0mitems\u001b[0m\u001b[0;34m]\u001b[0m\u001b[0;34m\u001b[0m\u001b[0m\n\u001b[0m\u001b[1;32m    132\u001b[0m \u001b[0;34m\u001b[0m\u001b[0m\n\u001b[1;32m    133\u001b[0m     \u001b[0;32mdef\u001b[0m \u001b[0m__len__\u001b[0m\u001b[0;34m(\u001b[0m\u001b[0mself\u001b[0m\u001b[0;34m)\u001b[0m\u001b[0;34m:\u001b[0m\u001b[0;34m\u001b[0m\u001b[0m\n",
      "\u001b[0;32m~/anaconda3/lib/python3.6/site-packages/sklearn/ensemble/forest.py\u001b[0m in \u001b[0;36m_parallel_build_trees\u001b[0;34m(tree, forest, X, y, sample_weight, tree_idx, n_trees, verbose, class_weight)\u001b[0m\n\u001b[1;32m    119\u001b[0m             \u001b[0mcurr_sample_weight\u001b[0m \u001b[0;34m*=\u001b[0m \u001b[0mcompute_sample_weight\u001b[0m\u001b[0;34m(\u001b[0m\u001b[0;34m'balanced'\u001b[0m\u001b[0;34m,\u001b[0m \u001b[0my\u001b[0m\u001b[0;34m,\u001b[0m \u001b[0mindices\u001b[0m\u001b[0;34m)\u001b[0m\u001b[0;34m\u001b[0m\u001b[0m\n\u001b[1;32m    120\u001b[0m \u001b[0;34m\u001b[0m\u001b[0m\n\u001b[0;32m--> 121\u001b[0;31m         \u001b[0mtree\u001b[0m\u001b[0;34m.\u001b[0m\u001b[0mfit\u001b[0m\u001b[0;34m(\u001b[0m\u001b[0mX\u001b[0m\u001b[0;34m,\u001b[0m \u001b[0my\u001b[0m\u001b[0;34m,\u001b[0m \u001b[0msample_weight\u001b[0m\u001b[0;34m=\u001b[0m\u001b[0mcurr_sample_weight\u001b[0m\u001b[0;34m,\u001b[0m \u001b[0mcheck_input\u001b[0m\u001b[0;34m=\u001b[0m\u001b[0;32mFalse\u001b[0m\u001b[0;34m)\u001b[0m\u001b[0;34m\u001b[0m\u001b[0m\n\u001b[0m\u001b[1;32m    122\u001b[0m     \u001b[0;32melse\u001b[0m\u001b[0;34m:\u001b[0m\u001b[0;34m\u001b[0m\u001b[0m\n\u001b[1;32m    123\u001b[0m         \u001b[0mtree\u001b[0m\u001b[0;34m.\u001b[0m\u001b[0mfit\u001b[0m\u001b[0;34m(\u001b[0m\u001b[0mX\u001b[0m\u001b[0;34m,\u001b[0m \u001b[0my\u001b[0m\u001b[0;34m,\u001b[0m \u001b[0msample_weight\u001b[0m\u001b[0;34m=\u001b[0m\u001b[0msample_weight\u001b[0m\u001b[0;34m,\u001b[0m \u001b[0mcheck_input\u001b[0m\u001b[0;34m=\u001b[0m\u001b[0;32mFalse\u001b[0m\u001b[0;34m)\u001b[0m\u001b[0;34m\u001b[0m\u001b[0m\n",
      "\u001b[0;32m~/anaconda3/lib/python3.6/site-packages/sklearn/tree/tree.py\u001b[0m in \u001b[0;36mfit\u001b[0;34m(self, X, y, sample_weight, check_input, X_idx_sorted)\u001b[0m\n\u001b[1;32m    788\u001b[0m             \u001b[0msample_weight\u001b[0m\u001b[0;34m=\u001b[0m\u001b[0msample_weight\u001b[0m\u001b[0;34m,\u001b[0m\u001b[0;34m\u001b[0m\u001b[0m\n\u001b[1;32m    789\u001b[0m             \u001b[0mcheck_input\u001b[0m\u001b[0;34m=\u001b[0m\u001b[0mcheck_input\u001b[0m\u001b[0;34m,\u001b[0m\u001b[0;34m\u001b[0m\u001b[0m\n\u001b[0;32m--> 790\u001b[0;31m             X_idx_sorted=X_idx_sorted)\n\u001b[0m\u001b[1;32m    791\u001b[0m         \u001b[0;32mreturn\u001b[0m \u001b[0mself\u001b[0m\u001b[0;34m\u001b[0m\u001b[0m\n\u001b[1;32m    792\u001b[0m \u001b[0;34m\u001b[0m\u001b[0m\n",
      "\u001b[0;32m~/anaconda3/lib/python3.6/site-packages/sklearn/tree/tree.py\u001b[0m in \u001b[0;36mfit\u001b[0;34m(self, X, y, sample_weight, check_input, X_idx_sorted)\u001b[0m\n\u001b[1;32m    360\u001b[0m                                            min_impurity_split)\n\u001b[1;32m    361\u001b[0m \u001b[0;34m\u001b[0m\u001b[0m\n\u001b[0;32m--> 362\u001b[0;31m         \u001b[0mbuilder\u001b[0m\u001b[0;34m.\u001b[0m\u001b[0mbuild\u001b[0m\u001b[0;34m(\u001b[0m\u001b[0mself\u001b[0m\u001b[0;34m.\u001b[0m\u001b[0mtree_\u001b[0m\u001b[0;34m,\u001b[0m \u001b[0mX\u001b[0m\u001b[0;34m,\u001b[0m \u001b[0my\u001b[0m\u001b[0;34m,\u001b[0m \u001b[0msample_weight\u001b[0m\u001b[0;34m,\u001b[0m \u001b[0mX_idx_sorted\u001b[0m\u001b[0;34m)\u001b[0m\u001b[0;34m\u001b[0m\u001b[0m\n\u001b[0m\u001b[1;32m    363\u001b[0m \u001b[0;34m\u001b[0m\u001b[0m\n\u001b[1;32m    364\u001b[0m         \u001b[0;32mif\u001b[0m \u001b[0mself\u001b[0m\u001b[0;34m.\u001b[0m\u001b[0mn_outputs_\u001b[0m \u001b[0;34m==\u001b[0m \u001b[0;36m1\u001b[0m\u001b[0;34m:\u001b[0m\u001b[0;34m\u001b[0m\u001b[0m\n",
      "\u001b[0;31mKeyboardInterrupt\u001b[0m: "
     ]
    }
   ],
   "source": [
    "grid.fit(x7, y7)"
   ]
  },
  {
   "cell_type": "code",
   "execution_count": null,
   "metadata": {},
   "outputs": [],
   "source": []
  }
 ],
 "metadata": {
  "kernelspec": {
   "display_name": "Python 3",
   "language": "python",
   "name": "python3"
  },
  "language_info": {
   "codemirror_mode": {
    "name": "ipython",
    "version": 3
   },
   "file_extension": ".py",
   "mimetype": "text/x-python",
   "name": "python",
   "nbconvert_exporter": "python",
   "pygments_lexer": "ipython3",
   "version": "3.6.4"
  }
 },
 "nbformat": 4,
 "nbformat_minor": 2
}
