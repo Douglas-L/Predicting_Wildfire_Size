{
 "cells": [
  {
   "cell_type": "markdown",
   "metadata": {},
   "source": [
    "# Summary\n",
    "I begin developing a model for predicting wildfire size class with basic scraped features. Major point established so far is that scaling "
   ]
  },
  {
   "cell_type": "code",
   "execution_count": 1,
   "metadata": {},
   "outputs": [],
   "source": [
    "import pandas as pd\n",
    "pd.set_option('display.max_columns', 60)\n",
    "import numpy as np\n",
    "import matplotlib.pyplot as plt\n",
    "%matplotlib inline\n",
    "import seaborn as sns\n",
    "sns.set()\n",
    "import time\n",
    "\n",
    "from sklearn.model_selection import train_test_split"
   ]
  },
  {
   "cell_type": "code",
   "execution_count": 2,
   "metadata": {},
   "outputs": [
    {
     "name": "stderr",
     "output_type": "stream",
     "text": [
      "/home/douglas/anaconda3/lib/python3.7/site-packages/sklearn/ensemble/weight_boosting.py:29: DeprecationWarning: numpy.core.umath_tests is an internal NumPy module and should not be imported. It will be removed in a future NumPy release.\n",
      "  from numpy.core.umath_tests import inner1d\n"
     ]
    }
   ],
   "source": [
    "from sklearn.model_selection import StratifiedKFold\n",
    "from sklearn.linear_model import LogisticRegression\n",
    "from sklearn.ensemble import RandomForestClassifier, RandomForestRegressor\n",
    "from sklearn.preprocessing import StandardScaler, MinMaxScaler, OneHotEncoder, LabelEncoder\n",
    "from sklearn.pipeline import Pipeline\n",
    "from sklearn.metrics import f1_score, recall_score, precision_score, classification_report, confusion_matrix\n",
    "\n",
    "# ignore warning when preds doesn't predict rare class\n",
    "import warnings\n",
    "from sklearn.exceptions import UndefinedMetricWarning\n",
    "warnings.filterwarnings(action='ignore', category=UndefinedMetricWarning)"
   ]
  },
  {
   "cell_type": "code",
   "execution_count": 3,
   "metadata": {},
   "outputs": [],
   "source": [
    "# Set global random seed for sklearn\n",
    "np.random.seed(2019) "
   ]
  },
  {
   "cell_type": "code",
   "execution_count": 4,
   "metadata": {},
   "outputs": [],
   "source": [
    "data = pd.read_pickle('train_fires.pkl')"
   ]
  },
  {
   "cell_type": "markdown",
   "metadata": {},
   "source": [
    "# Develop pipeline\n",
    "Use a smaller subset to develop code and work through issues"
   ]
  },
  {
   "cell_type": "code",
   "execution_count": 5,
   "metadata": {},
   "outputs": [],
   "source": [
    "train, _  = train_test_split(data, test_size=0.8, stratify=data['CLASS'])\n",
    "# switching over to 3 class problem for easier interpretation of results\n",
    "# Small(1): < 10 acres burned (A,B)\n",
    "# Medium(2): 10-1000 acres (C, D, E)\n",
    "# Large(3): > 1000 acres (F,G)"
   ]
  },
  {
   "cell_type": "code",
   "execution_count": 6,
   "metadata": {},
   "outputs": [
    {
     "data": {
      "text/plain": [
       "(310542, 32)"
      ]
     },
     "execution_count": 6,
     "metadata": {},
     "output_type": "execute_result"
    }
   ],
   "source": [
    "train.shape"
   ]
  },
  {
   "cell_type": "code",
   "execution_count": 7,
   "metadata": {},
   "outputs": [
    {
     "data": {
      "text/plain": [
       "B    157827\n",
       "A    107857\n",
       "C     36243\n",
       "D      4613\n",
       "E      2232\n",
       "F      1193\n",
       "G       577\n",
       "Name: FIRE_SIZE_CLASS, dtype: int64"
      ]
     },
     "execution_count": 7,
     "metadata": {},
     "output_type": "execute_result"
    }
   ],
   "source": [
    "train['FIRE_SIZE_CLASS'].value_counts()"
   ]
  },
  {
   "cell_type": "code",
   "execution_count": 8,
   "metadata": {},
   "outputs": [
    {
     "data": {
      "text/plain": [
       "1    271506\n",
       "2     37340\n",
       "3      1696\n",
       "Name: CLASS, dtype: int64"
      ]
     },
     "execution_count": 8,
     "metadata": {},
     "output_type": "execute_result"
    }
   ],
   "source": [
    "train['CLASS'].value_counts()"
   ]
  },
  {
   "cell_type": "code",
   "execution_count": 9,
   "metadata": {},
   "outputs": [
    {
     "data": {
      "text/plain": [
       "(310542, 31)"
      ]
     },
     "execution_count": 9,
     "metadata": {},
     "output_type": "execute_result"
    }
   ],
   "source": [
    "train = train.drop(columns='FIRE_SIZE_CLASS')\n",
    "train.shape"
   ]
  },
  {
   "cell_type": "code",
   "execution_count": 10,
   "metadata": {},
   "outputs": [
    {
     "name": "stderr",
     "output_type": "stream",
     "text": [
      "/home/douglas/anaconda3/lib/python3.7/site-packages/scipy/stats/stats.py:1713: FutureWarning: Using a non-tuple sequence for multidimensional indexing is deprecated; use `arr[tuple(seq)]` instead of `arr[seq]`. In the future this will be interpreted as an array index, `arr[np.array(seq)]`, which will result either in an error or a different result.\n",
      "  return np.add.reduce(sorted[indexer] * weights, axis=axis) / sumval\n"
     ]
    },
    {
     "data": {
      "text/plain": [
       "<matplotlib.axes._subplots.AxesSubplot at 0x7f95a585b8d0>"
      ]
     },
     "execution_count": 10,
     "metadata": {},
     "output_type": "execute_result"
    },
    {
     "data": {
      "image/png": "[encoded data removed]",
      "text/plain": [
       "<Figure size 432x288 with 1 Axes>"
      ]
     },
     "metadata": {
      "needs_background": "light"
     },
     "output_type": "display_data"
    }
   ],
   "source": [
    "sns.distplot(np.log10(train['FIRE_SIZE']))\n",
    "# not log normal - big peak of fires less than 1 acre\n",
    "# partly why I did classification since the exact size is unimportant\n",
    "# more important is the response needed\n",
    "# 1: local firefighters, 2: maybe several teams, 3: bring in reinforcements, feds"
   ]
  },
  {
   "cell_type": "code",
   "execution_count": 11,
   "metadata": {},
   "outputs": [
    {
     "data": {
      "text/plain": [
       "FOD_ID                       int64\n",
       "DISCOVERY_DATE      datetime64[ns]\n",
       "FIRE_SIZE                  float64\n",
       "LATITUDE                   float64\n",
       "LONGITUDE                  float64\n",
       "Month                        int64\n",
       "DayofWeek                   object\n",
       "COUNTY2_x                   object\n",
       "COUNTY_ID                   object\n",
       "CLASS                     category\n",
       "StateID                     object\n",
       "Elevation                  float64\n",
       "weather_station1            object\n",
       "stn_x                       object\n",
       "year_x                      object\n",
       "temp_x                     float64\n",
       "stp_x                      float64\n",
       "wdsp_x                     float64\n",
       "max_temp_x                 float64\n",
       "prcp_x                     float64\n",
       "thunder_x                   object\n",
       "date_x              datetime64[ns]\n",
       "day_2               datetime64[ns]\n",
       "year_day2                   object\n",
       "temp_day2                  float64\n",
       "stp_day2                   float64\n",
       "wdsp_day2                  float64\n",
       "max_temp_day2              float64\n",
       "prcp_day2                  float64\n",
       "thunder_day2                object\n",
       "date_day2           datetime64[ns]\n",
       "dtype: object"
      ]
     },
     "execution_count": 11,
     "metadata": {},
     "output_type": "execute_result"
    }
   ],
   "source": [
    "train.dtypes"
   ]
  },
  {
   "cell_type": "code",
   "execution_count": 12,
   "metadata": {},
   "outputs": [],
   "source": [
    "# template for scaling when some cols are not suited\n",
    "# scaler = StandardScaler()\n",
    "# X_subset = scaler.fit_transform(X[:,[0,1]])\n",
    "# X_last_column = X[:, 2]\n",
    "# X_std = np.concatenate((X_subset, X_last_column[:, np.newaxis]), axis=1)"
   ]
  },
  {
   "cell_type": "code",
   "execution_count": 66,
   "metadata": {},
   "outputs": [],
   "source": [
    "def cv_features(model, train, target, splits=5):\n",
    "    \n",
    "    starttime = time.time()\n",
    "    # separate input df into features and target\n",
    "    print(\"original length\", len(train))\n",
    "    train = train.dropna() # just drop for now\n",
    "    print(\"dropped na's\", len(train))\n",
    "    y = train[target]\n",
    "    X = train.drop(columns=target)\n",
    "    # get indices to look up float columns \n",
    "#     float_indices = [i for i, col in enumerate(X.columns) if X[col].dtype == 'float64']\n",
    "    \n",
    "     \n",
    "    kf = StratifiedKFold(n_splits=splits)\n",
    "#     imp = Imputer()\n",
    "    scaler = StandardScaler()\n",
    "    fs = []\n",
    "    ps = []\n",
    "    rs = []\n",
    "    classes = [1,2,3]\n",
    "    \n",
    "    for train_ind, val_ind in kf.split(X, y):\n",
    "        # split data on indices\n",
    "        # \"take\" indexes according to position of element, not index values\n",
    "        train_X = X.take(train_ind)\n",
    "        train_y = y.take(train_ind)\n",
    "#         print('train', train_y.value_counts()/len(train_y)) # confirm kf worked\n",
    "        val_X = X.take(val_ind)\n",
    "        val_y = y.take(val_ind)\n",
    "#         print('val', val_y.value_counts()/len(train_y))\n",
    "        # normalize float columns for train\n",
    "        float_cols = train_X.select_dtypes(include='float64')\n",
    "\n",
    "        float_cols = scaler.fit_transform(float_cols)\n",
    "        # recombine \n",
    "        other_cols = train_X.select_dtypes(exclude='float64')\n",
    "        train_X_norm = np.concatenate((float_cols, other_cols), axis=1)\n",
    "        \n",
    "        # fit model    \n",
    "        model.fit(train_X_norm, train_y)\n",
    "        \n",
    "        # normalize float columns for val\n",
    "        float_cols = val_X.select_dtypes(include='float64')\n",
    "\n",
    "        float_cols = scaler.transform(float_cols)\n",
    "        other_cols = val_X.select_dtypes(exclude='float64')\n",
    "        val_X_norm = np.concatenate((float_cols, other_cols), axis=1)\n",
    "        \n",
    "        # predict \n",
    "        model_preds = model.predict(val_X_norm)\n",
    "        \n",
    "        # generate scores\n",
    "        fs.append(f1_score(val_y, model_preds, labels=classes, average=None))\n",
    "        ps.append(precision_score(val_y, model_preds, labels=classes, average=None))\n",
    "        rs.append(recall_score(val_y, model_preds, labels=classes, average=None))\n",
    "    \n",
    "    endtime = time.time()\n",
    "    print('Run time:', endtime - starttime)\n",
    "    # print last one\n",
    "    print(confusion_matrix(val_y, model_preds, labels=classes)) \n",
    "    print(classification_report(val_y, model_preds, labels=classes))\n",
    "    \n",
    "    # return mean over the 5 folds\n",
    "    print('f1 -- precision -- recall')\n",
    "    return np.mean(fs,axis=0), np.mean(ps,axis=0), np.mean(rs,axis=0)\n",
    "        "
   ]
  },
  {
   "cell_type": "code",
   "execution_count": 15,
   "metadata": {},
   "outputs": [],
   "source": [
    "# Start with old baseline"
   ]
  },
  {
   "cell_type": "code",
   "execution_count": 67,
   "metadata": {},
   "outputs": [],
   "source": [
    "lr = LogisticRegression(C=10000)"
   ]
  },
  {
   "cell_type": "code",
   "execution_count": 68,
   "metadata": {},
   "outputs": [
    {
     "name": "stdout",
     "output_type": "stream",
     "text": [
      "original length 310542\n",
      "dropped na's 310542\n",
      "Run time: 2.960841417312622\n",
      "[[54301     0     0]\n",
      " [ 7468     0     0]\n",
      " [  339     0     0]]\n",
      "             precision    recall  f1-score   support\n",
      "\n",
      "          1       0.87      1.00      0.93     54301\n",
      "          2       0.00      0.00      0.00      7468\n",
      "          3       0.00      0.00      0.00       339\n",
      "\n",
      "avg / total       0.76      0.87      0.82     62108\n",
      "\n",
      "f1 -- precision -- recall\n"
     ]
    },
    {
     "data": {
      "text/plain": [
       "(array([0.93293337, 0.        , 0.        ]),\n",
       " array([0.8742972, 0.       , 0.       ]),\n",
       " array([1., 0., 0.]))"
      ]
     },
     "execution_count": 68,
     "metadata": {},
     "output_type": "execute_result"
    }
   ],
   "source": [
    "df1 = train[['LONGITUDE', 'CLASS']]\n",
    "cv_features(lr, df1, 'CLASS')"
   ]
  },
  {
   "cell_type": "code",
   "execution_count": 18,
   "metadata": {},
   "outputs": [
    {
     "name": "stdout",
     "output_type": "stream",
     "text": [
      "original length 310542\n",
      "dropped na's 310314\n",
      "Run time: 5.724637508392334\n",
      "[[54265     0     0]\n",
      " [ 7459     0     0]\n",
      " [  338     0     0]]\n",
      "             precision    recall  f1-score   support\n",
      "\n",
      "          1       0.87      1.00      0.93     54265\n",
      "          2       0.00      0.00      0.00      7459\n",
      "          3       0.00      0.00      0.00       338\n",
      "\n",
      "avg / total       0.76      0.87      0.82     62062\n",
      "\n",
      "f1 -- precision -- recall\n"
     ]
    },
    {
     "data": {
      "text/plain": [
       "(array([0.93296885, 0.        , 0.        ]),\n",
       " array([0.87435952, 0.        , 0.        ]),\n",
       " array([1., 0., 0.]))"
      ]
     },
     "execution_count": 18,
     "metadata": {},
     "output_type": "execute_result"
    }
   ],
   "source": [
    "# try most promising feature from weather data as alternative logit baseline\n",
    "df2 = train[['max_temp_x', 'CLASS']]\n",
    "cv_features(lr, df2, 'CLASS')"
   ]
  },
  {
   "cell_type": "code",
   "execution_count": 19,
   "metadata": {},
   "outputs": [
    {
     "name": "stdout",
     "output_type": "stream",
     "text": [
      "original length 310542\n",
      "dropped na's 310314\n",
      "Run time: 82.87573313713074\n",
      "[[37925 16340     0]\n",
      " [ 5423  2036     0]\n",
      " [  190   148     0]]\n",
      "             precision    recall  f1-score   support\n",
      "\n",
      "          1       0.87      0.70      0.78     54265\n",
      "          2       0.11      0.27      0.16      7459\n",
      "          3       0.00      0.00      0.00       338\n",
      "\n",
      "avg / total       0.77      0.64      0.70     62062\n",
      "\n",
      "f1 -- precision -- recall\n"
     ]
    },
    {
     "data": {
      "text/plain": [
       "(array([0.80104555, 0.1265181 , 0.        ]),\n",
       " array([0.8716049 , 0.08794594, 0.        ]),\n",
       " array([0.75000963, 0.22677051, 0.        ]))"
      ]
     },
     "execution_count": 19,
     "metadata": {},
     "output_type": "execute_result"
    }
   ],
   "source": [
    "# Move on to vanilla random forest, keeping number of trees low for run time\n",
    "rf = RandomForestClassifier(n_estimators=300, n_jobs=-1)\n",
    "cv_features(rf, df2, 'CLASS')"
   ]
  },
  {
   "cell_type": "code",
   "execution_count": 20,
   "metadata": {},
   "outputs": [
    {
     "data": {
      "text/plain": [
       "Index(['FOD_ID', 'DISCOVERY_DATE', 'FIRE_SIZE', 'LATITUDE', 'LONGITUDE',\n",
       "       'Month', 'DayofWeek', 'COUNTY2_x', 'COUNTY_ID', 'CLASS', 'StateID',\n",
       "       'Elevation', 'weather_station1', 'stn_x', 'year_x', 'temp_x', 'stp_x',\n",
       "       'wdsp_x', 'max_temp_x', 'prcp_x', 'thunder_x', 'date_x', 'day_2',\n",
       "       'year_day2', 'temp_day2', 'stp_day2', 'wdsp_day2', 'max_temp_day2',\n",
       "       'prcp_day2', 'thunder_day2', 'date_day2'],\n",
       "      dtype='object')"
      ]
     },
     "execution_count": 20,
     "metadata": {},
     "output_type": "execute_result"
    }
   ],
   "source": [
    "train.columns"
   ]
  },
  {
   "cell_type": "code",
   "execution_count": 21,
   "metadata": {},
   "outputs": [
    {
     "name": "stdout",
     "output_type": "stream",
     "text": [
      "original length 310542\n",
      "dropped na's 298428\n",
      "Run time: 123.5555477142334\n",
      "[[51790   377     0]\n",
      " [ 7131    63     0]\n",
      " [  318     5     0]]\n",
      "             precision    recall  f1-score   support\n",
      "\n",
      "          1       0.87      0.99      0.93     52167\n",
      "          2       0.14      0.01      0.02      7194\n",
      "          3       0.00      0.00      0.00       323\n",
      "\n",
      "avg / total       0.78      0.87      0.81     59684\n",
      "\n",
      "f1 -- precision -- recall\n"
     ]
    },
    {
     "data": {
      "text/plain": [
       "(array([0.92695268, 0.02126689, 0.        ]),\n",
       " array([0.87428867, 0.07373504, 0.        ]),\n",
       " array([0.9866544 , 0.01504031, 0.        ]))"
      ]
     },
     "execution_count": 21,
     "metadata": {},
     "output_type": "execute_result"
    }
   ],
   "source": [
    "# Add more weather features\n",
    "df3 = train[['wdsp_x','max_temp_x', 'prcp_x', 'CLASS']]\n",
    "cv_features(rf, df3, 'CLASS')"
   ]
  },
  {
   "cell_type": "code",
   "execution_count": 22,
   "metadata": {},
   "outputs": [
    {
     "name": "stdout",
     "output_type": "stream",
     "text": [
      "original length 310542\n",
      "dropped na's 295368\n",
      "Run time: 378.57324719429016\n",
      "[[51626     0     0]\n",
      " [ 7129     0     0]\n",
      " [  318     0     0]]\n",
      "             precision    recall  f1-score   support\n",
      "\n",
      "          1       0.87      1.00      0.93     51626\n",
      "          2       0.00      0.00      0.00      7129\n",
      "          3       0.00      0.00      0.00       318\n",
      "\n",
      "avg / total       0.76      0.87      0.82     59073\n",
      "\n",
      "f1 -- precision -- recall\n"
     ]
    },
    {
     "data": {
      "text/plain": [
       "(array([9.31209540e-01, 4.45558340e-04, 9.85221675e-04]),\n",
       " array([8.73839345e-01, 3.01886792e-02, 6.66666667e-04]),\n",
       " array([9.96664471e-01, 2.24435405e-04, 1.88679245e-03]))"
      ]
     },
     "execution_count": 22,
     "metadata": {},
     "output_type": "execute_result"
    }
   ],
   "source": [
    "# Bring in more weather, including day 2, and class weights\n",
    "df4 = train[['wdsp_x','max_temp_x', 'prcp_x','thunder_x', 'wdsp_day2',\n",
    "       'max_temp_day2', 'CLASS']]\n",
    "rfw = RandomForestClassifier(n_estimators=300, \n",
    "                             class_weight={1:1, 2:5, 3:80})\n",
    "cv_features(rfw, df4, 'CLASS')"
   ]
  },
  {
   "cell_type": "code",
   "execution_count": 23,
   "metadata": {},
   "outputs": [
    {
     "name": "stdout",
     "output_type": "stream",
     "text": [
      "original length 310542\n",
      "dropped na's 310314\n",
      "Run time: 437.46885800361633\n",
      "[[54265     0     0]\n",
      " [ 7459     0     0]\n",
      " [  338     0     0]]\n",
      "             precision    recall  f1-score   support\n",
      "\n",
      "          1       0.87      1.00      0.93     54265\n",
      "          2       0.00      0.00      0.00      7459\n",
      "          3       0.00      0.00      0.00       338\n",
      "\n",
      "avg / total       0.76      0.87      0.82     62062\n",
      "\n",
      "f1 -- precision -- recall\n"
     ]
    },
    {
     "data": {
      "text/plain": [
       "(array([0.93296885, 0.        , 0.        ]),\n",
       " array([0.87435952, 0.        , 0.        ]),\n",
       " array([1., 0., 0.]))"
      ]
     },
     "execution_count": 23,
     "metadata": {},
     "output_type": "execute_result"
    }
   ],
   "source": [
    "# Try something different\n",
    "df5 = train[['LONGITUDE', 'Elevation', 'max_temp_x','CLASS']]\n",
    "cv_features(rfw, df5, 'CLASS')"
   ]
  },
  {
   "cell_type": "code",
   "execution_count": 33,
   "metadata": {},
   "outputs": [
    {
     "name": "stdout",
     "output_type": "stream",
     "text": [
      "original length 310542\n",
      "dropped na's 298428\n",
      "Run time: 126.36591100692749\n",
      "[[51989   178     0]\n",
      " [ 7168    26     0]\n",
      " [  322     1     0]]\n",
      "             precision    recall  f1-score   support\n",
      "\n",
      "          1       0.87      1.00      0.93     52167\n",
      "          2       0.13      0.00      0.01      7194\n",
      "          3       0.00      0.00      0.00       323\n",
      "\n",
      "avg / total       0.78      0.87      0.81     59684\n",
      "\n",
      "f1 -- precision -- recall\n"
     ]
    },
    {
     "data": {
      "text/plain": [
       "(array([0.92884825, 0.01518054, 0.        ]),\n",
       " array([0.87411022, 0.09476372, 0.        ]),\n",
       " array([0.99101349, 0.0095357 , 0.        ]))"
      ]
     },
     "execution_count": 33,
     "metadata": {},
     "output_type": "execute_result"
    }
   ],
   "source": [
    "# Try balanced class weights\n",
    "rfwb = RandomForestClassifier(n_estimators=300, \n",
    "                             class_weight=\"balanced\",\n",
    "                             n_jobs=-1)\n",
    "cv_features(rfwb, df3, 'CLASS')"
   ]
  },
  {
   "cell_type": "code",
   "execution_count": null,
   "metadata": {},
   "outputs": [],
   "source": [
    "# Sanity Check"
   ]
  },
  {
   "cell_type": "code",
   "execution_count": 35,
   "metadata": {},
   "outputs": [
    {
     "name": "stdout",
     "output_type": "stream",
     "text": [
      "original length 310542\n",
      "dropped na's 310542\n",
      "Run time: 14.838520526885986\n",
      "[[54301     0     0]\n",
      " [ 7468     0     0]\n",
      " [  319    20     0]]\n",
      "             precision    recall  f1-score   support\n",
      "\n",
      "          1       0.87      1.00      0.93     54301\n",
      "          2       0.00      0.00      0.00      7468\n",
      "          3       0.00      0.00      0.00       339\n",
      "\n",
      "avg / total       0.76      0.87      0.82     62108\n",
      "\n",
      "f1 -- precision -- recall\n"
     ]
    },
    {
     "data": {
      "text/plain": [
       "(array([0.93314178, 0.        , 0.        ]),\n",
       " array([0.87466336, 0.        , 0.        ]),\n",
       " array([1., 0., 0.]))"
      ]
     },
     "execution_count": 35,
     "metadata": {},
     "output_type": "execute_result"
    }
   ],
   "source": [
    "# Perfect predict in theory\n",
    "fire_size = train[['FIRE_SIZE', 'CLASS']]\n",
    "cv_features(lr, fire_size, 'CLASS')\n",
    "# fail"
   ]
  },
  {
   "cell_type": "code",
   "execution_count": 42,
   "metadata": {},
   "outputs": [],
   "source": [
    "#alternative with no scaling\n",
    "\n",
    "def unscaled_cv_features(model, train, target, splits=5):\n",
    "    \n",
    "    starttime = time.time()\n",
    "    # separate input df into features and target\n",
    "    print(\"original length\", len(train))\n",
    "    train = train.dropna() # just drop for now\n",
    "    print(\"dropped na's\", len(train))\n",
    "    y = train[target]\n",
    "    X = train.drop(columns=target)\n",
    "         \n",
    "    kf = StratifiedKFold(n_splits=splits)\n",
    "    fs = []\n",
    "    ps = []\n",
    "    rs = []\n",
    "    classes = [1,2,3]\n",
    "    \n",
    "    for train_ind, val_ind in kf.split(X, y):\n",
    "        # split data on indices\n",
    "        # \"take\" indexes according to position of element, not index values\n",
    "        train_X = X.take(train_ind).values\n",
    "        train_y = y.take(train_ind).values\n",
    "#         print('train', train_y.value_counts()/len(train_y)) # confirm kf worked\n",
    "        val_X = X.take(val_ind).values\n",
    "        val_y = y.take(val_ind).values\n",
    "        \n",
    "        # fit model    \n",
    "        model.fit(train_X, train_y)\n",
    "\n",
    "        # predict \n",
    "        model_preds = model.predict(val_X)\n",
    "        \n",
    "        # generate scores\n",
    "        fs.append(f1_score(val_y, model_preds, labels=classes, average=None))\n",
    "        ps.append(precision_score(val_y, model_preds, labels=classes, average=None))\n",
    "        rs.append(recall_score(val_y, model_preds, labels=classes, average=None))\n",
    "        \n",
    "    # print last one\n",
    "    print(confusion_matrix(val_y, model_preds, labels=classes)) \n",
    "    print(classification_report(val_y, model_preds, labels=classes))\n",
    "    \n",
    "    # return mean over the 5 folds\n",
    "    print('f1 -- precision -- recall')\n",
    "    return np.mean(fs,axis=0), np.mean(ps,axis=0), np.mean(rs,axis=0)\n",
    "        "
   ]
  },
  {
   "cell_type": "code",
   "execution_count": 39,
   "metadata": {},
   "outputs": [
    {
     "name": "stdout",
     "output_type": "stream",
     "text": [
      "<class 'pandas.core.frame.DataFrame'>\n",
      "[[54301     0     0]\n",
      " [    0  7468     0]\n",
      " [    0     0   339]]\n",
      "             precision    recall  f1-score   support\n",
      "\n",
      "          1       1.00      1.00      1.00     54301\n",
      "          2       1.00      1.00      1.00      7468\n",
      "          3       1.00      1.00      1.00       339\n",
      "\n",
      "avg / total       1.00      1.00      1.00     62108\n",
      "\n",
      "f1 -- precision -- recall\n"
     ]
    },
    {
     "data": {
      "text/plain": [
       "(array([1., 1., 1.]), array([1., 1., 1.]), array([1., 1., 1.]))"
      ]
     },
     "execution_count": 39,
     "metadata": {},
     "output_type": "execute_result"
    }
   ],
   "source": [
    "# perfect as you would expect \n",
    "unscaled_cv_features(rf, fire_size, 'CLASS')\n",
    "# conclusion: standard scaler not appropriate for fire size\n",
    "# also inappropriate: wdspd, prcp, elevation"
   ]
  },
  {
   "cell_type": "code",
   "execution_count": 40,
   "metadata": {},
   "outputs": [
    {
     "name": "stdout",
     "output_type": "stream",
     "text": [
      "<class 'pandas.core.frame.DataFrame'>\n",
      "[[54301     0     0]\n",
      " [  197  7252    19]\n",
      " [    0     0   339]]\n",
      "             precision    recall  f1-score   support\n",
      "\n",
      "          1       1.00      1.00      1.00     54301\n",
      "          2       1.00      0.97      0.99      7468\n",
      "          3       0.95      1.00      0.97       339\n",
      "\n",
      "avg / total       1.00      1.00      1.00     62108\n",
      "\n",
      "f1 -- precision -- recall\n"
     ]
    },
    {
     "data": {
      "text/plain": [
       "(array([0.99807193, 0.98415184, 0.96697374]),\n",
       " array([0.99615131, 1.        , 0.93612884]),\n",
       " array([1.        , 0.96880021, 1.        ]))"
      ]
     },
     "execution_count": 40,
     "metadata": {},
     "output_type": "execute_result"
    }
   ],
   "source": [
    "unscaled_cv_features(lr, fire_size, 'CLASS')"
   ]
  },
  {
   "cell_type": "code",
   "execution_count": 43,
   "metadata": {},
   "outputs": [
    {
     "name": "stdout",
     "output_type": "stream",
     "text": [
      "original length 310542\n",
      "dropped na's 298428\n",
      "[[33876 13651  4640]\n",
      " [ 4288  2236   670]\n",
      " [  181    97    45]]\n",
      "             precision    recall  f1-score   support\n",
      "\n",
      "          1       0.88      0.65      0.75     52167\n",
      "          2       0.14      0.31      0.19      7194\n",
      "          3       0.01      0.14      0.02       323\n",
      "\n",
      "avg / total       0.79      0.61      0.68     59684\n",
      "\n",
      "f1 -- precision -- recall\n"
     ]
    },
    {
     "data": {
      "text/plain": [
       "(array([0.74628301, 0.18989398, 0.01639167]),\n",
       " array([0.88217895, 0.13762909, 0.00868385]),\n",
       " array([0.64667342, 0.30618259, 0.14585101]))"
      ]
     },
     "execution_count": 43,
     "metadata": {},
     "output_type": "execute_result"
    }
   ],
   "source": [
    "# Try balanced class weights\n",
    "rfwb = RandomForestClassifier(n_estimators=300, \n",
    "                             class_weight=\"balanced\",\n",
    "                             n_jobs=-1)\n",
    "unscaled_cv_features(rfwb, df3, 'CLASS')"
   ]
  },
  {
   "cell_type": "code",
   "execution_count": 70,
   "metadata": {},
   "outputs": [],
   "source": [
    "def specialized_cv_features(model, train, target, splits=5):\n",
    "    '''currently hard coded to have only max_temp_x to be normalized with standard\n",
    "    scaler, other floats normalized with min max'''\n",
    "    starttime = time.time()\n",
    "    # separate input df into features and target\n",
    "    print(\"original length\", len(train))\n",
    "    train = train.dropna() # just drop for now\n",
    "    print(\"dropped na's\", len(train))\n",
    "    y = train[target]\n",
    "    X = train.drop(columns=target)\n",
    "    # get indices to look up float columns \n",
    "#     float_indices = [i for i, col in enumerate(X.columns) if X[col].dtype == 'float64']\n",
    "    \n",
    "     \n",
    "    kf = StratifiedKFold(n_splits=splits)\n",
    "#     imp = Imputer()\n",
    "    scaler = StandardScaler()\n",
    "    min_max_scaler = MinMaxScaler()\n",
    "    fs = []\n",
    "    ps = []\n",
    "    rs = []\n",
    "    classes = [1,2,3]\n",
    "    \n",
    "    for train_ind, val_ind in kf.split(X, y):\n",
    "        # split data on indices\n",
    "        # \"take\" indexes according to position of element, not index values\n",
    "        train_X = X.take(train_ind)\n",
    "        train_y = y.take(train_ind)\n",
    "#         print('train', train_y.value_counts()/len(train_y)) # confirm kf worked\n",
    "        val_X = X.take(val_ind)\n",
    "        val_y = y.take(val_ind)\n",
    "#         print('val', val_y.value_counts()/len(train_y))\n",
    "        # normalize temp columns for train\n",
    "        ss_cols = train_X.pop('max_temp_x').values.reshape(-1,1)\n",
    "        ss_cols = scaler.fit_transform(ss_cols)\n",
    "        # min max scale \n",
    "        mm_cols = train_X.select_dtypes(include='float64')\n",
    "        mm_cols = min_max_scaler.fit_transform(mm_cols)\n",
    "        # recombine \n",
    "        other_cols = train_X.select_dtypes(exclude='float64')\n",
    "        train_X_norm = np.concatenate((ss_cols, mm_cols,other_cols), axis=1)\n",
    "#         print(train_X_norm.shape)\n",
    "#         print(train_X_norm[:5])\n",
    "        # fit model    \n",
    "        model.fit(train_X_norm, train_y)\n",
    "        \n",
    "        # normalize float columns for val\n",
    "        ss_cols = val_X.pop('max_temp_x').values.reshape(-1,1)\n",
    "        ss_cols = scaler.transform(ss_cols)\n",
    "        \n",
    "        mm_cols = val_X.select_dtypes(include='float64')\n",
    "        mm_cols = min_max_scaler.transform(mm_cols)\n",
    "        other_cols = val_X.select_dtypes(exclude='float64')\n",
    "        val_X_norm = np.concatenate((ss_cols, mm_cols, other_cols), axis=1)\n",
    "#         print(val_X_norm[:5])\n",
    "#         print(val_X_norm.shape)\n",
    "        # predict \n",
    "        model_preds = model.predict(val_X_norm)\n",
    "        \n",
    "        # generate scores\n",
    "        fs.append(f1_score(val_y, model_preds, labels=classes, average=None))\n",
    "        ps.append(precision_score(val_y, model_preds, labels=classes, average=None))\n",
    "        rs.append(recall_score(val_y, model_preds, labels=classes, average=None))\n",
    "    \n",
    "    endtime = time.time()\n",
    "    print('Run time:', endtime - starttime)\n",
    "    # print last one\n",
    "    print(confusion_matrix(val_y, model_preds, labels=classes)) \n",
    "    print(classification_report(val_y, model_preds, labels=classes))\n",
    "    \n",
    "    # return mean over the 5 folds\n",
    "    print('f1 -- precision -- recall')\n",
    "    return np.mean(fs,axis=0), np.mean(ps,axis=0), np.mean(rs,axis=0)\n",
    "        "
   ]
  },
  {
   "cell_type": "code",
   "execution_count": 83,
   "metadata": {},
   "outputs": [
    {
     "name": "stdout",
     "output_type": "stream",
     "text": [
      "original length 310542\n",
      "dropped na's 298428\n",
      "Run time: 114.66828918457031\n",
      "[[33893 13625  4649]\n",
      " [ 4303  2226   665]\n",
      " [  182    96    45]]\n",
      "             precision    recall  f1-score   support\n",
      "\n",
      "          1       0.88      0.65      0.75     52167\n",
      "          2       0.14      0.31      0.19      7194\n",
      "          3       0.01      0.14      0.02       323\n",
      "\n",
      "avg / total       0.79      0.61      0.68     59684\n",
      "\n",
      "f1 -- precision -- recall\n"
     ]
    },
    {
     "data": {
      "text/plain": [
       "(array([0.74606342, 0.18927584, 0.0164079 ]),\n",
       " array([0.88195102, 0.13715881, 0.00869296]),\n",
       " array([0.64646639, 0.30529295, 0.1458491 ]))"
      ]
     },
     "execution_count": 83,
     "metadata": {},
     "output_type": "execute_result"
    }
   ],
   "source": [
    "# should give same result as above -yes\n",
    "specialized_cv_features(rfwb, df3, 'CLASS')"
   ]
  },
  {
   "cell_type": "code",
   "execution_count": 71,
   "metadata": {},
   "outputs": [
    {
     "name": "stdout",
     "output_type": "stream",
     "text": [
      "original length 310542\n",
      "dropped na's 310314\n",
      "Run time: 194.32654309272766\n",
      "[[53236  1012    17]\n",
      " [ 7024   425    10]\n",
      " [  317    16     5]]\n",
      "             precision    recall  f1-score   support\n",
      "\n",
      "          1       0.88      0.98      0.93     54265\n",
      "          2       0.29      0.06      0.10      7459\n",
      "          3       0.16      0.01      0.03       338\n",
      "\n",
      "avg / total       0.80      0.86      0.82     62062\n",
      "\n",
      "f1 -- precision -- recall\n"
     ]
    },
    {
     "data": {
      "text/plain": [
       "(array([0.92741027, 0.10038428, 0.01663666]),\n",
       " array([0.879129  , 0.30489696, 0.14836658]),\n",
       " array([0.98130293, 0.06008523, 0.00887225]))"
      ]
     },
     "execution_count": 71,
     "metadata": {},
     "output_type": "execute_result"
    }
   ],
   "source": [
    "# try elevation again\n",
    "specialized_cv_features(rfwb, df5, 'CLASS')"
   ]
  },
  {
   "cell_type": "code",
   "execution_count": null,
   "metadata": {},
   "outputs": [],
   "source": [
    "# Scaling doesn't matter for RF but is important for Logit and gradient boosting models.\n",
    "# Also haven't tried tuning RF hyperparameters. "
   ]
  },
  {
   "cell_type": "markdown",
   "metadata": {},
   "source": [
    "### Try Multinomial Logit - helps with ordered categories"
   ]
  },
  {
   "cell_type": "code",
   "execution_count": 77,
   "metadata": {},
   "outputs": [
    {
     "name": "stdout",
     "output_type": "stream",
     "text": [
      "original length 310542\n",
      "dropped na's 298428\n",
      "Run time: 15.187665224075317\n",
      "[[23824  9767 18576]\n",
      " [ 2917  1620  2657]\n",
      " [   64    40   219]]\n",
      "             precision    recall  f1-score   support\n",
      "\n",
      "          1       0.89      0.46      0.60     52167\n",
      "          2       0.14      0.23      0.17      7194\n",
      "          3       0.01      0.68      0.02       323\n",
      "\n",
      "avg / total       0.79      0.43      0.55     59684\n",
      "\n",
      "f1 -- precision -- recall\n"
     ]
    },
    {
     "data": {
      "text/plain": [
       "(array([0.60464441, 0.16811054, 0.01953523]),\n",
       " array([0.88750701, 0.1373227 , 0.00991545]),\n",
       " array([0.45851448, 0.21672428, 0.65514467]))"
      ]
     },
     "execution_count": 77,
     "metadata": {},
     "output_type": "execute_result"
    }
   ],
   "source": [
    "lrwb = LogisticRegression(C=1, class_weight='balanced', \n",
    "                          multi_class='multinomial',\n",
    "                          solver='newton-cg',\n",
    "                          max_iter=300)\n",
    "specialized_cv_features(lrwb, df3, 'CLASS')"
   ]
  },
  {
   "cell_type": "code",
   "execution_count": 82,
   "metadata": {},
   "outputs": [
    {
     "name": "stdout",
     "output_type": "stream",
     "text": [
      "original length 310542\n",
      "dropped na's 298428\n"
     ]
    },
    {
     "name": "stderr",
     "output_type": "stream",
     "text": [
      "/home/douglas/anaconda3/lib/python3.7/site-packages/scipy/optimize/linesearch.py:313: LineSearchWarning: The line search algorithm did not converge\n",
      "  warn('The line search algorithm did not converge', LineSearchWarning)\n",
      "/home/douglas/anaconda3/lib/python3.7/site-packages/sklearn/utils/optimize.py:195: UserWarning: Line Search failed\n",
      "  warnings.warn('Line Search failed')\n"
     ]
    },
    {
     "name": "stdout",
     "output_type": "stream",
     "text": [
      "Run time: 20.628525018692017\n",
      "[[13130 33689  5348]\n",
      " [ 1632  4684   878]\n",
      " [   44   178   101]]\n",
      "             precision    recall  f1-score   support\n",
      "\n",
      "          1       0.89      0.25      0.39     52167\n",
      "          2       0.12      0.65      0.20      7194\n",
      "          3       0.02      0.31      0.03       323\n",
      "\n",
      "avg / total       0.79      0.30      0.37     59684\n",
      "\n",
      "f1 -- precision -- recall\n"
     ]
    },
    {
     "data": {
      "text/plain": [
       "(array([0.39388729, 0.20578148, 0.03154879]),\n",
       " array([0.89010987, 0.12213207, 0.01657402]),\n",
       " array([0.25291943, 0.6532022 , 0.32757329]))"
      ]
     },
     "execution_count": 82,
     "metadata": {},
     "output_type": "execute_result"
    }
   ],
   "source": [
    "lrw = LogisticRegression(C=1, class_weight={1:1, 2:8, 3:100}, \n",
    "                          multi_class='multinomial',\n",
    "                          solver='newton-cg',\n",
    "                          max_iter=500)\n",
    "specialized_cv_features(lrw, df3, 'CLASS')"
   ]
  },
  {
   "cell_type": "code",
   "execution_count": null,
   "metadata": {},
   "outputs": [],
   "source": [
    "# Multinomial logit seems promising - revolves around log-cumulative odds \n",
    "# how does sklearn implement?\n",
    "\n",
    "# Oversampling might extract more info from the rare classes. "
   ]
  },
  {
   "cell_type": "markdown",
   "metadata": {},
   "source": []
  },
  {
   "cell_type": "markdown",
   "metadata": {},
   "source": [
    "# SCRAP CODE"
   ]
  },
  {
   "cell_type": "code",
   "execution_count": 25,
   "metadata": {},
   "outputs": [],
   "source": [
    "# float_indices = [i for i, col in enumerate(train.columns) if train[col].dtype == 'float64']"
   ]
  },
  {
   "cell_type": "code",
   "execution_count": 26,
   "metadata": {},
   "outputs": [],
   "source": [
    "# float_indices"
   ]
  },
  {
   "cell_type": "code",
   "execution_count": 27,
   "metadata": {},
   "outputs": [],
   "source": [
    "# train.select_dtypes(exclude='float64').head()"
   ]
  },
  {
   "cell_type": "code",
   "execution_count": 28,
   "metadata": {},
   "outputs": [],
   "source": [
    "# from sklearn.preprocessing import Imputer"
   ]
  },
  {
   "cell_type": "code",
   "execution_count": 30,
   "metadata": {},
   "outputs": [],
   "source": [
    "# Null checking\n",
    "# train.isnull().sum()"
   ]
  },
  {
   "cell_type": "code",
   "execution_count": 31,
   "metadata": {},
   "outputs": [],
   "source": [
    "# train[train['max_temp_x'].isnull()].head()"
   ]
  }
 ],
 "metadata": {
  "kernelspec": {
   "display_name": "Python 3",
   "language": "python",
   "name": "python3"
  },
  "language_info": {
   "codemirror_mode": {
    "name": "ipython",
    "version": 3
   },
   "file_extension": ".py",
   "mimetype": "text/x-python",
   "name": "python",
   "nbconvert_exporter": "python",
   "pygments_lexer": "ipython3",
   "version": "3.7.2"
  }
 },
 "nbformat": 4,
 "nbformat_minor": 2
}
