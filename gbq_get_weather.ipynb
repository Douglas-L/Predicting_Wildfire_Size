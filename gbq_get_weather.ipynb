{
 "cells": [
  {
   "cell_type": "code",
   "execution_count": 1,
   "metadata": {},
   "outputs": [],
   "source": [
    "from google.cloud import bigquery\n",
    "from google.oauth2 import service_account"
   ]
  },
  {
   "cell_type": "code",
   "execution_count": 6,
   "metadata": {},
   "outputs": [],
   "source": []
  },
  {
   "cell_type": "code",
   "execution_count": 10,
   "metadata": {},
   "outputs": [],
   "source": [
    "# set credentials with oauth2\n",
    "credentials = service_account.Credentials.from_service_account_file('/home/douglas/Downloads/weather-5deec6be7e9f.json')"
   ]
  },
  {
   "cell_type": "markdown",
   "metadata": {},
   "source": [
    "#Alternatively,set service private key file as default\n",
    "\n",
    "1. Set the GOOGLE_APPLICATION_CREDENTIALS environment variable to the full path to your service account private key file\n",
    "\n",
    " $ export GOOGLE_APPLICATION_CREDENTIALS=/path/to/key.json\n",
    "\n",
    " Then, use application default credentials. default() checks for the GOOGLE_APPLICATION_CREDENTIALS environment variable before all other checks, so this will always use the credentials you explicitly specify.\n",
    "\n",
    "\n",
    " source: https://google-auth.readthedocs.io/en/latest/user-guide.html"
   ]
  },
  {
   "cell_type": "code",
   "execution_count": 8,
   "metadata": {},
   "outputs": [],
   "source": [
    "# what's the point of scope? probably not needed in this use case\n",
    "scoped_credentials = credentials.with_scopes(['https://www/googleapis.com/auth/cloud-platform'])"
   ]
  },
  {
   "cell_type": "code",
   "execution_count": 9,
   "metadata": {},
   "outputs": [],
   "source": [
    "# create client for weather project using above service acount credentials\n",
    "client = bigquery.Client(project='weather-214817', credentials=credentials)"
   ]
  },
  {
   "cell_type": "raw",
   "metadata": {},
   "source": [
    "# Example Usage\n",
    "from google.cloud import bigquery\n",
    "\n",
    "client = bigquery.Client()\n",
    "\n",
    "# Perform a query.\n",
    "QUERY = (\n",
    "    'SELECT name FROM `bigquery-public-data.usa_names.usa_1910_2013` '\n",
    "    'WHERE state = \"TX\" '\n",
    "    'LIMIT 100')\n",
    "query_job = client.query(QUERY)  # API request\n",
    "rows = query_job.result()  # Waits for query to finish\n",
    "\n",
    "for row in rows:\n",
    "    print(row.name)"
   ]
  },
  {
   "cell_type": "code",
   "execution_count": 11,
   "metadata": {},
   "outputs": [],
   "source": [
    "import pickle \n",
    "import pandas as pd"
   ]
  },
  {
   "cell_type": "code",
   "execution_count": 13,
   "metadata": {},
   "outputs": [],
   "source": [
    "with open('/home/douglas/ds_projects/Predicting_Wildfire_Size/stations2001.pkl', 'rb') as picklefile:\n",
    "    stations2001 = pickle.load(picklefile)"
   ]
  },
  {
   "cell_type": "code",
   "execution_count": 14,
   "metadata": {},
   "outputs": [
    {
     "data": {
      "text/plain": [
       "array(['911977', '911907', '912850', ..., '727517', '690524', '722067'],\n",
       "      dtype=object)"
      ]
     },
     "execution_count": 14,
     "metadata": {},
     "output_type": "execute_result"
    }
   ],
   "source": [
    "stations2001"
   ]
  },
  {
   "cell_type": "code",
   "execution_count": 24,
   "metadata": {},
   "outputs": [],
   "source": [
    "query = '''SELECT stn, mo, da, temp, wdsp, max as max_temp, prcp, thunder  \n",
    "        FROM `bigquery-public-data.noaa_gsod.gsod2001` \n",
    "        WHERE stn in ('911977', '911907', '722067') order by stn, mo'''"
   ]
  },
  {
   "cell_type": "code",
   "execution_count": 25,
   "metadata": {},
   "outputs": [],
   "source": [
    "query_job = client.query(query)"
   ]
  },
  {
   "cell_type": "code",
   "execution_count": 32,
   "metadata": {},
   "outputs": [],
   "source": [
    "# returns a row iterator \n",
    "rows = query_job.result()"
   ]
  },
  {
   "cell_type": "code",
   "execution_count": 27,
   "metadata": {},
   "outputs": [
    {
     "data": {
      "text/plain": [
       "google.cloud.bigquery.table.RowIterator"
      ]
     },
     "execution_count": 27,
     "metadata": {},
     "output_type": "execute_result"
    }
   ],
   "source": [
    "type(rows)"
   ]
  },
  {
   "cell_type": "code",
   "execution_count": 33,
   "metadata": {},
   "outputs": [],
   "source": [
    "test_df = rows.to_dataframe()"
   ]
  },
  {
   "cell_type": "code",
   "execution_count": 35,
   "metadata": {},
   "outputs": [
    {
     "data": {
      "text/plain": [
       "stn\n",
       "722067     34\n",
       "911907     31\n",
       "911977    245\n",
       "dtype: int64"
      ]
     },
     "execution_count": 35,
     "metadata": {},
     "output_type": "execute_result"
    }
   ],
   "source": [
    "test_df.groupby('stn').size()"
   ]
  },
  {
   "cell_type": "code",
   "execution_count": 37,
   "metadata": {},
   "outputs": [
    {
     "data": {
      "text/html": [
       "<div>\n",
       "<style scoped>\n",
       "    .dataframe tbody tr th:only-of-type {\n",
       "        vertical-align: middle;\n",
       "    }\n",
       "\n",
       "    .dataframe tbody tr th {\n",
       "        vertical-align: top;\n",
       "    }\n",
       "\n",
       "    .dataframe thead th {\n",
       "        text-align: right;\n",
       "    }\n",
       "</style>\n",
       "<table border=\"1\" class=\"dataframe\">\n",
       "  <thead>\n",
       "    <tr style=\"text-align: right;\">\n",
       "      <th></th>\n",
       "      <th>stn</th>\n",
       "      <th>mo</th>\n",
       "      <th>da</th>\n",
       "      <th>temp</th>\n",
       "      <th>wdsp</th>\n",
       "      <th>max_temp</th>\n",
       "      <th>prcp</th>\n",
       "      <th>thunder</th>\n",
       "    </tr>\n",
       "  </thead>\n",
       "  <tbody>\n",
       "    <tr>\n",
       "      <th>5</th>\n",
       "      <td>722067</td>\n",
       "      <td>11</td>\n",
       "      <td>14</td>\n",
       "      <td>59.7</td>\n",
       "      <td>9.1</td>\n",
       "      <td>64.4</td>\n",
       "      <td>99.99</td>\n",
       "      <td>0</td>\n",
       "    </tr>\n",
       "    <tr>\n",
       "      <th>4</th>\n",
       "      <td>722067</td>\n",
       "      <td>11</td>\n",
       "      <td>15</td>\n",
       "      <td>68.0</td>\n",
       "      <td>13.4</td>\n",
       "      <td>73.4</td>\n",
       "      <td>0.00</td>\n",
       "      <td>0</td>\n",
       "    </tr>\n",
       "    <tr>\n",
       "      <th>0</th>\n",
       "      <td>722067</td>\n",
       "      <td>11</td>\n",
       "      <td>16</td>\n",
       "      <td>69.3</td>\n",
       "      <td>11.1</td>\n",
       "      <td>75.2</td>\n",
       "      <td>0.00</td>\n",
       "      <td>0</td>\n",
       "    </tr>\n",
       "    <tr>\n",
       "      <th>11</th>\n",
       "      <td>722067</td>\n",
       "      <td>11</td>\n",
       "      <td>19</td>\n",
       "      <td>66.7</td>\n",
       "      <td>999.9</td>\n",
       "      <td>75.2</td>\n",
       "      <td>0.00</td>\n",
       "      <td>0</td>\n",
       "    </tr>\n",
       "    <tr>\n",
       "      <th>7</th>\n",
       "      <td>722067</td>\n",
       "      <td>11</td>\n",
       "      <td>20</td>\n",
       "      <td>70.4</td>\n",
       "      <td>7.4</td>\n",
       "      <td>77.0</td>\n",
       "      <td>0.00</td>\n",
       "      <td>0</td>\n",
       "    </tr>\n",
       "    <tr>\n",
       "      <th>6</th>\n",
       "      <td>722067</td>\n",
       "      <td>11</td>\n",
       "      <td>21</td>\n",
       "      <td>63.6</td>\n",
       "      <td>999.9</td>\n",
       "      <td>71.6</td>\n",
       "      <td>0.00</td>\n",
       "      <td>0</td>\n",
       "    </tr>\n",
       "    <tr>\n",
       "      <th>1</th>\n",
       "      <td>722067</td>\n",
       "      <td>11</td>\n",
       "      <td>22</td>\n",
       "      <td>67.6</td>\n",
       "      <td>999.9</td>\n",
       "      <td>73.4</td>\n",
       "      <td>0.00</td>\n",
       "      <td>0</td>\n",
       "    </tr>\n",
       "    <tr>\n",
       "      <th>8</th>\n",
       "      <td>722067</td>\n",
       "      <td>11</td>\n",
       "      <td>23</td>\n",
       "      <td>72.2</td>\n",
       "      <td>5.8</td>\n",
       "      <td>78.8</td>\n",
       "      <td>0.00</td>\n",
       "      <td>0</td>\n",
       "    </tr>\n",
       "    <tr>\n",
       "      <th>9</th>\n",
       "      <td>722067</td>\n",
       "      <td>11</td>\n",
       "      <td>26</td>\n",
       "      <td>74.2</td>\n",
       "      <td>999.9</td>\n",
       "      <td>80.6</td>\n",
       "      <td>0.00</td>\n",
       "      <td>0</td>\n",
       "    </tr>\n",
       "    <tr>\n",
       "      <th>2</th>\n",
       "      <td>722067</td>\n",
       "      <td>11</td>\n",
       "      <td>27</td>\n",
       "      <td>72.3</td>\n",
       "      <td>4.8</td>\n",
       "      <td>78.8</td>\n",
       "      <td>0.00</td>\n",
       "      <td>0</td>\n",
       "    </tr>\n",
       "    <tr>\n",
       "      <th>12</th>\n",
       "      <td>722067</td>\n",
       "      <td>11</td>\n",
       "      <td>28</td>\n",
       "      <td>70.3</td>\n",
       "      <td>6.0</td>\n",
       "      <td>80.6</td>\n",
       "      <td>0.00</td>\n",
       "      <td>0</td>\n",
       "    </tr>\n",
       "    <tr>\n",
       "      <th>10</th>\n",
       "      <td>722067</td>\n",
       "      <td>11</td>\n",
       "      <td>29</td>\n",
       "      <td>71.6</td>\n",
       "      <td>4.4</td>\n",
       "      <td>78.8</td>\n",
       "      <td>0.00</td>\n",
       "      <td>0</td>\n",
       "    </tr>\n",
       "    <tr>\n",
       "      <th>3</th>\n",
       "      <td>722067</td>\n",
       "      <td>11</td>\n",
       "      <td>30</td>\n",
       "      <td>73.9</td>\n",
       "      <td>3.9</td>\n",
       "      <td>80.6</td>\n",
       "      <td>0.00</td>\n",
       "      <td>0</td>\n",
       "    </tr>\n",
       "    <tr>\n",
       "      <th>24</th>\n",
       "      <td>722067</td>\n",
       "      <td>12</td>\n",
       "      <td>01</td>\n",
       "      <td>66.9</td>\n",
       "      <td>999.9</td>\n",
       "      <td>73.4</td>\n",
       "      <td>0.00</td>\n",
       "      <td>0</td>\n",
       "    </tr>\n",
       "    <tr>\n",
       "      <th>16</th>\n",
       "      <td>722067</td>\n",
       "      <td>12</td>\n",
       "      <td>03</td>\n",
       "      <td>63.1</td>\n",
       "      <td>7.2</td>\n",
       "      <td>68.0</td>\n",
       "      <td>0.00</td>\n",
       "      <td>0</td>\n",
       "    </tr>\n",
       "    <tr>\n",
       "      <th>30</th>\n",
       "      <td>722067</td>\n",
       "      <td>12</td>\n",
       "      <td>04</td>\n",
       "      <td>66.7</td>\n",
       "      <td>5.9</td>\n",
       "      <td>71.6</td>\n",
       "      <td>0.00</td>\n",
       "      <td>0</td>\n",
       "    </tr>\n",
       "    <tr>\n",
       "      <th>28</th>\n",
       "      <td>722067</td>\n",
       "      <td>12</td>\n",
       "      <td>05</td>\n",
       "      <td>70.8</td>\n",
       "      <td>6.7</td>\n",
       "      <td>78.8</td>\n",
       "      <td>0.00</td>\n",
       "      <td>0</td>\n",
       "    </tr>\n",
       "    <tr>\n",
       "      <th>20</th>\n",
       "      <td>722067</td>\n",
       "      <td>12</td>\n",
       "      <td>06</td>\n",
       "      <td>72.5</td>\n",
       "      <td>4.9</td>\n",
       "      <td>78.8</td>\n",
       "      <td>0.00</td>\n",
       "      <td>0</td>\n",
       "    </tr>\n",
       "    <tr>\n",
       "      <th>13</th>\n",
       "      <td>722067</td>\n",
       "      <td>12</td>\n",
       "      <td>07</td>\n",
       "      <td>74.1</td>\n",
       "      <td>999.9</td>\n",
       "      <td>78.8</td>\n",
       "      <td>0.00</td>\n",
       "      <td>0</td>\n",
       "    </tr>\n",
       "    <tr>\n",
       "      <th>23</th>\n",
       "      <td>722067</td>\n",
       "      <td>12</td>\n",
       "      <td>10</td>\n",
       "      <td>72.7</td>\n",
       "      <td>999.9</td>\n",
       "      <td>78.8</td>\n",
       "      <td>99.99</td>\n",
       "      <td>0</td>\n",
       "    </tr>\n",
       "    <tr>\n",
       "      <th>17</th>\n",
       "      <td>722067</td>\n",
       "      <td>12</td>\n",
       "      <td>11</td>\n",
       "      <td>68.2</td>\n",
       "      <td>999.9</td>\n",
       "      <td>69.8</td>\n",
       "      <td>0.00</td>\n",
       "      <td>0</td>\n",
       "    </tr>\n",
       "    <tr>\n",
       "      <th>14</th>\n",
       "      <td>722067</td>\n",
       "      <td>12</td>\n",
       "      <td>12</td>\n",
       "      <td>70.9</td>\n",
       "      <td>999.9</td>\n",
       "      <td>75.2</td>\n",
       "      <td>0.00</td>\n",
       "      <td>0</td>\n",
       "    </tr>\n",
       "    <tr>\n",
       "      <th>21</th>\n",
       "      <td>722067</td>\n",
       "      <td>12</td>\n",
       "      <td>13</td>\n",
       "      <td>73.4</td>\n",
       "      <td>999.9</td>\n",
       "      <td>78.8</td>\n",
       "      <td>0.00</td>\n",
       "      <td>0</td>\n",
       "    </tr>\n",
       "    <tr>\n",
       "      <th>26</th>\n",
       "      <td>722067</td>\n",
       "      <td>12</td>\n",
       "      <td>14</td>\n",
       "      <td>75.0</td>\n",
       "      <td>5.6</td>\n",
       "      <td>78.8</td>\n",
       "      <td>0.00</td>\n",
       "      <td>0</td>\n",
       "    </tr>\n",
       "    <tr>\n",
       "      <th>27</th>\n",
       "      <td>722067</td>\n",
       "      <td>12</td>\n",
       "      <td>17</td>\n",
       "      <td>72.1</td>\n",
       "      <td>8.5</td>\n",
       "      <td>80.6</td>\n",
       "      <td>0.00</td>\n",
       "      <td>0</td>\n",
       "    </tr>\n",
       "    <tr>\n",
       "      <th>29</th>\n",
       "      <td>722067</td>\n",
       "      <td>12</td>\n",
       "      <td>18</td>\n",
       "      <td>63.4</td>\n",
       "      <td>6.1</td>\n",
       "      <td>69.8</td>\n",
       "      <td>0.00</td>\n",
       "      <td>0</td>\n",
       "    </tr>\n",
       "    <tr>\n",
       "      <th>31</th>\n",
       "      <td>722067</td>\n",
       "      <td>12</td>\n",
       "      <td>19</td>\n",
       "      <td>59.6</td>\n",
       "      <td>7.2</td>\n",
       "      <td>68.0</td>\n",
       "      <td>0.00</td>\n",
       "      <td>0</td>\n",
       "    </tr>\n",
       "    <tr>\n",
       "      <th>32</th>\n",
       "      <td>722067</td>\n",
       "      <td>12</td>\n",
       "      <td>20</td>\n",
       "      <td>56.6</td>\n",
       "      <td>6.2</td>\n",
       "      <td>62.6</td>\n",
       "      <td>0.00</td>\n",
       "      <td>0</td>\n",
       "    </tr>\n",
       "    <tr>\n",
       "      <th>19</th>\n",
       "      <td>722067</td>\n",
       "      <td>12</td>\n",
       "      <td>21</td>\n",
       "      <td>55.0</td>\n",
       "      <td>4.6</td>\n",
       "      <td>64.4</td>\n",
       "      <td>0.00</td>\n",
       "      <td>0</td>\n",
       "    </tr>\n",
       "    <tr>\n",
       "      <th>15</th>\n",
       "      <td>722067</td>\n",
       "      <td>12</td>\n",
       "      <td>24</td>\n",
       "      <td>57.9</td>\n",
       "      <td>5.4</td>\n",
       "      <td>62.6</td>\n",
       "      <td>0.00</td>\n",
       "      <td>0</td>\n",
       "    </tr>\n",
       "    <tr>\n",
       "      <th>33</th>\n",
       "      <td>722067</td>\n",
       "      <td>12</td>\n",
       "      <td>26</td>\n",
       "      <td>45.8</td>\n",
       "      <td>11.4</td>\n",
       "      <td>51.8</td>\n",
       "      <td>0.00</td>\n",
       "      <td>0</td>\n",
       "    </tr>\n",
       "    <tr>\n",
       "      <th>22</th>\n",
       "      <td>722067</td>\n",
       "      <td>12</td>\n",
       "      <td>27</td>\n",
       "      <td>47.1</td>\n",
       "      <td>8.7</td>\n",
       "      <td>55.4</td>\n",
       "      <td>0.00</td>\n",
       "      <td>0</td>\n",
       "    </tr>\n",
       "    <tr>\n",
       "      <th>25</th>\n",
       "      <td>722067</td>\n",
       "      <td>12</td>\n",
       "      <td>28</td>\n",
       "      <td>51.2</td>\n",
       "      <td>999.9</td>\n",
       "      <td>64.4</td>\n",
       "      <td>0.00</td>\n",
       "      <td>0</td>\n",
       "    </tr>\n",
       "    <tr>\n",
       "      <th>18</th>\n",
       "      <td>722067</td>\n",
       "      <td>12</td>\n",
       "      <td>31</td>\n",
       "      <td>49.5</td>\n",
       "      <td>5.5</td>\n",
       "      <td>55.4</td>\n",
       "      <td>0.00</td>\n",
       "      <td>0</td>\n",
       "    </tr>\n",
       "  </tbody>\n",
       "</table>\n",
       "</div>"
      ],
      "text/plain": [
       "       stn  mo  da  temp   wdsp  max_temp   prcp thunder\n",
       "5   722067  11  14  59.7    9.1      64.4  99.99       0\n",
       "4   722067  11  15  68.0   13.4      73.4   0.00       0\n",
       "0   722067  11  16  69.3   11.1      75.2   0.00       0\n",
       "11  722067  11  19  66.7  999.9      75.2   0.00       0\n",
       "7   722067  11  20  70.4    7.4      77.0   0.00       0\n",
       "6   722067  11  21  63.6  999.9      71.6   0.00       0\n",
       "1   722067  11  22  67.6  999.9      73.4   0.00       0\n",
       "8   722067  11  23  72.2    5.8      78.8   0.00       0\n",
       "9   722067  11  26  74.2  999.9      80.6   0.00       0\n",
       "2   722067  11  27  72.3    4.8      78.8   0.00       0\n",
       "12  722067  11  28  70.3    6.0      80.6   0.00       0\n",
       "10  722067  11  29  71.6    4.4      78.8   0.00       0\n",
       "3   722067  11  30  73.9    3.9      80.6   0.00       0\n",
       "24  722067  12  01  66.9  999.9      73.4   0.00       0\n",
       "16  722067  12  03  63.1    7.2      68.0   0.00       0\n",
       "30  722067  12  04  66.7    5.9      71.6   0.00       0\n",
       "28  722067  12  05  70.8    6.7      78.8   0.00       0\n",
       "20  722067  12  06  72.5    4.9      78.8   0.00       0\n",
       "13  722067  12  07  74.1  999.9      78.8   0.00       0\n",
       "23  722067  12  10  72.7  999.9      78.8  99.99       0\n",
       "17  722067  12  11  68.2  999.9      69.8   0.00       0\n",
       "14  722067  12  12  70.9  999.9      75.2   0.00       0\n",
       "21  722067  12  13  73.4  999.9      78.8   0.00       0\n",
       "26  722067  12  14  75.0    5.6      78.8   0.00       0\n",
       "27  722067  12  17  72.1    8.5      80.6   0.00       0\n",
       "29  722067  12  18  63.4    6.1      69.8   0.00       0\n",
       "31  722067  12  19  59.6    7.2      68.0   0.00       0\n",
       "32  722067  12  20  56.6    6.2      62.6   0.00       0\n",
       "19  722067  12  21  55.0    4.6      64.4   0.00       0\n",
       "15  722067  12  24  57.9    5.4      62.6   0.00       0\n",
       "33  722067  12  26  45.8   11.4      51.8   0.00       0\n",
       "22  722067  12  27  47.1    8.7      55.4   0.00       0\n",
       "25  722067  12  28  51.2  999.9      64.4   0.00       0\n",
       "18  722067  12  31  49.5    5.5      55.4   0.00       0"
      ]
     },
     "execution_count": 37,
     "metadata": {},
     "output_type": "execute_result"
    }
   ],
   "source": [
    "test_df[test_df['stn'] == '722067'].sort_values(['mo', 'da'])\n",
    "#nulls are 999.9 for wdsp, 99.99 for prcp"
   ]
  },
  {
   "cell_type": "code",
   "execution_count": 38,
   "metadata": {},
   "outputs": [],
   "source": [
    "query1993 = '''SELECT stn, mo, da, temp, wdsp, max as max_temp, prcp, thunder  \n",
    "        FROM `bigquery-public-data.noaa_gsod.gsod1993` '''\n",
    "query_job = client.query(query1993)\n",
    "rows = query_job.result()\n",
    "weather1993 = rows.to_dataframe()"
   ]
  },
  {
   "cell_type": "code",
   "execution_count": 39,
   "metadata": {},
   "outputs": [
    {
     "data": {
      "text/plain": [
       "(2564874, 8)"
      ]
     },
     "execution_count": 39,
     "metadata": {},
     "output_type": "execute_result"
    }
   ],
   "source": [
    "weather1993.shape"
   ]
  },
  {
   "cell_type": "code",
   "execution_count": 40,
   "metadata": {},
   "outputs": [
    {
     "data": {
      "text/plain": [
       "9000"
      ]
     },
     "execution_count": 40,
     "metadata": {},
     "output_type": "execute_result"
    }
   ],
   "source": [
    "weather1993['stn'].nunique()"
   ]
  },
  {
   "cell_type": "code",
   "execution_count": 41,
   "metadata": {},
   "outputs": [],
   "source": [
    "us_only_stations = pd.read_csv('/home/douglas/ds_projects/Predicting_Wildfire_Size/us_only_stations.csv', header=None, usecols=[0], names=['USAF'])"
   ]
  },
  {
   "cell_type": "code",
   "execution_count": 46,
   "metadata": {},
   "outputs": [],
   "source": [
    "us_stations = us_only_stations['USAF'].unique()"
   ]
  },
  {
   "cell_type": "code",
   "execution_count": 50,
   "metadata": {},
   "outputs": [
    {
     "data": {
      "text/plain": [
       "str"
      ]
     },
     "execution_count": 50,
     "metadata": {},
     "output_type": "execute_result"
    }
   ],
   "source": [
    "type(us_stations[0])"
   ]
  },
  {
   "cell_type": "code",
   "execution_count": 53,
   "metadata": {},
   "outputs": [],
   "source": [
    "# one big string - wouldn't be read as a list\n",
    "us_stations1 = ','.join(us_stations)"
   ]
  },
  {
   "cell_type": "code",
   "execution_count": 56,
   "metadata": {},
   "outputs": [],
   "source": [
    "# tuple gives the commas necessary\n",
    "us_stations2 = tuple(us_stations)"
   ]
  },
  {
   "cell_type": "code",
   "execution_count": 58,
   "metadata": {},
   "outputs": [],
   "source": [
    "query1999 = '''SELECT stn, year, mo, da, temp, stp, wdsp, max as max_temp, prcp, thunder  \n",
    "        FROM `bigquery-public-data.noaa_gsod.gsod1999` \n",
    "        WHERE stn IN {} order by stn, mo'''.format(tuple(us_stations))"
   ]
  },
  {
   "cell_type": "code",
   "execution_count": null,
   "metadata": {},
   "outputs": [],
   "source": []
  },
  {
   "cell_type": "code",
   "execution_count": null,
   "metadata": {},
   "outputs": [],
   "source": []
  },
  {
   "cell_type": "code",
   "execution_count": 60,
   "metadata": {},
   "outputs": [
    {
     "name": "stdout",
     "output_type": "stream",
     "text": [
      "CPU times: user 12.9 s, sys: 313 ms, total: 13.2 s\n",
      "Wall time: 53.4 s\n"
     ]
    }
   ],
   "source": [
    "%%time\n",
    "query1999 = '''SELECT stn, year, mo, da, temp, stp, wdsp, max as max_temp, prcp, thunder  \n",
    "        FROM `bigquery-public-data.noaa_gsod.gsod1999` \n",
    "        WHERE stn IN {} order by stn, mo'''.format(tuple(us_stations))\n",
    "query_job = client.query(query1999)\n",
    "rows = query_job.result()\n",
    "weather1999 = rows.to_dataframe()"
   ]
  },
  {
   "cell_type": "code",
   "execution_count": 63,
   "metadata": {},
   "outputs": [
    {
     "data": {
      "text/plain": [
       "4474"
      ]
     },
     "execution_count": 63,
     "metadata": {},
     "output_type": "execute_result"
    }
   ],
   "source": []
  },
  {
   "cell_type": "code",
   "execution_count": 66,
   "metadata": {},
   "outputs": [
    {
     "data": {
      "text/plain": [
       "0.33638801966919984"
      ]
     },
     "execution_count": 66,
     "metadata": {},
     "output_type": "execute_result"
    }
   ],
   "source": [
    "# \n",
    "len(weather1999['stn'].unique()) / len(us_stations)"
   ]
  },
  {
   "cell_type": "code",
   "execution_count": null,
   "metadata": {},
   "outputs": [],
   "source": [
    "%%time\n",
    "query1999 = '''SELECT stn, year, mo, da, temp, stp, wdsp, max as max_temp, prcp, thunder  \n",
    "        FROM `bigquery-public-data.noaa_gsod.gsod{}` \n",
    "        WHERE stn IN {} order by stn, mo'''.format('2000', tuple(us_stations))\n",
    "query_job = client.query(query1999)\n",
    "rows = query_job.result()\n",
    "weather1999 = rows.to_dataframe()"
   ]
  },
  {
   "cell_type": "code",
   "execution_count": 68,
   "metadata": {},
   "outputs": [],
   "source": [
    "# test \n",
    "query2000 = '''SELECT stn, year, mo, da, temp, stp, wdsp, max as max_temp, prcp, thunder  \n",
    "        FROM `bigquery-public-data.noaa_gsod.gsod{}` \n",
    "        WHERE stn IN {} order by stn, mo'''.format('2000', tuple(us_stations))\n",
    "#query2000"
   ]
  },
  {
   "cell_type": "code",
   "execution_count": 70,
   "metadata": {},
   "outputs": [
    {
     "data": {
      "text/plain": [
       "array([1992, 1993, 1994, 1995, 1996, 1997, 1998, 1999, 2000, 2001, 2002,\n",
       "       2003, 2004, 2005, 2006, 2007, 2008, 2009, 2010, 2011, 2012, 2013,\n",
       "       2014, 2015])"
      ]
     },
     "execution_count": 70,
     "metadata": {},
     "output_type": "execute_result"
    }
   ],
   "source": [
    "import numpy as np\n",
    "np.arange(1992, 2016, 1)"
   ]
  },
  {
   "cell_type": "code",
   "execution_count": 72,
   "metadata": {},
   "outputs": [],
   "source": [
    "df_names = ['weather' + str(yr) for yr in np.arange(1992,2016,1)]\n"
   ]
  },
  {
   "cell_type": "code",
   "execution_count": 73,
   "metadata": {},
   "outputs": [],
   "source": [
    "queries = ['''SELECT stn, year, mo, da, temp, stp, wdsp, max as max_temp, prcp, thunder  \n",
    "        FROM `bigquery-public-data.noaa_gsod.gsod{}` \n",
    "        WHERE stn IN {} order by stn, mo'''.format(str(yr), tuple(us_stations)) for yr in np.arange(1992,2016)]"
   ]
  },
  {
   "cell_type": "code",
   "execution_count": 75,
   "metadata": {},
   "outputs": [
    {
     "data": {
      "text/plain": [
       "24"
      ]
     },
     "execution_count": 75,
     "metadata": {},
     "output_type": "execute_result"
    }
   ],
   "source": [
    "len(queries)"
   ]
  },
  {
   "cell_type": "code",
   "execution_count": 77,
   "metadata": {},
   "outputs": [
    {
     "name": "stdout",
     "output_type": "stream",
     "text": [
      "weather1992 downloaded\n",
      "weather1993 downloaded\n",
      "weather1994 downloaded\n",
      "weather1995 downloaded\n",
      "weather1996 downloaded\n",
      "weather1997 downloaded\n",
      "weather1998 downloaded\n",
      "weather1999 downloaded\n",
      "weather2000 downloaded\n",
      "weather2001 downloaded\n",
      "weather2002 downloaded\n",
      "weather2003 downloaded\n",
      "weather2004 downloaded\n",
      "weather2005 downloaded\n",
      "weather2006 downloaded\n",
      "weather2007 downloaded\n",
      "weather2008 downloaded\n",
      "weather2009 downloaded\n",
      "weather2010 downloaded\n",
      "weather2011 downloaded\n",
      "weather2012 downloaded\n",
      "weather2013 downloaded\n",
      "weather2014 downloaded\n",
      "weather2015 downloaded\n",
      "CPU times: user 7min 19s, sys: 11.3 s, total: 7min 30s\n",
      "Wall time: 31min 59s\n"
     ]
    }
   ],
   "source": [
    "%%time \n",
    "weather_dfs = dict()\n",
    "for year, query in zip(df_names, queries):\n",
    "    query_job = client.query(query)\n",
    "    rows = query_job.result()\n",
    "    weather_dfs[year] = rows.to_dataframe()\n",
    "    print(year, 'downloaded')\n",
    "    "
   ]
  },
  {
   "cell_type": "code",
   "execution_count": 78,
   "metadata": {},
   "outputs": [
    {
     "data": {
      "text/plain": [
       "24"
      ]
     },
     "execution_count": 78,
     "metadata": {},
     "output_type": "execute_result"
    }
   ],
   "source": [
    "len(weather_dfs)"
   ]
  },
  {
   "cell_type": "code",
   "execution_count": 79,
   "metadata": {},
   "outputs": [
    {
     "data": {
      "text/plain": [
       "dict_keys(['weather1992', 'weather1993', 'weather1994', 'weather1995', 'weather1996', 'weather1997', 'weather1998', 'weather1999', 'weather2000', 'weather2001', 'weather2002', 'weather2003', 'weather2004', 'weather2005', 'weather2006', 'weather2007', 'weather2008', 'weather2009', 'weather2010', 'weather2011', 'weather2012', 'weather2013', 'weather2014', 'weather2015'])"
      ]
     },
     "execution_count": 79,
     "metadata": {},
     "output_type": "execute_result"
    }
   ],
   "source": [
    "weather_dfs.keys()"
   ]
  },
  {
   "cell_type": "code",
   "execution_count": 80,
   "metadata": {},
   "outputs": [
    {
     "data": {
      "text/plain": [
       "942930"
      ]
     },
     "execution_count": 80,
     "metadata": {},
     "output_type": "execute_result"
    }
   ],
   "source": [
    "len(weather_dfs['weather2010'])"
   ]
  },
  {
   "cell_type": "code",
   "execution_count": 82,
   "metadata": {},
   "outputs": [
    {
     "name": "stdout",
     "output_type": "stream",
     "text": [
      "weather1992 saved\n",
      "weather1993 saved\n",
      "weather1994 saved\n",
      "weather1995 saved\n",
      "weather1996 saved\n",
      "weather1997 saved\n",
      "weather1998 saved\n",
      "weather1999 saved\n",
      "weather2000 saved\n",
      "weather2001 saved\n",
      "weather2002 saved\n",
      "weather2003 saved\n",
      "weather2004 saved\n",
      "weather2005 saved\n",
      "weather2006 saved\n",
      "weather2007 saved\n",
      "weather2008 saved\n",
      "weather2009 saved\n",
      "weather2010 saved\n",
      "weather2011 saved\n",
      "weather2012 saved\n",
      "weather2013 saved\n",
      "weather2014 saved\n",
      "weather2015 saved\n",
      "CPU times: user 36.1 s, sys: 21.5 s, total: 57.6 s\n",
      "Wall time: 47min 28s\n"
     ]
    }
   ],
   "source": [
    "%%time \n",
    "for name in df_names:\n",
    "    df = weather_dfs[name]\n",
    "    with open('/home/douglas/ds_projects/Predicting_Wildfire_Size/data/{}.pkl'.format(name), 'wb') as picklefile:\n",
    "        pickle.dump(df, picklefile)\n",
    "    print(name, 'saved')"
   ]
  },
  {
   "cell_type": "code",
   "execution_count": null,
   "metadata": {},
   "outputs": [],
   "source": []
  }
 ],
 "metadata": {
  "kernelspec": {
   "display_name": "Python 3",
   "language": "python",
   "name": "python3"
  },
  "language_info": {
   "codemirror_mode": {
    "name": "ipython",
    "version": 3
   },
   "file_extension": ".py",
   "mimetype": "text/x-python",
   "name": "python",
   "nbconvert_exporter": "python",
   "pygments_lexer": "ipython3",
   "version": "3.7.0"
  }
 },
 "nbformat": 4,
 "nbformat_minor": 2
}
