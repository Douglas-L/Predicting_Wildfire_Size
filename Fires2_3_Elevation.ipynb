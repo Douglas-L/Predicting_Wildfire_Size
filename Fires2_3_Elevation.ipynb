{
 "cells": [
  {
   "cell_type": "markdown",
   "metadata": {},
   "source": [
    "# Summary\n",
    "In this notebook, I look up the elevation at the location with a fire's given latitude and longitude using a raster query tool called \"gdallocationinfo.\""
   ]
  },
  {
   "cell_type": "markdown",
   "metadata": {},
   "source": [
    "<a id=\"prereqs\"></a>\n",
    "# 1. Required Tools and Data\n",
    "The U.S. Geological Survey assembles elevation data with 100-meter resolution. It is stored as a TIFF file, which requires a specific utility to retrieve the elevation at the given coordinates. The [gdallocationinfo utility](https://www.gdal.org/gdallocationinfo.html) is a command line tool that \"provide a mechanism to query information about a pixel given its location in one of a variety of coordinate systems.\"  \n",
    "\n",
    "The Elevation maps are stored in four separate files: [the conterminous US](https://www.sciencebase.gov/catalog/item/581d0539e4b08da350d52552), [Alaska](https://www.sciencebase.gov/catalog/item/581d0539e4b08da350d52557), [Hawaii](https://www.sciencebase.gov/catalog/item/581d053ae4b08da350d5255b), and [Puerto Rico](https://www.sciencebase.gov/catalog/item/581d053ae4b08da350d5255f)."
   ]
  },
  {
   "cell_type": "markdown",
   "metadata": {},
   "source": [
    "# 2. Imports"
   ]
  },
  {
   "cell_type": "code",
   "execution_count": 1,
   "metadata": {},
   "outputs": [],
   "source": [
    "import os\n",
    "import pandas as pd \n",
    "import time\n",
    "\n",
    "import matplotlib.pyplot as plt\n",
    "import seaborn as sns\n",
    "%matplotlib inline\n",
    "sns.set()\n",
    "\n"
   ]
  },
  {
   "cell_type": "markdown",
   "metadata": {},
   "source": [
    "# 3. Generic Version of get_elevation\n",
    "To use the gdallocationinfo utility within python, you need to use the subprocess package. Credits to [user20408](https://gis.stackexchange.com/questions/118397/store-result-from-gdallocationinfo-as-variable-in-python)  for coming up with the correct syntax. "
   ]
  },
  {
   "cell_type": "code",
   "execution_count": 2,
   "metadata": {},
   "outputs": [],
   "source": [
    "def gen_get_elevation(lon, lat, tiff_path):\n",
    "    '''return elevation from coordinates and the file path to the relevant TIFF file\n",
    "    Requires gdallocation tool https://www.gdal.org/gdallocationinfo.html'''\n",
    "    return os.popen(f'gdallocationinfo -valonly -wgs84 {tiff_path} {lon} {lat}')\\\n",
    "                        .read().strip()\n",
    "\n",
    "#gdallocationinfo defaults to an empty string if can't find location in TIFF\n"
   ]
  },
  {
   "cell_type": "markdown",
   "metadata": {},
   "source": [
    "# 4. Demo Application\n"
   ]
  },
  {
   "cell_type": "markdown",
   "metadata": {},
   "source": [
    "Since the elevation data is split into 4 TIFF files, I needed to take the corresponding subset of rows and apply the function each time. It was simpler for me to feed the whole row of the dataframe and edit in the right file path into the function directly each time I ran the script, so that's what I did. With all those done, the 4 subsets were merged back together with pd.concat."
   ]
  },
  {
   "cell_type": "code",
   "execution_count": 3,
   "metadata": {},
   "outputs": [
    {
     "name": "stdout",
     "output_type": "stream",
     "text": [
      "328\n"
     ]
    }
   ],
   "source": [
    "# load sample data\n",
    "fires = pd.read_pickle('lean_fires.pkl') \n",
    "# filter for sample subset\n",
    "alaska = fires[fires['STATE'] == 'AK']\n",
    "print(len(alaska))"
   ]
  },
  {
   "cell_type": "code",
   "execution_count": 4,
   "metadata": {},
   "outputs": [],
   "source": [
    "# df.apply version  \n",
    "def df_get_elevation(row):\n",
    "    '''return elevation in meters from coordinates\n",
    "    Requires gdallocation tool https://www.gdal.org/gdallocationinfo.html'''\n",
    "    lon = row['LONGITUDE']\n",
    "    lat = row['LATITUDE']\n",
    "    return os.popen(f'gdallocationinfo -valonly -wgs84 /home/douglas/USGS\\ Conterminous\\ US/alaska/elevaki0100a.tif {lon} {lat}').read().strip()"
   ]
  },
  {
   "cell_type": "code",
   "execution_count": 5,
   "metadata": {},
   "outputs": [
    {
     "name": "stdout",
     "output_type": "stream",
     "text": [
      "Apply execution time per row= 0.10201887241223963\n"
     ]
    },
    {
     "name": "stderr",
     "output_type": "stream",
     "text": [
      "/home/douglas/anaconda3/lib/python3.7/site-packages/ipykernel_launcher.py:2: SettingWithCopyWarning: \n",
      "A value is trying to be set on a copy of a slice from a DataFrame.\n",
      "Try using .loc[row_indexer,col_indexer] = value instead\n",
      "\n",
      "See the caveats in the documentation: http://pandas.pydata.org/pandas-docs/stable/indexing.html#indexing-view-versus-copy\n",
      "  \n"
     ]
    }
   ],
   "source": [
    "start = time.time()\n",
    "alaska['Elevation'] = alaska.apply(df_get_elevation, axis=1)\n",
    "end = time.time()\n",
    "print('Apply execution time per row=', (end - start)/len(alaska))\n",
    "# start = time.time()\n",
    "# alaska.to_pickle('alaska_with_elevation.pkl')\n",
    "# end = time.time()\n",
    "# print('Pickling execution time=', end - start)"
   ]
  },
  {
   "cell_type": "code",
   "execution_count": 6,
   "metadata": {},
   "outputs": [
    {
     "data": {
      "text/html": [
       "<div>\n",
       "<style scoped>\n",
       "    .dataframe tbody tr th:only-of-type {\n",
       "        vertical-align: middle;\n",
       "    }\n",
       "\n",
       "    .dataframe tbody tr th {\n",
       "        vertical-align: top;\n",
       "    }\n",
       "\n",
       "    .dataframe thead th {\n",
       "        text-align: right;\n",
       "    }\n",
       "</style>\n",
       "<table border=\"1\" class=\"dataframe\">\n",
       "  <thead>\n",
       "    <tr style=\"text-align: right;\">\n",
       "      <th></th>\n",
       "      <th>LATITUDE</th>\n",
       "      <th>LONGITUDE</th>\n",
       "      <th>Elevation</th>\n",
       "    </tr>\n",
       "  </thead>\n",
       "  <tbody>\n",
       "    <tr>\n",
       "      <th>377784</th>\n",
       "      <td>61.066670</td>\n",
       "      <td>-149.766700</td>\n",
       "      <td>290</td>\n",
       "    </tr>\n",
       "    <tr>\n",
       "      <th>378635</th>\n",
       "      <td>64.833340</td>\n",
       "      <td>-147.850000</td>\n",
       "      <td>124</td>\n",
       "    </tr>\n",
       "    <tr>\n",
       "      <th>1652054</th>\n",
       "      <td>62.055888</td>\n",
       "      <td>-151.616888</td>\n",
       "      <td>158</td>\n",
       "    </tr>\n",
       "    <tr>\n",
       "      <th>379682</th>\n",
       "      <td>64.848390</td>\n",
       "      <td>-148.047900</td>\n",
       "      <td>246</td>\n",
       "    </tr>\n",
       "    <tr>\n",
       "      <th>1361542</th>\n",
       "      <td>64.766670</td>\n",
       "      <td>-149.566665</td>\n",
       "      <td>91</td>\n",
       "    </tr>\n",
       "  </tbody>\n",
       "</table>\n",
       "</div>"
      ],
      "text/plain": [
       "          LATITUDE   LONGITUDE Elevation\n",
       "377784   61.066670 -149.766700       290\n",
       "378635   64.833340 -147.850000       124\n",
       "1652054  62.055888 -151.616888       158\n",
       "379682   64.848390 -148.047900       246\n",
       "1361542  64.766670 -149.566665        91"
      ]
     },
     "execution_count": 6,
     "metadata": {},
     "output_type": "execute_result"
    }
   ],
   "source": [
    "alaska[['LATITUDE', 'LONGITUDE', 'Elevation']].head()"
   ]
  },
  {
   "cell_type": "markdown",
   "metadata": {},
   "source": [
    "# 4. EDA On Full Elevation Data"
   ]
  },
  {
   "cell_type": "code",
   "execution_count": 7,
   "metadata": {},
   "outputs": [],
   "source": [
    "# load a full data set \n",
    "full = pd.read_pickle('dec_4_fires_joined_3weather_days.pkl')"
   ]
  },
  {
   "cell_type": "code",
   "execution_count": 8,
   "metadata": {},
   "outputs": [
    {
     "data": {
      "text/plain": [
       "3     17556\n",
       "6     12163\n",
       "5     10878\n",
       "4     10640\n",
       "2     10530\n",
       "7     10304\n",
       "8      9872\n",
       "1      8306\n",
       "9      8100\n",
       "25     7185\n",
       "Name: Elevation, dtype: int64"
      ]
     },
     "execution_count": 8,
     "metadata": {},
     "output_type": "execute_result"
    }
   ],
   "source": [
    "#top 10 elevations overall\n",
    "full['Elevation'].value_counts()[:10]"
   ]
  },
  {
   "cell_type": "code",
   "execution_count": 9,
   "metadata": {},
   "outputs": [],
   "source": [
    "# Elevation was in str format\n",
    "full['Elevation'] = full['Elevation'].astype('int')"
   ]
  },
  {
   "cell_type": "code",
   "execution_count": 10,
   "metadata": {},
   "outputs": [
    {
     "name": "stdout",
     "output_type": "stream",
     "text": [
      "CPU times: user 4.48 s, sys: 1.13 s, total: 5.6 s\n",
      "Wall time: 3.96 s\n"
     ]
    },
    {
     "data": {
      "text/html": [
       "<div>\n",
       "<style scoped>\n",
       "    .dataframe tbody tr th:only-of-type {\n",
       "        vertical-align: middle;\n",
       "    }\n",
       "\n",
       "    .dataframe tbody tr th {\n",
       "        vertical-align: top;\n",
       "    }\n",
       "\n",
       "    .dataframe thead th {\n",
       "        text-align: right;\n",
       "    }\n",
       "</style>\n",
       "<table border=\"1\" class=\"dataframe\">\n",
       "  <thead>\n",
       "    <tr style=\"text-align: right;\">\n",
       "      <th></th>\n",
       "      <th>count</th>\n",
       "      <th>mean</th>\n",
       "      <th>std</th>\n",
       "      <th>min</th>\n",
       "      <th>25%</th>\n",
       "      <th>50%</th>\n",
       "      <th>75%</th>\n",
       "      <th>max</th>\n",
       "    </tr>\n",
       "    <tr>\n",
       "      <th>FIRE_SIZE_CLASS</th>\n",
       "      <th></th>\n",
       "      <th></th>\n",
       "      <th></th>\n",
       "      <th></th>\n",
       "      <th></th>\n",
       "      <th></th>\n",
       "      <th></th>\n",
       "      <th></th>\n",
       "    </tr>\n",
       "  </thead>\n",
       "  <tbody>\n",
       "    <tr>\n",
       "      <th>A</th>\n",
       "      <td>666904.0</td>\n",
       "      <td>749.409936</td>\n",
       "      <td>795.410740</td>\n",
       "      <td>-84.0</td>\n",
       "      <td>101.0</td>\n",
       "      <td>368.0</td>\n",
       "      <td>1363.0</td>\n",
       "      <td>4109.0</td>\n",
       "    </tr>\n",
       "    <tr>\n",
       "      <th>B</th>\n",
       "      <td>939370.0</td>\n",
       "      <td>366.200618</td>\n",
       "      <td>514.925558</td>\n",
       "      <td>-80.0</td>\n",
       "      <td>69.0</td>\n",
       "      <td>169.0</td>\n",
       "      <td>392.0</td>\n",
       "      <td>3946.0</td>\n",
       "    </tr>\n",
       "    <tr>\n",
       "      <th>C</th>\n",
       "      <td>220076.0</td>\n",
       "      <td>345.633290</td>\n",
       "      <td>471.033390</td>\n",
       "      <td>-71.0</td>\n",
       "      <td>67.0</td>\n",
       "      <td>170.0</td>\n",
       "      <td>383.0</td>\n",
       "      <td>3659.0</td>\n",
       "    </tr>\n",
       "    <tr>\n",
       "      <th>D</th>\n",
       "      <td>28427.0</td>\n",
       "      <td>564.598656</td>\n",
       "      <td>601.299032</td>\n",
       "      <td>-51.0</td>\n",
       "      <td>117.0</td>\n",
       "      <td>337.0</td>\n",
       "      <td>826.5</td>\n",
       "      <td>3354.0</td>\n",
       "    </tr>\n",
       "    <tr>\n",
       "      <th>E</th>\n",
       "      <td>14107.0</td>\n",
       "      <td>752.604948</td>\n",
       "      <td>685.289924</td>\n",
       "      <td>-58.0</td>\n",
       "      <td>214.0</td>\n",
       "      <td>500.0</td>\n",
       "      <td>1251.0</td>\n",
       "      <td>3718.0</td>\n",
       "    </tr>\n",
       "    <tr>\n",
       "      <th>F</th>\n",
       "      <td>7786.0</td>\n",
       "      <td>964.941176</td>\n",
       "      <td>724.881291</td>\n",
       "      <td>-1.0</td>\n",
       "      <td>313.0</td>\n",
       "      <td>881.5</td>\n",
       "      <td>1524.0</td>\n",
       "      <td>3111.0</td>\n",
       "    </tr>\n",
       "    <tr>\n",
       "      <th>G</th>\n",
       "      <td>3773.0</td>\n",
       "      <td>1081.395706</td>\n",
       "      <td>735.498438</td>\n",
       "      <td>-13.0</td>\n",
       "      <td>391.0</td>\n",
       "      <td>1090.0</td>\n",
       "      <td>1615.0</td>\n",
       "      <td>3601.0</td>\n",
       "    </tr>\n",
       "  </tbody>\n",
       "</table>\n",
       "</div>"
      ],
      "text/plain": [
       "                    count         mean         std   min    25%     50%  \\\n",
       "FIRE_SIZE_CLASS                                                           \n",
       "A                666904.0   749.409936  795.410740 -84.0  101.0   368.0   \n",
       "B                939370.0   366.200618  514.925558 -80.0   69.0   169.0   \n",
       "C                220076.0   345.633290  471.033390 -71.0   67.0   170.0   \n",
       "D                 28427.0   564.598656  601.299032 -51.0  117.0   337.0   \n",
       "E                 14107.0   752.604948  685.289924 -58.0  214.0   500.0   \n",
       "F                  7786.0   964.941176  724.881291  -1.0  313.0   881.5   \n",
       "G                  3773.0  1081.395706  735.498438 -13.0  391.0  1090.0   \n",
       "\n",
       "                    75%     max  \n",
       "FIRE_SIZE_CLASS                  \n",
       "A                1363.0  4109.0  \n",
       "B                 392.0  3946.0  \n",
       "C                 383.0  3659.0  \n",
       "D                 826.5  3354.0  \n",
       "E                1251.0  3718.0  \n",
       "F                1524.0  3111.0  \n",
       "G                1615.0  3601.0  "
      ]
     },
     "execution_count": 10,
     "metadata": {},
     "output_type": "execute_result"
    }
   ],
   "source": [
    "%time full.groupby('FIRE_SIZE_CLASS')['Elevation'].describe()"
   ]
  },
  {
   "cell_type": "code",
   "execution_count": 11,
   "metadata": {},
   "outputs": [
    {
     "data": {
      "text/plain": [
       "Text(0,0.5,'Fire size class')"
      ]
     },
     "execution_count": 11,
     "metadata": {},
     "output_type": "execute_result"
    },
    {
     "data": {
      "image/png": "[encoded data removed]",
      "text/plain": [
       "<Figure size 864x576 with 1 Axes>"
      ]
     },
     "metadata": {
      "needs_background": "light"
     },
     "output_type": "display_data"
    }
   ],
   "source": [
    "plt.figure(figsize=(12,8))\n",
    "sns.boxplot(x='Elevation', y='FIRE_SIZE_CLASS', data=full, order=['A', 'B', 'C', 'D', 'E', 'F', 'G'])\n",
    "plt.title('Distribution of elevation for each size class', fontsize=20)\n",
    "plt.xlim(right= 3000)\n",
    "plt.xlabel('Elevation', fontsize=14)\n",
    "plt.ylabel('Fire size class', fontsize=14)"
   ]
  },
  {
   "cell_type": "markdown",
   "metadata": {},
   "source": [
    "The wide distributions make it difficult to draw any conclusions from  elevations alone. However, there does seem to be a slight upward trend as fires get larger and we'll see if it adds any signal when combined with the other features of the data. "
   ]
  }
 ],
 "metadata": {
  "kernelspec": {
   "display_name": "Python 3",
   "language": "python",
   "name": "python3"
  },
  "language_info": {
   "codemirror_mode": {
    "name": "ipython",
    "version": 3
   },
   "file_extension": ".py",
   "mimetype": "text/x-python",
   "name": "python",
   "nbconvert_exporter": "python",
   "pygments_lexer": "ipython3",
   "version": "3.7.0"
  }
 },
 "nbformat": 4,
 "nbformat_minor": 2
}
