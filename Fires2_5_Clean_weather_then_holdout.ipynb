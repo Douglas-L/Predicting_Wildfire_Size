{
 "cells": [
  {
   "cell_type": "markdown",
   "metadata": {},
   "source": [
    "# Summary \n",
    "In this notebook, I do some further cleaning such as keeping only columns used for modeling and removing rows with significant missing data. I replaced placeholder values with nulls to visualize the distributions of the new weather data with simple box plots. Finally, I hold out two separate test sets to see how well my models will generalize. "
   ]
  },
  {
   "cell_type": "code",
   "execution_count": 1,
   "metadata": {},
   "outputs": [],
   "source": [
    "import pandas as pd\n",
    "import numpy as np\n",
    "import matplotlib.pyplot as plt\n",
    "%matplotlib inline\n",
    "import seaborn as sns\n",
    "sns.set()\n",
    "\n",
    "from sklearn.model_selection import train_test_split, StratifiedKFold\n",
    "\n",
    "pd.set_option('display.max_columns', 50)"
   ]
  },
  {
   "cell_type": "code",
   "execution_count": null,
   "metadata": {},
   "outputs": [],
   "source": []
  },
  {
   "cell_type": "code",
   "execution_count": 2,
   "metadata": {},
   "outputs": [],
   "source": [
    "full = pd.read_pickle('dec_4_fires_joined_3weather_days.pkl')"
   ]
  },
  {
   "cell_type": "code",
   "execution_count": 3,
   "metadata": {},
   "outputs": [
    {
     "data": {
      "text/plain": [
       "(1880443, 80)"
      ]
     },
     "execution_count": 3,
     "metadata": {},
     "output_type": "execute_result"
    }
   ],
   "source": [
    "full.shape"
   ]
  },
  {
   "cell_type": "code",
   "execution_count": 4,
   "metadata": {},
   "outputs": [
    {
     "data": {
      "text/plain": [
       "Index(['FOD_ID', 'DISCOVERY_DATE', 'DISCOVERY_DOY', 'DISCOVERY_TIME',\n",
       "       'STAT_CAUSE_CODE', 'STAT_CAUSE_DESCR', 'FIRE_SIZE', 'FIRE_SIZE_CLASS',\n",
       "       'LATITUDE', 'LONGITUDE', 'STATE', 'Month', 'DayofWeek',\n",
       "       'DISCOVERY_TIME2', 'COUNTY2_x', 'COUNTY_ID', 'CLASS', 'StateID',\n",
       "       'CAUSE', 'Prev_Lightning_Fires', 'Prev_Accident_Fires',\n",
       "       'Prev_Arson_Fires', 'Prev_Other_Fires', 'Prev_Fires_at_Location',\n",
       "       'Prev_Fires_Same_Month', 'Prev_1_fires2', 'Prev_2_Fires',\n",
       "       'Prev_3_fires', 'Elevation', 'date_as_int', 'weather_station',\n",
       "       'weather_station1', 'weather_station2', 'weather_station3', 'stn_x',\n",
       "       'year_x', 'mo_x', 'da_x', 'temp_x', 'stp_x', 'wdsp_x', 'max_temp_x',\n",
       "       'prcp_x', 'thunder_x', 'date_x', 'stn_y', 'year_y', 'mo_y', 'da_y',\n",
       "       'temp_y', 'stp_y', 'wdsp_y', 'max_temp_y', 'prcp_y', 'thunder_y',\n",
       "       'date_y', 'stn', 'year', 'mo', 'da', 'temp', 'stp', 'wdsp', 'max_temp',\n",
       "       'prcp', 'thunder', 'date', 'day_2', 'day_3', 'stn_day2', 'year_day2',\n",
       "       'mo_day2', 'da_day2', 'temp_day2', 'stp_day2', 'wdsp_day2',\n",
       "       'max_temp_day2', 'prcp_day2', 'thunder_day2', 'date_day2'],\n",
       "      dtype='object')"
      ]
     },
     "execution_count": 4,
     "metadata": {},
     "output_type": "execute_result"
    }
   ],
   "source": [
    "full.columns"
   ]
  },
  {
   "cell_type": "code",
   "execution_count": 5,
   "metadata": {},
   "outputs": [],
   "source": [
    "# reduce size of data keep only columns useful for modeling\n",
    "full = full[['FOD_ID', 'DISCOVERY_DATE', 'FIRE_SIZE', 'FIRE_SIZE_CLASS',\n",
    "       'LATITUDE', 'LONGITUDE', 'Month', 'DayofWeek',\n",
    "       'COUNTY2_x', 'COUNTY_ID', 'CLASS', 'StateID',\n",
    "       'Elevation', \n",
    "       'weather_station1', 'stn_x',\n",
    "       'year_x', 'temp_x', 'stp_x', 'wdsp_x', 'max_temp_x',\n",
    "       'prcp_x', 'thunder_x', 'date_x', 'day_2', 'year_day2',\n",
    "       'temp_day2', 'stp_day2', 'wdsp_day2',\n",
    "       'max_temp_day2', 'prcp_day2', 'thunder_day2', 'date_day2']]"
   ]
  },
  {
   "cell_type": "code",
   "execution_count": 6,
   "metadata": {},
   "outputs": [
    {
     "data": {
      "text/plain": [
       "(1880443, 32)"
      ]
     },
     "execution_count": 6,
     "metadata": {},
     "output_type": "execute_result"
    }
   ],
   "source": [
    "full.shape"
   ]
  },
  {
   "cell_type": "code",
   "execution_count": null,
   "metadata": {},
   "outputs": [],
   "source": []
  },
  {
   "cell_type": "markdown",
   "metadata": {},
   "source": [
    "# Cleaning"
   ]
  },
  {
   "cell_type": "markdown",
   "metadata": {},
   "source": [
    "### Remove fires where stations didn't have a match in GBQ on the date"
   ]
  },
  {
   "cell_type": "code",
   "execution_count": 7,
   "metadata": {},
   "outputs": [
    {
     "data": {
      "text/plain": [
       "287733"
      ]
     },
     "execution_count": 7,
     "metadata": {},
     "output_type": "execute_result"
    }
   ],
   "source": [
    "full['max_temp_x'].isnull().sum()"
   ]
  },
  {
   "cell_type": "code",
   "execution_count": 8,
   "metadata": {},
   "outputs": [
    {
     "data": {
      "text/plain": [
       "287733"
      ]
     },
     "execution_count": 8,
     "metadata": {},
     "output_type": "execute_result"
    }
   ],
   "source": [
    "full['wdsp_x'].isnull().sum()"
   ]
  },
  {
   "cell_type": "code",
   "execution_count": 9,
   "metadata": {},
   "outputs": [
    {
     "data": {
      "text/plain": [
       "(287733, 32)"
      ]
     },
     "execution_count": 9,
     "metadata": {},
     "output_type": "execute_result"
    }
   ],
   "source": [
    "# same number of rows suggest these are the same fires\n",
    "full[(full['max_temp_x'].isnull()) & (full['wdsp_x'].isnull())].shape"
   ]
  },
  {
   "cell_type": "code",
   "execution_count": 10,
   "metadata": {},
   "outputs": [
    {
     "data": {
      "text/html": [
       "<div>\n",
       "<style scoped>\n",
       "    .dataframe tbody tr th:only-of-type {\n",
       "        vertical-align: middle;\n",
       "    }\n",
       "\n",
       "    .dataframe tbody tr th {\n",
       "        vertical-align: top;\n",
       "    }\n",
       "\n",
       "    .dataframe thead th {\n",
       "        text-align: right;\n",
       "    }\n",
       "</style>\n",
       "<table border=\"1\" class=\"dataframe\">\n",
       "  <thead>\n",
       "    <tr style=\"text-align: right;\">\n",
       "      <th></th>\n",
       "      <th>FOD_ID</th>\n",
       "      <th>DISCOVERY_DATE</th>\n",
       "      <th>FIRE_SIZE</th>\n",
       "      <th>FIRE_SIZE_CLASS</th>\n",
       "      <th>LATITUDE</th>\n",
       "      <th>LONGITUDE</th>\n",
       "      <th>Month</th>\n",
       "      <th>DayofWeek</th>\n",
       "      <th>COUNTY2_x</th>\n",
       "      <th>COUNTY_ID</th>\n",
       "      <th>CLASS</th>\n",
       "      <th>StateID</th>\n",
       "      <th>Elevation</th>\n",
       "      <th>weather_station1</th>\n",
       "      <th>stn_x</th>\n",
       "      <th>year_x</th>\n",
       "      <th>temp_x</th>\n",
       "      <th>stp_x</th>\n",
       "      <th>wdsp_x</th>\n",
       "      <th>max_temp_x</th>\n",
       "      <th>prcp_x</th>\n",
       "      <th>thunder_x</th>\n",
       "      <th>date_x</th>\n",
       "      <th>day_2</th>\n",
       "      <th>year_day2</th>\n",
       "      <th>temp_day2</th>\n",
       "      <th>stp_day2</th>\n",
       "      <th>wdsp_day2</th>\n",
       "      <th>max_temp_day2</th>\n",
       "      <th>prcp_day2</th>\n",
       "      <th>thunder_day2</th>\n",
       "      <th>date_day2</th>\n",
       "    </tr>\n",
       "  </thead>\n",
       "  <tbody>\n",
       "    <tr>\n",
       "      <th>4</th>\n",
       "      <td>1100722</td>\n",
       "      <td>1992-01-01</td>\n",
       "      <td>8.00</td>\n",
       "      <td>B</td>\n",
       "      <td>29.540000</td>\n",
       "      <td>-83.210000</td>\n",
       "      <td>1</td>\n",
       "      <td>Wednesday</td>\n",
       "      <td>dixie</td>\n",
       "      <td>12029</td>\n",
       "      <td>1</td>\n",
       "      <td>12</td>\n",
       "      <td>7</td>\n",
       "      <td>722120</td>\n",
       "      <td>NaN</td>\n",
       "      <td>NaN</td>\n",
       "      <td>NaN</td>\n",
       "      <td>NaN</td>\n",
       "      <td>NaN</td>\n",
       "      <td>NaN</td>\n",
       "      <td>NaN</td>\n",
       "      <td>NaN</td>\n",
       "      <td>NaT</td>\n",
       "      <td>1992-01-02</td>\n",
       "      <td>NaN</td>\n",
       "      <td>NaN</td>\n",
       "      <td>NaN</td>\n",
       "      <td>NaN</td>\n",
       "      <td>NaN</td>\n",
       "      <td>NaN</td>\n",
       "      <td>NaN</td>\n",
       "      <td>NaT</td>\n",
       "    </tr>\n",
       "    <tr>\n",
       "      <th>23</th>\n",
       "      <td>768539</td>\n",
       "      <td>1992-01-01</td>\n",
       "      <td>3.00</td>\n",
       "      <td>B</td>\n",
       "      <td>31.253466</td>\n",
       "      <td>-89.278238</td>\n",
       "      <td>1</td>\n",
       "      <td>Wednesday</td>\n",
       "      <td>forrest</td>\n",
       "      <td>28035</td>\n",
       "      <td>1</td>\n",
       "      <td>28</td>\n",
       "      <td>74</td>\n",
       "      <td>722347</td>\n",
       "      <td>NaN</td>\n",
       "      <td>NaN</td>\n",
       "      <td>NaN</td>\n",
       "      <td>NaN</td>\n",
       "      <td>NaN</td>\n",
       "      <td>NaN</td>\n",
       "      <td>NaN</td>\n",
       "      <td>NaN</td>\n",
       "      <td>NaT</td>\n",
       "      <td>1992-01-02</td>\n",
       "      <td>NaN</td>\n",
       "      <td>NaN</td>\n",
       "      <td>NaN</td>\n",
       "      <td>NaN</td>\n",
       "      <td>NaN</td>\n",
       "      <td>NaN</td>\n",
       "      <td>NaN</td>\n",
       "      <td>NaT</td>\n",
       "    </tr>\n",
       "    <tr>\n",
       "      <th>24</th>\n",
       "      <td>1089208</td>\n",
       "      <td>1992-01-01</td>\n",
       "      <td>1.00</td>\n",
       "      <td>B</td>\n",
       "      <td>27.410000</td>\n",
       "      <td>-81.430000</td>\n",
       "      <td>1</td>\n",
       "      <td>Wednesday</td>\n",
       "      <td>highlands</td>\n",
       "      <td>12055</td>\n",
       "      <td>1</td>\n",
       "      <td>12</td>\n",
       "      <td>26</td>\n",
       "      <td>749045</td>\n",
       "      <td>NaN</td>\n",
       "      <td>NaN</td>\n",
       "      <td>NaN</td>\n",
       "      <td>NaN</td>\n",
       "      <td>NaN</td>\n",
       "      <td>NaN</td>\n",
       "      <td>NaN</td>\n",
       "      <td>NaN</td>\n",
       "      <td>NaT</td>\n",
       "      <td>1992-01-02</td>\n",
       "      <td>NaN</td>\n",
       "      <td>NaN</td>\n",
       "      <td>NaN</td>\n",
       "      <td>NaN</td>\n",
       "      <td>NaN</td>\n",
       "      <td>NaN</td>\n",
       "      <td>NaN</td>\n",
       "      <td>NaT</td>\n",
       "    </tr>\n",
       "    <tr>\n",
       "      <th>26</th>\n",
       "      <td>19112201</td>\n",
       "      <td>1992-01-01</td>\n",
       "      <td>0.07</td>\n",
       "      <td>A</td>\n",
       "      <td>31.755100</td>\n",
       "      <td>-81.653500</td>\n",
       "      <td>1</td>\n",
       "      <td>Wednesday</td>\n",
       "      <td>long</td>\n",
       "      <td>13183</td>\n",
       "      <td>1</td>\n",
       "      <td>13</td>\n",
       "      <td>25</td>\n",
       "      <td>722090</td>\n",
       "      <td>NaN</td>\n",
       "      <td>NaN</td>\n",
       "      <td>NaN</td>\n",
       "      <td>NaN</td>\n",
       "      <td>NaN</td>\n",
       "      <td>NaN</td>\n",
       "      <td>NaN</td>\n",
       "      <td>NaN</td>\n",
       "      <td>NaT</td>\n",
       "      <td>1992-01-02</td>\n",
       "      <td>1992</td>\n",
       "      <td>57.5</td>\n",
       "      <td>9999.9</td>\n",
       "      <td>5.8</td>\n",
       "      <td>64.0</td>\n",
       "      <td>0.01</td>\n",
       "      <td>0</td>\n",
       "      <td>1992-01-02</td>\n",
       "    </tr>\n",
       "    <tr>\n",
       "      <th>28</th>\n",
       "      <td>19077872</td>\n",
       "      <td>1992-01-01</td>\n",
       "      <td>4.40</td>\n",
       "      <td>B</td>\n",
       "      <td>32.509300</td>\n",
       "      <td>-81.708600</td>\n",
       "      <td>1</td>\n",
       "      <td>Wednesday</td>\n",
       "      <td>bulloch</td>\n",
       "      <td>13031</td>\n",
       "      <td>1</td>\n",
       "      <td>13</td>\n",
       "      <td>58</td>\n",
       "      <td>692704</td>\n",
       "      <td>NaN</td>\n",
       "      <td>NaN</td>\n",
       "      <td>NaN</td>\n",
       "      <td>NaN</td>\n",
       "      <td>NaN</td>\n",
       "      <td>NaN</td>\n",
       "      <td>NaN</td>\n",
       "      <td>NaN</td>\n",
       "      <td>NaT</td>\n",
       "      <td>1992-01-02</td>\n",
       "      <td>NaN</td>\n",
       "      <td>NaN</td>\n",
       "      <td>NaN</td>\n",
       "      <td>NaN</td>\n",
       "      <td>NaN</td>\n",
       "      <td>NaN</td>\n",
       "      <td>NaN</td>\n",
       "      <td>NaT</td>\n",
       "    </tr>\n",
       "  </tbody>\n",
       "</table>\n",
       "</div>"
      ],
      "text/plain": [
       "      FOD_ID DISCOVERY_DATE  FIRE_SIZE FIRE_SIZE_CLASS   LATITUDE  LONGITUDE  \\\n",
       "4    1100722     1992-01-01       8.00               B  29.540000 -83.210000   \n",
       "23    768539     1992-01-01       3.00               B  31.253466 -89.278238   \n",
       "24   1089208     1992-01-01       1.00               B  27.410000 -81.430000   \n",
       "26  19112201     1992-01-01       0.07               A  31.755100 -81.653500   \n",
       "28  19077872     1992-01-01       4.40               B  32.509300 -81.708600   \n",
       "\n",
       "    Month  DayofWeek             COUNTY2_x COUNTY_ID CLASS StateID Elevation  \\\n",
       "4       1  Wednesday                 dixie     12029     1      12         7   \n",
       "23      1  Wednesday               forrest     28035     1      28        74   \n",
       "24      1  Wednesday             highlands     12055     1      12        26   \n",
       "26      1  Wednesday  long                     13183     1      13        25   \n",
       "28      1  Wednesday  bulloch                  13031     1      13        58   \n",
       "\n",
       "   weather_station1 stn_x year_x  temp_x  stp_x wdsp_x  max_temp_x  prcp_x  \\\n",
       "4            722120   NaN    NaN     NaN    NaN    NaN         NaN     NaN   \n",
       "23           722347   NaN    NaN     NaN    NaN    NaN         NaN     NaN   \n",
       "24           749045   NaN    NaN     NaN    NaN    NaN         NaN     NaN   \n",
       "26           722090   NaN    NaN     NaN    NaN    NaN         NaN     NaN   \n",
       "28           692704   NaN    NaN     NaN    NaN    NaN         NaN     NaN   \n",
       "\n",
       "   thunder_x date_x      day_2 year_day2  temp_day2  stp_day2 wdsp_day2  \\\n",
       "4        NaN    NaT 1992-01-02       NaN        NaN       NaN       NaN   \n",
       "23       NaN    NaT 1992-01-02       NaN        NaN       NaN       NaN   \n",
       "24       NaN    NaT 1992-01-02       NaN        NaN       NaN       NaN   \n",
       "26       NaN    NaT 1992-01-02      1992       57.5    9999.9       5.8   \n",
       "28       NaN    NaT 1992-01-02       NaN        NaN       NaN       NaN   \n",
       "\n",
       "    max_temp_day2  prcp_day2 thunder_day2  date_day2  \n",
       "4             NaN        NaN          NaN        NaT  \n",
       "23            NaN        NaN          NaN        NaT  \n",
       "24            NaN        NaN          NaN        NaT  \n",
       "26           64.0       0.01            0 1992-01-02  \n",
       "28            NaN        NaN          NaN        NaT  "
      ]
     },
     "execution_count": 10,
     "metadata": {},
     "output_type": "execute_result"
    }
   ],
   "source": [
    "# confirm that station weather is missing\n",
    "full[(full['max_temp_x'].isnull()) & (full['wdsp_x'].isnull())].head()"
   ]
  },
  {
   "cell_type": "code",
   "execution_count": 12,
   "metadata": {},
   "outputs": [
    {
     "name": "stdout",
     "output_type": "stream",
     "text": [
      "1592710\n",
      "287733\n"
     ]
    }
   ],
   "source": [
    "match = full[~(full['max_temp_x'].isnull())]\n",
    "print(match.shape[0])\n",
    "nomatch = full[full['max_temp_x'].isnull()]\n",
    "print(nomatch.shape[0])\n"
   ]
  },
  {
   "cell_type": "markdown",
   "metadata": {},
   "source": [
    "#### Check if there's the removed fires are much different than the remaining fires."
   ]
  },
  {
   "cell_type": "code",
   "execution_count": 13,
   "metadata": {},
   "outputs": [
    {
     "data": {
      "text/plain": [
       "B    0.506544\n",
       "A    0.349035\n",
       "C    0.116784\n",
       "D    0.014743\n",
       "E    0.007159\n",
       "F    0.003870\n",
       "G    0.001864\n",
       "Name: FIRE_SIZE_CLASS, dtype: float64"
      ]
     },
     "execution_count": 13,
     "metadata": {},
     "output_type": "execute_result"
    }
   ],
   "source": [
    "match['FIRE_SIZE_CLASS'].value_counts() / len(match)"
   ]
  },
  {
   "cell_type": "code",
   "execution_count": 14,
   "metadata": {},
   "outputs": [
    {
     "data": {
      "text/plain": [
       "B    0.460820\n",
       "A    0.385747\n",
       "C    0.118419\n",
       "D    0.017186\n",
       "E    0.009398\n",
       "F    0.005637\n",
       "G    0.002794\n",
       "Name: FIRE_SIZE_CLASS, dtype: float64"
      ]
     },
     "execution_count": 14,
     "metadata": {},
     "output_type": "execute_result"
    }
   ],
   "source": [
    "nomatch['FIRE_SIZE_CLASS'].value_counts() / len(nomatch)"
   ]
  },
  {
   "cell_type": "code",
   "execution_count": 15,
   "metadata": {},
   "outputs": [
    {
     "data": {
      "text/plain": [
       "1    0.874481\n",
       "2    0.120020\n",
       "3    0.005499\n",
       "Name: CLASS, dtype: float64"
      ]
     },
     "execution_count": 15,
     "metadata": {},
     "output_type": "execute_result"
    }
   ],
   "source": [
    "match['CLASS'].value_counts() / len(match)"
   ]
  },
  {
   "cell_type": "code",
   "execution_count": 16,
   "metadata": {},
   "outputs": [
    {
     "data": {
      "text/plain": [
       "1    0.864322\n",
       "2    0.127584\n",
       "3    0.008094\n",
       "Name: CLASS, dtype: float64"
      ]
     },
     "execution_count": 16,
     "metadata": {},
     "output_type": "execute_result"
    }
   ],
   "source": [
    "nomatch['CLASS'].value_counts() / len(nomatch)"
   ]
  },
  {
   "cell_type": "code",
   "execution_count": 17,
   "metadata": {},
   "outputs": [
    {
     "data": {
      "text/plain": [
       "1992    0.047909\n",
       "1993    0.039005\n",
       "1994    0.047760\n",
       "1995    0.046474\n",
       "1996    0.059430\n",
       "1997    0.043502\n",
       "1998    0.041514\n",
       "1999    0.050178\n",
       "2000    0.051211\n",
       "2001    0.039676\n",
       "2002    0.031762\n",
       "2003    0.030688\n",
       "2004    0.037232\n",
       "2005    0.052789\n",
       "2006    0.056671\n",
       "2007    0.051701\n",
       "2008    0.044124\n",
       "2009    0.037948\n",
       "2010    0.036777\n",
       "2011    0.037785\n",
       "2012    0.031286\n",
       "2013    0.027831\n",
       "2014    0.030083\n",
       "2015    0.026664\n",
       "Name: DISCOVERY_DATE, dtype: float64"
      ]
     },
     "execution_count": 17,
     "metadata": {},
     "output_type": "execute_result"
    }
   ],
   "source": [
    "# # More matches in recent years, and fairly even overall\n",
    "nomatch['DISCOVERY_DATE'].dt.year.value_counts().sort_index() / len(nomatch)"
   ]
  },
  {
   "cell_type": "markdown",
   "metadata": {},
   "source": [
    "The classes of the fires without a matching station are about the same as the ones that do, so dropping them from the data should not bias the remaining data for classification. \n",
    "\n",
    "However, fire size itself has a different distribution, something to keep in mind if I try to use regression to predict the size instead."
   ]
  },
  {
   "cell_type": "code",
   "execution_count": 18,
   "metadata": {},
   "outputs": [
    {
     "data": {
      "text/plain": [
       "count    1.592710e+06\n",
       "mean     6.838595e+01\n",
       "std      2.368937e+03\n",
       "min      1.000000e-05\n",
       "25%      1.000000e-01\n",
       "50%      1.000000e+00\n",
       "75%      3.260000e+00\n",
       "max      6.069450e+05\n",
       "Name: FIRE_SIZE, dtype: float64"
      ]
     },
     "execution_count": 18,
     "metadata": {},
     "output_type": "execute_result"
    }
   ],
   "source": [
    "match['FIRE_SIZE'].describe()"
   ]
  },
  {
   "cell_type": "code",
   "execution_count": 19,
   "metadata": {},
   "outputs": [
    {
     "data": {
      "text/plain": [
       "count    287733.000000\n",
       "mean        108.480889\n",
       "std        3114.968395\n",
       "min           0.000090\n",
       "25%           0.100000\n",
       "50%           0.750000\n",
       "75%           3.400000\n",
       "max      499945.000000\n",
       "Name: FIRE_SIZE, dtype: float64"
      ]
     },
     "execution_count": 19,
     "metadata": {},
     "output_type": "execute_result"
    }
   ],
   "source": [
    "nomatch['FIRE_SIZE'].describe()"
   ]
  },
  {
   "cell_type": "code",
   "execution_count": 20,
   "metadata": {},
   "outputs": [
    {
     "data": {
      "text/html": [
       "<div>\n",
       "<style scoped>\n",
       "    .dataframe tbody tr th:only-of-type {\n",
       "        vertical-align: middle;\n",
       "    }\n",
       "\n",
       "    .dataframe tbody tr th {\n",
       "        vertical-align: top;\n",
       "    }\n",
       "\n",
       "    .dataframe thead th {\n",
       "        text-align: right;\n",
       "    }\n",
       "</style>\n",
       "<table border=\"1\" class=\"dataframe\">\n",
       "  <thead>\n",
       "    <tr style=\"text-align: right;\">\n",
       "      <th></th>\n",
       "      <th>FOD_ID</th>\n",
       "      <th>DISCOVERY_DATE</th>\n",
       "      <th>FIRE_SIZE</th>\n",
       "      <th>FIRE_SIZE_CLASS</th>\n",
       "      <th>LATITUDE</th>\n",
       "      <th>LONGITUDE</th>\n",
       "      <th>Month</th>\n",
       "      <th>DayofWeek</th>\n",
       "      <th>COUNTY2_x</th>\n",
       "      <th>COUNTY_ID</th>\n",
       "      <th>CLASS</th>\n",
       "      <th>StateID</th>\n",
       "      <th>Elevation</th>\n",
       "      <th>weather_station1</th>\n",
       "      <th>stn_x</th>\n",
       "      <th>year_x</th>\n",
       "      <th>temp_x</th>\n",
       "      <th>stp_x</th>\n",
       "      <th>wdsp_x</th>\n",
       "      <th>max_temp_x</th>\n",
       "      <th>prcp_x</th>\n",
       "      <th>thunder_x</th>\n",
       "      <th>date_x</th>\n",
       "      <th>day_2</th>\n",
       "      <th>year_day2</th>\n",
       "      <th>temp_day2</th>\n",
       "      <th>stp_day2</th>\n",
       "      <th>wdsp_day2</th>\n",
       "      <th>max_temp_day2</th>\n",
       "      <th>prcp_day2</th>\n",
       "      <th>thunder_day2</th>\n",
       "      <th>date_day2</th>\n",
       "    </tr>\n",
       "  </thead>\n",
       "  <tbody>\n",
       "    <tr>\n",
       "      <th>50865</th>\n",
       "      <td>155225</td>\n",
       "      <td>2002-07-13</td>\n",
       "      <td>499945.0</td>\n",
       "      <td>G</td>\n",
       "      <td>42.038889</td>\n",
       "      <td>-123.911667</td>\n",
       "      <td>7</td>\n",
       "      <td>Saturday</td>\n",
       "      <td>curry</td>\n",
       "      <td>41015</td>\n",
       "      <td>3</td>\n",
       "      <td>41</td>\n",
       "      <td>731</td>\n",
       "      <td>725985</td>\n",
       "      <td>NaN</td>\n",
       "      <td>NaN</td>\n",
       "      <td>NaN</td>\n",
       "      <td>NaN</td>\n",
       "      <td>NaN</td>\n",
       "      <td>NaN</td>\n",
       "      <td>NaN</td>\n",
       "      <td>NaN</td>\n",
       "      <td>NaT</td>\n",
       "      <td>2002-07-14</td>\n",
       "      <td>NaN</td>\n",
       "      <td>NaN</td>\n",
       "      <td>NaN</td>\n",
       "      <td>NaN</td>\n",
       "      <td>NaN</td>\n",
       "      <td>NaN</td>\n",
       "      <td>NaN</td>\n",
       "      <td>NaT</td>\n",
       "    </tr>\n",
       "  </tbody>\n",
       "</table>\n",
       "</div>"
      ],
      "text/plain": [
       "       FOD_ID DISCOVERY_DATE  FIRE_SIZE FIRE_SIZE_CLASS   LATITUDE  \\\n",
       "50865  155225     2002-07-13   499945.0               G  42.038889   \n",
       "\n",
       "        LONGITUDE  Month DayofWeek COUNTY2_x COUNTY_ID CLASS StateID  \\\n",
       "50865 -123.911667      7  Saturday     curry     41015     3      41   \n",
       "\n",
       "      Elevation weather_station1 stn_x year_x  temp_x  stp_x wdsp_x  \\\n",
       "50865       731           725985   NaN    NaN     NaN    NaN    NaN   \n",
       "\n",
       "       max_temp_x  prcp_x thunder_x date_x      day_2 year_day2  temp_day2  \\\n",
       "50865         NaN     NaN       NaN    NaT 2002-07-14       NaN        NaN   \n",
       "\n",
       "       stp_day2 wdsp_day2  max_temp_day2  prcp_day2 thunder_day2 date_day2  \n",
       "50865       NaN       NaN            NaN        NaN          NaN       NaT  "
      ]
     },
     "execution_count": 20,
     "metadata": {},
     "output_type": "execute_result"
    }
   ],
   "source": [
    "nomatch[nomatch['FIRE_SIZE'] == 499945]"
   ]
  },
  {
   "cell_type": "code",
   "execution_count": 21,
   "metadata": {},
   "outputs": [
    {
     "data": {
      "text/html": [
       "<div>\n",
       "<style scoped>\n",
       "    .dataframe tbody tr th:only-of-type {\n",
       "        vertical-align: middle;\n",
       "    }\n",
       "\n",
       "    .dataframe tbody tr th {\n",
       "        vertical-align: top;\n",
       "    }\n",
       "\n",
       "    .dataframe thead th {\n",
       "        text-align: right;\n",
       "    }\n",
       "</style>\n",
       "<table border=\"1\" class=\"dataframe\">\n",
       "  <thead>\n",
       "    <tr style=\"text-align: right;\">\n",
       "      <th></th>\n",
       "      <th>FOD_ID</th>\n",
       "      <th>DISCOVERY_DATE</th>\n",
       "      <th>FIRE_SIZE</th>\n",
       "      <th>FIRE_SIZE_CLASS</th>\n",
       "      <th>LATITUDE</th>\n",
       "      <th>LONGITUDE</th>\n",
       "      <th>Month</th>\n",
       "      <th>DayofWeek</th>\n",
       "      <th>COUNTY2_x</th>\n",
       "      <th>COUNTY_ID</th>\n",
       "      <th>CLASS</th>\n",
       "      <th>StateID</th>\n",
       "      <th>Elevation</th>\n",
       "      <th>weather_station1</th>\n",
       "      <th>stn_x</th>\n",
       "      <th>year_x</th>\n",
       "      <th>temp_x</th>\n",
       "      <th>stp_x</th>\n",
       "      <th>wdsp_x</th>\n",
       "      <th>max_temp_x</th>\n",
       "      <th>prcp_x</th>\n",
       "      <th>thunder_x</th>\n",
       "      <th>date_x</th>\n",
       "      <th>day_2</th>\n",
       "      <th>year_day2</th>\n",
       "      <th>temp_day2</th>\n",
       "      <th>stp_day2</th>\n",
       "      <th>wdsp_day2</th>\n",
       "      <th>max_temp_day2</th>\n",
       "      <th>prcp_day2</th>\n",
       "      <th>thunder_day2</th>\n",
       "      <th>date_day2</th>\n",
       "    </tr>\n",
       "  </thead>\n",
       "  <tbody>\n",
       "    <tr>\n",
       "      <th>163</th>\n",
       "      <td>180889</td>\n",
       "      <td>1992-01-02</td>\n",
       "      <td>20.5</td>\n",
       "      <td>C</td>\n",
       "      <td>45.275000</td>\n",
       "      <td>-100.767100</td>\n",
       "      <td>1</td>\n",
       "      <td>Thursday</td>\n",
       "      <td>dewey</td>\n",
       "      <td>46041</td>\n",
       "      <td>2</td>\n",
       "      <td>46</td>\n",
       "      <td>553</td>\n",
       "      <td>726685</td>\n",
       "      <td>726685</td>\n",
       "      <td>1992</td>\n",
       "      <td>28.8</td>\n",
       "      <td>9999.9</td>\n",
       "      <td>5.8</td>\n",
       "      <td>44.1</td>\n",
       "      <td>0.0</td>\n",
       "      <td>0</td>\n",
       "      <td>1992-01-02</td>\n",
       "      <td>1992-01-03</td>\n",
       "      <td>NaN</td>\n",
       "      <td>NaN</td>\n",
       "      <td>NaN</td>\n",
       "      <td>NaN</td>\n",
       "      <td>NaN</td>\n",
       "      <td>NaN</td>\n",
       "      <td>NaN</td>\n",
       "      <td>NaT</td>\n",
       "    </tr>\n",
       "    <tr>\n",
       "      <th>164</th>\n",
       "      <td>178859</td>\n",
       "      <td>1992-01-02</td>\n",
       "      <td>2.0</td>\n",
       "      <td>B</td>\n",
       "      <td>45.833300</td>\n",
       "      <td>-100.467100</td>\n",
       "      <td>1</td>\n",
       "      <td>Thursday</td>\n",
       "      <td>corson</td>\n",
       "      <td>46031</td>\n",
       "      <td>1</td>\n",
       "      <td>46</td>\n",
       "      <td>610</td>\n",
       "      <td>726685</td>\n",
       "      <td>726685</td>\n",
       "      <td>1992</td>\n",
       "      <td>28.8</td>\n",
       "      <td>9999.9</td>\n",
       "      <td>5.8</td>\n",
       "      <td>44.1</td>\n",
       "      <td>0.0</td>\n",
       "      <td>0</td>\n",
       "      <td>1992-01-02</td>\n",
       "      <td>1992-01-03</td>\n",
       "      <td>NaN</td>\n",
       "      <td>NaN</td>\n",
       "      <td>NaN</td>\n",
       "      <td>NaN</td>\n",
       "      <td>NaN</td>\n",
       "      <td>NaN</td>\n",
       "      <td>NaN</td>\n",
       "      <td>NaT</td>\n",
       "    </tr>\n",
       "    <tr>\n",
       "      <th>175</th>\n",
       "      <td>774493</td>\n",
       "      <td>1992-01-03</td>\n",
       "      <td>1.0</td>\n",
       "      <td>B</td>\n",
       "      <td>31.421469</td>\n",
       "      <td>-89.871791</td>\n",
       "      <td>1</td>\n",
       "      <td>Friday</td>\n",
       "      <td>jefferson davis</td>\n",
       "      <td>28065</td>\n",
       "      <td>1</td>\n",
       "      <td>28</td>\n",
       "      <td>104</td>\n",
       "      <td>722348</td>\n",
       "      <td>722348</td>\n",
       "      <td>1992</td>\n",
       "      <td>49.0</td>\n",
       "      <td>9999.9</td>\n",
       "      <td>3.6</td>\n",
       "      <td>55.0</td>\n",
       "      <td>0.0</td>\n",
       "      <td>0</td>\n",
       "      <td>1992-01-03</td>\n",
       "      <td>1992-01-04</td>\n",
       "      <td>NaN</td>\n",
       "      <td>NaN</td>\n",
       "      <td>NaN</td>\n",
       "      <td>NaN</td>\n",
       "      <td>NaN</td>\n",
       "      <td>NaN</td>\n",
       "      <td>NaN</td>\n",
       "      <td>NaT</td>\n",
       "    </tr>\n",
       "    <tr>\n",
       "      <th>177</th>\n",
       "      <td>775155</td>\n",
       "      <td>1992-01-03</td>\n",
       "      <td>1.0</td>\n",
       "      <td>B</td>\n",
       "      <td>31.216249</td>\n",
       "      <td>-89.804796</td>\n",
       "      <td>1</td>\n",
       "      <td>Friday</td>\n",
       "      <td>marion</td>\n",
       "      <td>28091</td>\n",
       "      <td>1</td>\n",
       "      <td>28</td>\n",
       "      <td>49</td>\n",
       "      <td>722348</td>\n",
       "      <td>722348</td>\n",
       "      <td>1992</td>\n",
       "      <td>49.0</td>\n",
       "      <td>9999.9</td>\n",
       "      <td>3.6</td>\n",
       "      <td>55.0</td>\n",
       "      <td>0.0</td>\n",
       "      <td>0</td>\n",
       "      <td>1992-01-03</td>\n",
       "      <td>1992-01-04</td>\n",
       "      <td>NaN</td>\n",
       "      <td>NaN</td>\n",
       "      <td>NaN</td>\n",
       "      <td>NaN</td>\n",
       "      <td>NaN</td>\n",
       "      <td>NaN</td>\n",
       "      <td>NaN</td>\n",
       "      <td>NaT</td>\n",
       "    </tr>\n",
       "    <tr>\n",
       "      <th>201</th>\n",
       "      <td>775154</td>\n",
       "      <td>1992-01-03</td>\n",
       "      <td>7.0</td>\n",
       "      <td>B</td>\n",
       "      <td>31.301370</td>\n",
       "      <td>-89.842104</td>\n",
       "      <td>1</td>\n",
       "      <td>Friday</td>\n",
       "      <td>marion</td>\n",
       "      <td>28091</td>\n",
       "      <td>1</td>\n",
       "      <td>28</td>\n",
       "      <td>63</td>\n",
       "      <td>722348</td>\n",
       "      <td>722348</td>\n",
       "      <td>1992</td>\n",
       "      <td>49.0</td>\n",
       "      <td>9999.9</td>\n",
       "      <td>3.6</td>\n",
       "      <td>55.0</td>\n",
       "      <td>0.0</td>\n",
       "      <td>0</td>\n",
       "      <td>1992-01-03</td>\n",
       "      <td>1992-01-04</td>\n",
       "      <td>NaN</td>\n",
       "      <td>NaN</td>\n",
       "      <td>NaN</td>\n",
       "      <td>NaN</td>\n",
       "      <td>NaN</td>\n",
       "      <td>NaN</td>\n",
       "      <td>NaN</td>\n",
       "      <td>NaT</td>\n",
       "    </tr>\n",
       "  </tbody>\n",
       "</table>\n",
       "</div>"
      ],
      "text/plain": [
       "     FOD_ID DISCOVERY_DATE  FIRE_SIZE FIRE_SIZE_CLASS   LATITUDE   LONGITUDE  \\\n",
       "163  180889     1992-01-02       20.5               C  45.275000 -100.767100   \n",
       "164  178859     1992-01-02        2.0               B  45.833300 -100.467100   \n",
       "175  774493     1992-01-03        1.0               B  31.421469  -89.871791   \n",
       "177  775155     1992-01-03        1.0               B  31.216249  -89.804796   \n",
       "201  775154     1992-01-03        7.0               B  31.301370  -89.842104   \n",
       "\n",
       "     Month DayofWeek        COUNTY2_x COUNTY_ID CLASS StateID Elevation  \\\n",
       "163      1  Thursday            dewey     46041     2      46       553   \n",
       "164      1  Thursday           corson     46031     1      46       610   \n",
       "175      1    Friday  jefferson davis     28065     1      28       104   \n",
       "177      1    Friday           marion     28091     1      28        49   \n",
       "201      1    Friday           marion     28091     1      28        63   \n",
       "\n",
       "    weather_station1   stn_x year_x  temp_x   stp_x wdsp_x  max_temp_x  \\\n",
       "163           726685  726685   1992    28.8  9999.9    5.8        44.1   \n",
       "164           726685  726685   1992    28.8  9999.9    5.8        44.1   \n",
       "175           722348  722348   1992    49.0  9999.9    3.6        55.0   \n",
       "177           722348  722348   1992    49.0  9999.9    3.6        55.0   \n",
       "201           722348  722348   1992    49.0  9999.9    3.6        55.0   \n",
       "\n",
       "     prcp_x thunder_x     date_x      day_2 year_day2  temp_day2  stp_day2  \\\n",
       "163     0.0         0 1992-01-02 1992-01-03       NaN        NaN       NaN   \n",
       "164     0.0         0 1992-01-02 1992-01-03       NaN        NaN       NaN   \n",
       "175     0.0         0 1992-01-03 1992-01-04       NaN        NaN       NaN   \n",
       "177     0.0         0 1992-01-03 1992-01-04       NaN        NaN       NaN   \n",
       "201     0.0         0 1992-01-03 1992-01-04       NaN        NaN       NaN   \n",
       "\n",
       "    wdsp_day2  max_temp_day2  prcp_day2 thunder_day2 date_day2  \n",
       "163       NaN            NaN        NaN          NaN       NaT  \n",
       "164       NaN            NaN        NaN          NaN       NaT  \n",
       "175       NaN            NaN        NaN          NaN       NaT  \n",
       "177       NaN            NaN        NaN          NaN       NaT  \n",
       "201       NaN            NaN        NaN          NaN       NaT  "
      ]
     },
     "execution_count": 21,
     "metadata": {},
     "output_type": "execute_result"
    }
   ],
   "source": [
    "# having weather on day 1 doesn't guarantee day 2\n",
    "match[match['max_temp_day2'].isnull()].head()"
   ]
  },
  {
   "cell_type": "code",
   "execution_count": 22,
   "metadata": {},
   "outputs": [],
   "source": [
    "# Check if data is simply unavailable or if there is a potential problem"
   ]
  },
  {
   "cell_type": "code",
   "execution_count": 23,
   "metadata": {},
   "outputs": [],
   "source": [
    "w1992 = pd.read_pickle('./data/clean_weather1992.pkl')"
   ]
  },
  {
   "cell_type": "code",
   "execution_count": 24,
   "metadata": {},
   "outputs": [
    {
     "data": {
      "text/html": [
       "<div>\n",
       "<style scoped>\n",
       "    .dataframe tbody tr th:only-of-type {\n",
       "        vertical-align: middle;\n",
       "    }\n",
       "\n",
       "    .dataframe tbody tr th {\n",
       "        vertical-align: top;\n",
       "    }\n",
       "\n",
       "    .dataframe thead th {\n",
       "        text-align: right;\n",
       "    }\n",
       "</style>\n",
       "<table border=\"1\" class=\"dataframe\">\n",
       "  <thead>\n",
       "    <tr style=\"text-align: right;\">\n",
       "      <th></th>\n",
       "      <th>stn</th>\n",
       "      <th>year</th>\n",
       "      <th>mo</th>\n",
       "      <th>da</th>\n",
       "      <th>temp</th>\n",
       "      <th>stp</th>\n",
       "      <th>wdsp</th>\n",
       "      <th>max_temp</th>\n",
       "      <th>prcp</th>\n",
       "      <th>thunder</th>\n",
       "      <th>date</th>\n",
       "    </tr>\n",
       "  </thead>\n",
       "  <tbody>\n",
       "    <tr>\n",
       "      <th>9</th>\n",
       "      <td>690020</td>\n",
       "      <td>1992</td>\n",
       "      <td>01</td>\n",
       "      <td>02</td>\n",
       "      <td>49.1</td>\n",
       "      <td>9999.9</td>\n",
       "      <td>2.0</td>\n",
       "      <td>62.1</td>\n",
       "      <td>0.00</td>\n",
       "      <td>0</td>\n",
       "      <td>1992-01-02</td>\n",
       "    </tr>\n",
       "    <tr>\n",
       "      <th>20</th>\n",
       "      <td>690020</td>\n",
       "      <td>1992</td>\n",
       "      <td>01</td>\n",
       "      <td>03</td>\n",
       "      <td>50.0</td>\n",
       "      <td>9999.9</td>\n",
       "      <td>1.5</td>\n",
       "      <td>60.1</td>\n",
       "      <td>0.04</td>\n",
       "      <td>0</td>\n",
       "      <td>1992-01-03</td>\n",
       "    </tr>\n",
       "    <tr>\n",
       "      <th>12</th>\n",
       "      <td>690020</td>\n",
       "      <td>1992</td>\n",
       "      <td>01</td>\n",
       "      <td>06</td>\n",
       "      <td>47.0</td>\n",
       "      <td>9999.9</td>\n",
       "      <td>1.6</td>\n",
       "      <td>54.0</td>\n",
       "      <td>0.00</td>\n",
       "      <td>0</td>\n",
       "      <td>1992-01-06</td>\n",
       "    </tr>\n",
       "    <tr>\n",
       "      <th>15</th>\n",
       "      <td>690020</td>\n",
       "      <td>1992</td>\n",
       "      <td>01</td>\n",
       "      <td>07</td>\n",
       "      <td>48.1</td>\n",
       "      <td>9999.9</td>\n",
       "      <td>3.3</td>\n",
       "      <td>54.0</td>\n",
       "      <td>0.12</td>\n",
       "      <td>0</td>\n",
       "      <td>1992-01-07</td>\n",
       "    </tr>\n",
       "    <tr>\n",
       "      <th>3</th>\n",
       "      <td>690020</td>\n",
       "      <td>1992</td>\n",
       "      <td>01</td>\n",
       "      <td>08</td>\n",
       "      <td>46.6</td>\n",
       "      <td>9999.9</td>\n",
       "      <td>2.2</td>\n",
       "      <td>57.0</td>\n",
       "      <td>0.24</td>\n",
       "      <td>0</td>\n",
       "      <td>1992-01-08</td>\n",
       "    </tr>\n",
       "  </tbody>\n",
       "</table>\n",
       "</div>"
      ],
      "text/plain": [
       "       stn  year  mo  da  temp     stp wdsp  max_temp  prcp thunder       date\n",
       "9   690020  1992  01  02  49.1  9999.9  2.0      62.1  0.00       0 1992-01-02\n",
       "20  690020  1992  01  03  50.0  9999.9  1.5      60.1  0.04       0 1992-01-03\n",
       "12  690020  1992  01  06  47.0  9999.9  1.6      54.0  0.00       0 1992-01-06\n",
       "15  690020  1992  01  07  48.1  9999.9  3.3      54.0  0.12       0 1992-01-07\n",
       "3   690020  1992  01  08  46.6  9999.9  2.2      57.0  0.24       0 1992-01-08"
      ]
     },
     "execution_count": 24,
     "metadata": {},
     "output_type": "execute_result"
    }
   ],
   "source": [
    "w1992.head()"
   ]
  },
  {
   "cell_type": "code",
   "execution_count": 25,
   "metadata": {},
   "outputs": [
    {
     "data": {
      "text/html": [
       "<div>\n",
       "<style scoped>\n",
       "    .dataframe tbody tr th:only-of-type {\n",
       "        vertical-align: middle;\n",
       "    }\n",
       "\n",
       "    .dataframe tbody tr th {\n",
       "        vertical-align: top;\n",
       "    }\n",
       "\n",
       "    .dataframe thead th {\n",
       "        text-align: right;\n",
       "    }\n",
       "</style>\n",
       "<table border=\"1\" class=\"dataframe\">\n",
       "  <thead>\n",
       "    <tr style=\"text-align: right;\">\n",
       "      <th></th>\n",
       "      <th>stn</th>\n",
       "      <th>year</th>\n",
       "      <th>mo</th>\n",
       "      <th>da</th>\n",
       "      <th>temp</th>\n",
       "      <th>stp</th>\n",
       "      <th>wdsp</th>\n",
       "      <th>max_temp</th>\n",
       "      <th>prcp</th>\n",
       "      <th>thunder</th>\n",
       "      <th>date</th>\n",
       "    </tr>\n",
       "  </thead>\n",
       "  <tbody>\n",
       "    <tr>\n",
       "      <th>327903</th>\n",
       "      <td>726685</td>\n",
       "      <td>1992</td>\n",
       "      <td>01</td>\n",
       "      <td>02</td>\n",
       "      <td>28.8</td>\n",
       "      <td>9999.9</td>\n",
       "      <td>5.8</td>\n",
       "      <td>44.1</td>\n",
       "      <td>0.00</td>\n",
       "      <td>0</td>\n",
       "      <td>1992-01-02</td>\n",
       "    </tr>\n",
       "    <tr>\n",
       "      <th>327901</th>\n",
       "      <td>726685</td>\n",
       "      <td>1992</td>\n",
       "      <td>01</td>\n",
       "      <td>04</td>\n",
       "      <td>29.7</td>\n",
       "      <td>9999.9</td>\n",
       "      <td>13.4</td>\n",
       "      <td>41.0</td>\n",
       "      <td>0.00</td>\n",
       "      <td>0</td>\n",
       "      <td>1992-01-04</td>\n",
       "    </tr>\n",
       "    <tr>\n",
       "      <th>327916</th>\n",
       "      <td>726685</td>\n",
       "      <td>1992</td>\n",
       "      <td>01</td>\n",
       "      <td>05</td>\n",
       "      <td>34.2</td>\n",
       "      <td>9999.9</td>\n",
       "      <td>7.2</td>\n",
       "      <td>45.0</td>\n",
       "      <td>0.00</td>\n",
       "      <td>0</td>\n",
       "      <td>1992-01-05</td>\n",
       "    </tr>\n",
       "    <tr>\n",
       "      <th>327915</th>\n",
       "      <td>726685</td>\n",
       "      <td>1992</td>\n",
       "      <td>01</td>\n",
       "      <td>06</td>\n",
       "      <td>29.9</td>\n",
       "      <td>9999.9</td>\n",
       "      <td>8.2</td>\n",
       "      <td>48.0</td>\n",
       "      <td>0.00</td>\n",
       "      <td>0</td>\n",
       "      <td>1992-01-06</td>\n",
       "    </tr>\n",
       "    <tr>\n",
       "      <th>327921</th>\n",
       "      <td>726685</td>\n",
       "      <td>1992</td>\n",
       "      <td>01</td>\n",
       "      <td>07</td>\n",
       "      <td>30.4</td>\n",
       "      <td>9999.9</td>\n",
       "      <td>11.4</td>\n",
       "      <td>33.1</td>\n",
       "      <td>0.01</td>\n",
       "      <td>0</td>\n",
       "      <td>1992-01-07</td>\n",
       "    </tr>\n",
       "  </tbody>\n",
       "</table>\n",
       "</div>"
      ],
      "text/plain": [
       "           stn  year  mo  da  temp     stp  wdsp  max_temp  prcp thunder  \\\n",
       "327903  726685  1992  01  02  28.8  9999.9   5.8      44.1  0.00       0   \n",
       "327901  726685  1992  01  04  29.7  9999.9  13.4      41.0  0.00       0   \n",
       "327916  726685  1992  01  05  34.2  9999.9   7.2      45.0  0.00       0   \n",
       "327915  726685  1992  01  06  29.9  9999.9   8.2      48.0  0.00       0   \n",
       "327921  726685  1992  01  07  30.4  9999.9  11.4      33.1  0.01       0   \n",
       "\n",
       "             date  \n",
       "327903 1992-01-02  \n",
       "327901 1992-01-04  \n",
       "327916 1992-01-05  \n",
       "327915 1992-01-06  \n",
       "327921 1992-01-07  "
      ]
     },
     "execution_count": 25,
     "metadata": {},
     "output_type": "execute_result"
    }
   ],
   "source": [
    "# Jan 3 is missing from weather data\n",
    "# Likely simply missing even though the date falls under the station's coverage\n",
    "# Can try 2nd closest station, but < 20k out of 1.5 million\n",
    "w1992[w1992['stn'] == '726685'].head()"
   ]
  },
  {
   "cell_type": "markdown",
   "metadata": {},
   "source": [
    "### Convert continuous variables to floats"
   ]
  },
  {
   "cell_type": "code",
   "execution_count": 26,
   "metadata": {},
   "outputs": [
    {
     "data": {
      "text/plain": [
       "FOD_ID                       int64\n",
       "DISCOVERY_DATE      datetime64[ns]\n",
       "FIRE_SIZE                  float64\n",
       "FIRE_SIZE_CLASS             object\n",
       "LATITUDE                   float64\n",
       "LONGITUDE                  float64\n",
       "Month                        int64\n",
       "DayofWeek                   object\n",
       "COUNTY2_x                   object\n",
       "COUNTY_ID                   object\n",
       "CLASS                     category\n",
       "StateID                     object\n",
       "Elevation                   object\n",
       "weather_station1            object\n",
       "stn_x                       object\n",
       "year_x                      object\n",
       "temp_x                     float64\n",
       "stp_x                      float64\n",
       "wdsp_x                      object\n",
       "max_temp_x                 float64\n",
       "prcp_x                     float64\n",
       "thunder_x                   object\n",
       "date_x              datetime64[ns]\n",
       "day_2               datetime64[ns]\n",
       "year_day2                   object\n",
       "temp_day2                  float64\n",
       "stp_day2                   float64\n",
       "wdsp_day2                   object\n",
       "max_temp_day2              float64\n",
       "prcp_day2                  float64\n",
       "thunder_day2                object\n",
       "date_day2           datetime64[ns]\n",
       "dtype: object"
      ]
     },
     "execution_count": 26,
     "metadata": {},
     "output_type": "execute_result"
    }
   ],
   "source": [
    "match.dtypes"
   ]
  },
  {
   "cell_type": "code",
   "execution_count": 27,
   "metadata": {},
   "outputs": [
    {
     "name": "stderr",
     "output_type": "stream",
     "text": [
      "/home/douglas/anaconda3/envs/dask-tutorial/lib/python3.6/site-packages/ipykernel_launcher.py:1: SettingWithCopyWarning: \n",
      "A value is trying to be set on a copy of a slice from a DataFrame.\n",
      "Try using .loc[row_indexer,col_indexer] = value instead\n",
      "\n",
      "See the caveats in the documentation: http://pandas.pydata.org/pandas-docs/stable/indexing.html#indexing-view-versus-copy\n",
      "  \"\"\"Entry point for launching an IPython kernel.\n",
      "/home/douglas/anaconda3/envs/dask-tutorial/lib/python3.6/site-packages/ipykernel_launcher.py:2: SettingWithCopyWarning: \n",
      "A value is trying to be set on a copy of a slice from a DataFrame.\n",
      "Try using .loc[row_indexer,col_indexer] = value instead\n",
      "\n",
      "See the caveats in the documentation: http://pandas.pydata.org/pandas-docs/stable/indexing.html#indexing-view-versus-copy\n",
      "  \n",
      "/home/douglas/anaconda3/envs/dask-tutorial/lib/python3.6/site-packages/ipykernel_launcher.py:3: SettingWithCopyWarning: \n",
      "A value is trying to be set on a copy of a slice from a DataFrame.\n",
      "Try using .loc[row_indexer,col_indexer] = value instead\n",
      "\n",
      "See the caveats in the documentation: http://pandas.pydata.org/pandas-docs/stable/indexing.html#indexing-view-versus-copy\n",
      "  This is separate from the ipykernel package so we can avoid doing imports until\n"
     ]
    }
   ],
   "source": [
    "match['wdsp_x'] = match['wdsp_x'].astype('float')\n",
    "match['Elevation'] = match['Elevation'].astype('float')\n",
    "match['wdsp_day2'] = match['wdsp_day2'].astype('float')"
   ]
  },
  {
   "cell_type": "code",
   "execution_count": 52,
   "metadata": {},
   "outputs": [
    {
     "name": "stderr",
     "output_type": "stream",
     "text": [
      "/home/douglas/anaconda3/envs/dask-tutorial/lib/python3.6/site-packages/pandas/core/generic.py:5890: SettingWithCopyWarning: \n",
      "A value is trying to be set on a copy of a slice from a DataFrame\n",
      "\n",
      "See the caveats in the documentation: http://pandas.pydata.org/pandas-docs/stable/indexing.html#indexing-view-versus-copy\n",
      "  self._update_inplace(new_data)\n"
     ]
    }
   ],
   "source": [
    "# Replace placeholders as nulls for plotting\n",
    "match['max_temp_x'].replace(9999.9, np.NaN, inplace=True)\n",
    "match['wdsp_x'].replace(999.9, np.NaN, inplace=True)\n",
    "match['prcp_x'].replace(99.99, np.NaN, inplace=True)"
   ]
  },
  {
   "cell_type": "code",
   "execution_count": 53,
   "metadata": {},
   "outputs": [
    {
     "name": "stdout",
     "output_type": "stream",
     "text": [
      "0\n"
     ]
    },
    {
     "data": {
      "text/plain": [
       "109.9    4\n",
       "109.1    2\n",
       "108.9    2\n",
       "108.7    1\n",
       "108.6    6\n",
       "Name: temp_x, dtype: int64"
      ]
     },
     "execution_count": 53,
     "metadata": {},
     "output_type": "execute_result"
    }
   ],
   "source": [
    "# average temp looks like it's all present\n",
    "print(match['temp_x'].isnull().sum())\n",
    "match['temp_x'].value_counts().sort_index(ascending=False).head()"
   ]
  },
  {
   "cell_type": "code",
   "execution_count": 54,
   "metadata": {},
   "outputs": [
    {
     "data": {
      "text/plain": [
       "9999.9    869784\n",
       "1042.7         1\n",
       "1041.9         1\n",
       "1041.5         1\n",
       "1041.4         1\n",
       "Name: stp_x, dtype: int64"
      ]
     },
     "execution_count": 54,
     "metadata": {},
     "output_type": "execute_result"
    }
   ],
   "source": [
    "# standard pressure has a lot of missing values - may not be too useful\n",
    "match['stp_x'].value_counts().sort_index(ascending=False).head()"
   ]
  },
  {
   "cell_type": "code",
   "execution_count": 55,
   "metadata": {},
   "outputs": [],
   "source": [
    "match['stp_x'].replace(9999.9, np.NaN, inplace=True)"
   ]
  },
  {
   "cell_type": "code",
   "execution_count": 56,
   "metadata": {},
   "outputs": [],
   "source": [
    "# Repeat for day 2 \n",
    "match['max_temp_day2'].replace(9999.9, np.NaN, inplace=True)\n",
    "match['wdsp_day2'].replace(999.9, np.NaN, inplace=True)\n",
    "match['prcp_day2'].replace(99.99, np.NaN, inplace=True)\n",
    "match['stp_day2'].replace(9999.9, np.NaN, inplace=True)"
   ]
  },
  {
   "cell_type": "code",
   "execution_count": 57,
   "metadata": {},
   "outputs": [
    {
     "data": {
      "text/plain": [
       "FOD_ID                   0\n",
       "DISCOVERY_DATE           0\n",
       "FIRE_SIZE                0\n",
       "FIRE_SIZE_CLASS          0\n",
       "LATITUDE                 0\n",
       "LONGITUDE                0\n",
       "Month                    0\n",
       "DayofWeek                0\n",
       "COUNTY2_x                0\n",
       "COUNTY_ID                0\n",
       "CLASS                    0\n",
       "StateID                  0\n",
       "Elevation                0\n",
       "weather_station1         0\n",
       "stn_x                    0\n",
       "year_x                   0\n",
       "temp_x                   0\n",
       "stp_x               869784\n",
       "wdsp_x                5338\n",
       "max_temp_x            1341\n",
       "prcp_x               56141\n",
       "thunder_x                0\n",
       "date_x                   0\n",
       "day_2                    0\n",
       "year_day2            14784\n",
       "temp_day2            14784\n",
       "stp_day2            872601\n",
       "wdsp_day2            19844\n",
       "max_temp_day2        16056\n",
       "prcp_day2            97141\n",
       "thunder_day2         14784\n",
       "date_day2            14784\n",
       "dtype: int64"
      ]
     },
     "execution_count": 57,
     "metadata": {},
     "output_type": "execute_result"
    }
   ],
   "source": [
    "# Summarize nulls\n",
    "match.isnull().sum()"
   ]
  },
  {
   "cell_type": "markdown",
   "metadata": {},
   "source": [
    "# Boxplots \n",
    "Visualize the distributions of some of the new weather features"
   ]
  },
  {
   "cell_type": "code",
   "execution_count": 58,
   "metadata": {},
   "outputs": [],
   "source": [
    "# len(match) is faster than match.shape[0]"
   ]
  },
  {
   "cell_type": "code",
   "execution_count": 59,
   "metadata": {},
   "outputs": [],
   "source": [
    "def label_boxplot(feature, group, df):\n",
    "    '''Plot box plot with auto generated but rough labels\n",
    "    **Inputs**\n",
    "    feature: str, name of column of interest\n",
    "    group: str, name of column to group by\n",
    "    df: df, the data'''\n",
    "    plt.figure(figsize=(12,8))\n",
    "    sns.boxplot(x=feature, y=group, data=df, order=sorted(df[group].unique()))\n",
    "    plt.title(f'Distribution of {feature} for each size class', fontsize=16)\n",
    "    plt.xlabel(f'{feature}')\n",
    "    plt.ylabel('Fire size class')"
   ]
  },
  {
   "cell_type": "code",
   "execution_count": 60,
   "metadata": {},
   "outputs": [
    {
     "data": {
      "text/html": [
       "<div>\n",
       "<style scoped>\n",
       "    .dataframe tbody tr th:only-of-type {\n",
       "        vertical-align: middle;\n",
       "    }\n",
       "\n",
       "    .dataframe tbody tr th {\n",
       "        vertical-align: top;\n",
       "    }\n",
       "\n",
       "    .dataframe thead th {\n",
       "        text-align: right;\n",
       "    }\n",
       "</style>\n",
       "<table border=\"1\" class=\"dataframe\">\n",
       "  <thead>\n",
       "    <tr style=\"text-align: right;\">\n",
       "      <th></th>\n",
       "      <th>count</th>\n",
       "      <th>mean</th>\n",
       "      <th>std</th>\n",
       "      <th>min</th>\n",
       "      <th>25%</th>\n",
       "      <th>50%</th>\n",
       "      <th>75%</th>\n",
       "      <th>max</th>\n",
       "    </tr>\n",
       "    <tr>\n",
       "      <th>FIRE_SIZE_CLASS</th>\n",
       "      <th></th>\n",
       "      <th></th>\n",
       "      <th></th>\n",
       "      <th></th>\n",
       "      <th></th>\n",
       "      <th></th>\n",
       "      <th></th>\n",
       "      <th></th>\n",
       "    </tr>\n",
       "  </thead>\n",
       "  <tbody>\n",
       "    <tr>\n",
       "      <th>A</th>\n",
       "      <td>555512.0</td>\n",
       "      <td>78.019684</td>\n",
       "      <td>15.220788</td>\n",
       "      <td>-13.0</td>\n",
       "      <td>68.0</td>\n",
       "      <td>80.1</td>\n",
       "      <td>89.6</td>\n",
       "      <td>127.4</td>\n",
       "    </tr>\n",
       "    <tr>\n",
       "      <th>B</th>\n",
       "      <td>806126.0</td>\n",
       "      <td>76.900003</td>\n",
       "      <td>14.872600</td>\n",
       "      <td>-54.4</td>\n",
       "      <td>66.2</td>\n",
       "      <td>77.9</td>\n",
       "      <td>88.0</td>\n",
       "      <td>126.0</td>\n",
       "    </tr>\n",
       "    <tr>\n",
       "      <th>C</th>\n",
       "      <td>185815.0</td>\n",
       "      <td>77.173318</td>\n",
       "      <td>14.511966</td>\n",
       "      <td>-4.0</td>\n",
       "      <td>68.0</td>\n",
       "      <td>77.0</td>\n",
       "      <td>88.0</td>\n",
       "      <td>122.0</td>\n",
       "    </tr>\n",
       "    <tr>\n",
       "      <th>D</th>\n",
       "      <td>23428.0</td>\n",
       "      <td>80.062127</td>\n",
       "      <td>14.857298</td>\n",
       "      <td>1.4</td>\n",
       "      <td>70.0</td>\n",
       "      <td>80.6</td>\n",
       "      <td>91.4</td>\n",
       "      <td>120.0</td>\n",
       "    </tr>\n",
       "    <tr>\n",
       "      <th>E</th>\n",
       "      <td>11380.0</td>\n",
       "      <td>82.316661</td>\n",
       "      <td>14.878194</td>\n",
       "      <td>-0.4</td>\n",
       "      <td>72.0</td>\n",
       "      <td>84.0</td>\n",
       "      <td>93.9</td>\n",
       "      <td>120.0</td>\n",
       "    </tr>\n",
       "    <tr>\n",
       "      <th>F</th>\n",
       "      <td>6145.0</td>\n",
       "      <td>85.678975</td>\n",
       "      <td>13.851376</td>\n",
       "      <td>1.9</td>\n",
       "      <td>77.0</td>\n",
       "      <td>88.0</td>\n",
       "      <td>96.1</td>\n",
       "      <td>126.0</td>\n",
       "    </tr>\n",
       "    <tr>\n",
       "      <th>G</th>\n",
       "      <td>2963.0</td>\n",
       "      <td>88.012555</td>\n",
       "      <td>12.186801</td>\n",
       "      <td>24.8</td>\n",
       "      <td>80.1</td>\n",
       "      <td>89.6</td>\n",
       "      <td>97.0</td>\n",
       "      <td>117.0</td>\n",
       "    </tr>\n",
       "  </tbody>\n",
       "</table>\n",
       "</div>"
      ],
      "text/plain": [
       "                    count       mean        std   min   25%   50%   75%    max\n",
       "FIRE_SIZE_CLASS                                                               \n",
       "A                555512.0  78.019684  15.220788 -13.0  68.0  80.1  89.6  127.4\n",
       "B                806126.0  76.900003  14.872600 -54.4  66.2  77.9  88.0  126.0\n",
       "C                185815.0  77.173318  14.511966  -4.0  68.0  77.0  88.0  122.0\n",
       "D                 23428.0  80.062127  14.857298   1.4  70.0  80.6  91.4  120.0\n",
       "E                 11380.0  82.316661  14.878194  -0.4  72.0  84.0  93.9  120.0\n",
       "F                  6145.0  85.678975  13.851376   1.9  77.0  88.0  96.1  126.0\n",
       "G                  2963.0  88.012555  12.186801  24.8  80.1  89.6  97.0  117.0"
      ]
     },
     "execution_count": 60,
     "metadata": {},
     "output_type": "execute_result"
    }
   ],
   "source": [
    "match.groupby('FIRE_SIZE_CLASS')['max_temp_x'].describe()"
   ]
  },
  {
   "cell_type": "code",
   "execution_count": 61,
   "metadata": {},
   "outputs": [
    {
     "data": {
      "image/png": "[encoded data removed]",
      "text/plain": [
       "<Figure size 864x576 with 1 Axes>"
      ]
     },
     "metadata": {
      "needs_background": "light"
     },
     "output_type": "display_data"
    }
   ],
   "source": [
    "label_boxplot('max_temp_x', 'FIRE_SIZE_CLASS', match)\n",
    "# max_temp is definitely a promising feature. "
   ]
  },
  {
   "cell_type": "code",
   "execution_count": 62,
   "metadata": {},
   "outputs": [
    {
     "name": "stdout",
     "output_type": "stream",
     "text": [
      "CPU times: user 507 ms, sys: 35.3 ms, total: 542 ms\n",
      "Wall time: 236 ms\n"
     ]
    },
    {
     "data": {
      "text/plain": [
       "(-3.6500000000000004, 30)"
      ]
     },
     "execution_count": 62,
     "metadata": {},
     "output_type": "execute_result"
    },
    {
     "data": {
      "image/png": "[encoded data removed]",
      "text/plain": [
       "<Figure size 864x576 with 1 Axes>"
      ]
     },
     "metadata": {
      "needs_background": "light"
     },
     "output_type": "display_data"
    }
   ],
   "source": [
    "%time label_boxplot('wdsp_x', 'FIRE_SIZE_CLASS', match)\n",
    "plt.xlim(right=30)\n",
    "# wdsp might have some signal but highly variable"
   ]
  },
  {
   "cell_type": "code",
   "execution_count": 63,
   "metadata": {},
   "outputs": [
    {
     "name": "stdout",
     "output_type": "stream",
     "text": [
      "CPU times: user 330 ms, sys: 16.5 ms, total: 347 ms\n",
      "Wall time: 125 ms\n"
     ]
    },
    {
     "data": {
      "text/plain": [
       "(-3.6500000000000004, 30)"
      ]
     },
     "execution_count": 63,
     "metadata": {},
     "output_type": "execute_result"
    },
    {
     "data": {
      "image/png": "[encoded data removed]",
      "text/plain": [
       "<Figure size 864x576 with 1 Axes>"
      ]
     },
     "metadata": {
      "needs_background": "light"
     },
     "output_type": "display_data"
    }
   ],
   "source": [
    "%time label_boxplot('wdsp_x', 'CLASS', match)\n",
    "plt.xlim(right=30)\n",
    "# see if bucketing into fewer classes help discern a pattern\n",
    "# But not enough. Need "
   ]
  },
  {
   "cell_type": "code",
   "execution_count": 64,
   "metadata": {},
   "outputs": [
    {
     "data": {
      "text/html": [
       "<div>\n",
       "<style scoped>\n",
       "    .dataframe tbody tr th:only-of-type {\n",
       "        vertical-align: middle;\n",
       "    }\n",
       "\n",
       "    .dataframe tbody tr th {\n",
       "        vertical-align: top;\n",
       "    }\n",
       "\n",
       "    .dataframe thead th {\n",
       "        text-align: right;\n",
       "    }\n",
       "</style>\n",
       "<table border=\"1\" class=\"dataframe\">\n",
       "  <thead>\n",
       "    <tr style=\"text-align: right;\">\n",
       "      <th></th>\n",
       "      <th>count</th>\n",
       "      <th>mean</th>\n",
       "      <th>std</th>\n",
       "      <th>min</th>\n",
       "      <th>25%</th>\n",
       "      <th>50%</th>\n",
       "      <th>75%</th>\n",
       "      <th>max</th>\n",
       "    </tr>\n",
       "    <tr>\n",
       "      <th>FIRE_SIZE_CLASS</th>\n",
       "      <th></th>\n",
       "      <th></th>\n",
       "      <th></th>\n",
       "      <th></th>\n",
       "      <th></th>\n",
       "      <th></th>\n",
       "      <th></th>\n",
       "      <th></th>\n",
       "    </tr>\n",
       "  </thead>\n",
       "  <tbody>\n",
       "    <tr>\n",
       "      <th>A</th>\n",
       "      <td>547271.0</td>\n",
       "      <td>5.981457</td>\n",
       "      <td>3.103290</td>\n",
       "      <td>0.0</td>\n",
       "      <td>3.8</td>\n",
       "      <td>5.5</td>\n",
       "      <td>7.6</td>\n",
       "      <td>59.0</td>\n",
       "    </tr>\n",
       "    <tr>\n",
       "      <th>B</th>\n",
       "      <td>797915.0</td>\n",
       "      <td>6.124073</td>\n",
       "      <td>3.208905</td>\n",
       "      <td>0.0</td>\n",
       "      <td>3.8</td>\n",
       "      <td>5.7</td>\n",
       "      <td>7.9</td>\n",
       "      <td>68.4</td>\n",
       "    </tr>\n",
       "    <tr>\n",
       "      <th>C</th>\n",
       "      <td>184220.0</td>\n",
       "      <td>6.454188</td>\n",
       "      <td>3.338044</td>\n",
       "      <td>0.0</td>\n",
       "      <td>4.0</td>\n",
       "      <td>6.0</td>\n",
       "      <td>8.4</td>\n",
       "      <td>46.8</td>\n",
       "    </tr>\n",
       "    <tr>\n",
       "      <th>D</th>\n",
       "      <td>23195.0</td>\n",
       "      <td>7.090157</td>\n",
       "      <td>3.640275</td>\n",
       "      <td>0.0</td>\n",
       "      <td>4.6</td>\n",
       "      <td>6.6</td>\n",
       "      <td>9.1</td>\n",
       "      <td>49.3</td>\n",
       "    </tr>\n",
       "    <tr>\n",
       "      <th>E</th>\n",
       "      <td>11264.0</td>\n",
       "      <td>7.406170</td>\n",
       "      <td>3.707948</td>\n",
       "      <td>0.0</td>\n",
       "      <td>4.8</td>\n",
       "      <td>6.9</td>\n",
       "      <td>9.4</td>\n",
       "      <td>36.8</td>\n",
       "    </tr>\n",
       "    <tr>\n",
       "      <th>F</th>\n",
       "      <td>6075.0</td>\n",
       "      <td>7.505070</td>\n",
       "      <td>3.878460</td>\n",
       "      <td>0.0</td>\n",
       "      <td>4.8</td>\n",
       "      <td>6.9</td>\n",
       "      <td>9.6</td>\n",
       "      <td>29.0</td>\n",
       "    </tr>\n",
       "    <tr>\n",
       "      <th>G</th>\n",
       "      <td>2926.0</td>\n",
       "      <td>7.243370</td>\n",
       "      <td>4.025121</td>\n",
       "      <td>0.0</td>\n",
       "      <td>4.5</td>\n",
       "      <td>6.5</td>\n",
       "      <td>9.3</td>\n",
       "      <td>36.8</td>\n",
       "    </tr>\n",
       "  </tbody>\n",
       "</table>\n",
       "</div>"
      ],
      "text/plain": [
       "                    count      mean       std  min  25%  50%  75%   max\n",
       "FIRE_SIZE_CLASS                                                        \n",
       "A                547271.0  5.981457  3.103290  0.0  3.8  5.5  7.6  59.0\n",
       "B                797915.0  6.124073  3.208905  0.0  3.8  5.7  7.9  68.4\n",
       "C                184220.0  6.454188  3.338044  0.0  4.0  6.0  8.4  46.8\n",
       "D                 23195.0  7.090157  3.640275  0.0  4.6  6.6  9.1  49.3\n",
       "E                 11264.0  7.406170  3.707948  0.0  4.8  6.9  9.4  36.8\n",
       "F                  6075.0  7.505070  3.878460  0.0  4.8  6.9  9.6  29.0\n",
       "G                  2926.0  7.243370  4.025121  0.0  4.5  6.5  9.3  36.8"
      ]
     },
     "execution_count": 64,
     "metadata": {},
     "output_type": "execute_result"
    }
   ],
   "source": [
    "match.groupby('FIRE_SIZE_CLASS')['wdsp_day2'].describe()"
   ]
  },
  {
   "cell_type": "code",
   "execution_count": 65,
   "metadata": {},
   "outputs": [
    {
     "name": "stdout",
     "output_type": "stream",
     "text": [
      "CPU times: user 337 ms, sys: 7.49 ms, total: 345 ms\n",
      "Wall time: 123 ms\n"
     ]
    },
    {
     "data": {
      "text/plain": [
       "(-3.4200000000000004, 30)"
      ]
     },
     "execution_count": 65,
     "metadata": {},
     "output_type": "execute_result"
    },
    {
     "data": {
      "image/png": "[encoded data removed]",
      "text/plain": [
       "<Figure size 864x576 with 1 Axes>"
      ]
     },
     "metadata": {
      "needs_background": "light"
     },
     "output_type": "display_data"
    }
   ],
   "source": [
    "%time label_boxplot('wdsp_day2', 'CLASS', match)\n",
    "plt.xlim(right=30)"
   ]
  },
  {
   "cell_type": "code",
   "execution_count": 66,
   "metadata": {
    "scrolled": true
   },
   "outputs": [
    {
     "data": {
      "text/html": [
       "<div>\n",
       "<style scoped>\n",
       "    .dataframe tbody tr th:only-of-type {\n",
       "        vertical-align: middle;\n",
       "    }\n",
       "\n",
       "    .dataframe tbody tr th {\n",
       "        vertical-align: top;\n",
       "    }\n",
       "\n",
       "    .dataframe thead th {\n",
       "        text-align: right;\n",
       "    }\n",
       "</style>\n",
       "<table border=\"1\" class=\"dataframe\">\n",
       "  <thead>\n",
       "    <tr style=\"text-align: right;\">\n",
       "      <th></th>\n",
       "      <th>count</th>\n",
       "      <th>mean</th>\n",
       "      <th>std</th>\n",
       "      <th>min</th>\n",
       "      <th>25%</th>\n",
       "      <th>50%</th>\n",
       "      <th>75%</th>\n",
       "      <th>max</th>\n",
       "    </tr>\n",
       "    <tr>\n",
       "      <th>FIRE_SIZE_CLASS</th>\n",
       "      <th></th>\n",
       "      <th></th>\n",
       "      <th></th>\n",
       "      <th></th>\n",
       "      <th></th>\n",
       "      <th></th>\n",
       "      <th></th>\n",
       "      <th></th>\n",
       "    </tr>\n",
       "  </thead>\n",
       "  <tbody>\n",
       "    <tr>\n",
       "      <th>A</th>\n",
       "      <td>533417.0</td>\n",
       "      <td>0.023697</td>\n",
       "      <td>0.138375</td>\n",
       "      <td>0.0</td>\n",
       "      <td>0.0</td>\n",
       "      <td>0.0</td>\n",
       "      <td>0.0</td>\n",
       "      <td>10.71</td>\n",
       "    </tr>\n",
       "    <tr>\n",
       "      <th>B</th>\n",
       "      <td>780833.0</td>\n",
       "      <td>0.015738</td>\n",
       "      <td>0.123550</td>\n",
       "      <td>0.0</td>\n",
       "      <td>0.0</td>\n",
       "      <td>0.0</td>\n",
       "      <td>0.0</td>\n",
       "      <td>12.12</td>\n",
       "    </tr>\n",
       "    <tr>\n",
       "      <th>C</th>\n",
       "      <td>179910.0</td>\n",
       "      <td>0.015473</td>\n",
       "      <td>0.133450</td>\n",
       "      <td>0.0</td>\n",
       "      <td>0.0</td>\n",
       "      <td>0.0</td>\n",
       "      <td>0.0</td>\n",
       "      <td>12.12</td>\n",
       "    </tr>\n",
       "    <tr>\n",
       "      <th>D</th>\n",
       "      <td>22609.0</td>\n",
       "      <td>0.013359</td>\n",
       "      <td>0.099770</td>\n",
       "      <td>0.0</td>\n",
       "      <td>0.0</td>\n",
       "      <td>0.0</td>\n",
       "      <td>0.0</td>\n",
       "      <td>3.24</td>\n",
       "    </tr>\n",
       "    <tr>\n",
       "      <th>E</th>\n",
       "      <td>10991.0</td>\n",
       "      <td>0.013990</td>\n",
       "      <td>0.093674</td>\n",
       "      <td>0.0</td>\n",
       "      <td>0.0</td>\n",
       "      <td>0.0</td>\n",
       "      <td>0.0</td>\n",
       "      <td>2.23</td>\n",
       "    </tr>\n",
       "    <tr>\n",
       "      <th>F</th>\n",
       "      <td>5943.0</td>\n",
       "      <td>0.015275</td>\n",
       "      <td>0.115025</td>\n",
       "      <td>0.0</td>\n",
       "      <td>0.0</td>\n",
       "      <td>0.0</td>\n",
       "      <td>0.0</td>\n",
       "      <td>4.05</td>\n",
       "    </tr>\n",
       "    <tr>\n",
       "      <th>G</th>\n",
       "      <td>2866.0</td>\n",
       "      <td>0.010914</td>\n",
       "      <td>0.066059</td>\n",
       "      <td>0.0</td>\n",
       "      <td>0.0</td>\n",
       "      <td>0.0</td>\n",
       "      <td>0.0</td>\n",
       "      <td>1.54</td>\n",
       "    </tr>\n",
       "  </tbody>\n",
       "</table>\n",
       "</div>"
      ],
      "text/plain": [
       "                    count      mean       std  min  25%  50%  75%    max\n",
       "FIRE_SIZE_CLASS                                                         \n",
       "A                533417.0  0.023697  0.138375  0.0  0.0  0.0  0.0  10.71\n",
       "B                780833.0  0.015738  0.123550  0.0  0.0  0.0  0.0  12.12\n",
       "C                179910.0  0.015473  0.133450  0.0  0.0  0.0  0.0  12.12\n",
       "D                 22609.0  0.013359  0.099770  0.0  0.0  0.0  0.0   3.24\n",
       "E                 10991.0  0.013990  0.093674  0.0  0.0  0.0  0.0   2.23\n",
       "F                  5943.0  0.015275  0.115025  0.0  0.0  0.0  0.0   4.05\n",
       "G                  2866.0  0.010914  0.066059  0.0  0.0  0.0  0.0   1.54"
      ]
     },
     "execution_count": 66,
     "metadata": {},
     "output_type": "execute_result"
    }
   ],
   "source": [
    "match.groupby('FIRE_SIZE_CLASS')['prcp_x'].describe()\n",
    "# if there's heavy rain, then only small fires possible,\n",
    "# but lack of prcp doesn't imply big fire"
   ]
  },
  {
   "cell_type": "code",
   "execution_count": 67,
   "metadata": {},
   "outputs": [
    {
     "data": {
      "image/png": "[encoded data removed]",
      "text/plain": [
       "<Figure size 864x576 with 1 Axes>"
      ]
     },
     "metadata": {
      "needs_background": "light"
     },
     "output_type": "display_data"
    }
   ],
   "source": [
    "label_boxplot('prcp_x', 'FIRE_SIZE_CLASS', match)"
   ]
  },
  {
   "cell_type": "code",
   "execution_count": 68,
   "metadata": {},
   "outputs": [],
   "source": [
    "def boxen_plot(feature, group, df):\n",
    "    '''Plot box plot with auto generated but rough labels\n",
    "    **Inputs**\n",
    "    feature: str, name of column of interest\n",
    "    group: str, name of column to group by\n",
    "    df: df, the data'''\n",
    "    plt.figure(figsize=(12,8))\n",
    "    sns.catplot(x=feature, y=group, kind='boxen', data=df, order=sorted(df[group].unique()))\n",
    "    plt.title(f'Distribution of {feature} for each size class', fontsize=16)\n",
    "    plt.xlabel(f'{feature}')\n",
    "    plt.ylabel('Fire size class')"
   ]
  },
  {
   "cell_type": "code",
   "execution_count": 69,
   "metadata": {},
   "outputs": [
    {
     "name": "stderr",
     "output_type": "stream",
     "text": [
      "'c' argument looks like a single numeric RGB or RGBA sequence, which should be avoided as value-mapping will have precedence in case its length matches with 'x' & 'y'.  Please use a 2-D array with a single row if you really want to specify the same RGB or RGBA value for all points.\n",
      "'c' argument looks like a single numeric RGB or RGBA sequence, which should be avoided as value-mapping will have precedence in case its length matches with 'x' & 'y'.  Please use a 2-D array with a single row if you really want to specify the same RGB or RGBA value for all points.\n",
      "'c' argument looks like a single numeric RGB or RGBA sequence, which should be avoided as value-mapping will have precedence in case its length matches with 'x' & 'y'.  Please use a 2-D array with a single row if you really want to specify the same RGB or RGBA value for all points.\n",
      "'c' argument looks like a single numeric RGB or RGBA sequence, which should be avoided as value-mapping will have precedence in case its length matches with 'x' & 'y'.  Please use a 2-D array with a single row if you really want to specify the same RGB or RGBA value for all points.\n",
      "'c' argument looks like a single numeric RGB or RGBA sequence, which should be avoided as value-mapping will have precedence in case its length matches with 'x' & 'y'.  Please use a 2-D array with a single row if you really want to specify the same RGB or RGBA value for all points.\n",
      "'c' argument looks like a single numeric RGB or RGBA sequence, which should be avoided as value-mapping will have precedence in case its length matches with 'x' & 'y'.  Please use a 2-D array with a single row if you really want to specify the same RGB or RGBA value for all points.\n",
      "'c' argument looks like a single numeric RGB or RGBA sequence, which should be avoided as value-mapping will have precedence in case its length matches with 'x' & 'y'.  Please use a 2-D array with a single row if you really want to specify the same RGB or RGBA value for all points.\n"
     ]
    },
    {
     "data": {
      "text/plain": [
       "<Figure size 864x576 with 0 Axes>"
      ]
     },
     "metadata": {},
     "output_type": "display_data"
    },
    {
     "data": {
      "image/png": "[encoded data removed]",
      "text/plain": [
       "<Figure size 360x360 with 1 Axes>"
      ]
     },
     "metadata": {
      "needs_background": "light"
     },
     "output_type": "display_data"
    }
   ],
   "source": [
    "boxen_plot('max_temp_x', 'FIRE_SIZE_CLASS', match)"
   ]
  },
  {
   "cell_type": "code",
   "execution_count": 70,
   "metadata": {},
   "outputs": [
    {
     "data": {
      "text/plain": [
       "<seaborn.axisgrid.FacetGrid at 0x7f655a861f60>"
      ]
     },
     "execution_count": 70,
     "metadata": {},
     "output_type": "execute_result"
    },
    {
     "data": {
      "image/png": "[encoded data removed]",
      "text/plain": [
       "<Figure size 1080x360 with 3 Axes>"
      ]
     },
     "metadata": {
      "needs_background": "light"
     },
     "output_type": "display_data"
    }
   ],
   "source": [
    "sns.catplot(x=\"thunder_x\", kind=\"count\", col='CLASS', data=match)"
   ]
  },
  {
   "cell_type": "code",
   "execution_count": 71,
   "metadata": {},
   "outputs": [
    {
     "data": {
      "text/plain": [
       "<seaborn.axisgrid.FacetGrid at 0x7f655a8b1550>"
      ]
     },
     "execution_count": 71,
     "metadata": {},
     "output_type": "execute_result"
    },
    {
     "data": {
      "image/png": "[encoded data removed]",
      "text/plain": [
       "<Figure size 360x360 with 1 Axes>"
      ]
     },
     "metadata": {
      "needs_background": "light"
     },
     "output_type": "display_data"
    }
   ],
   "source": [
    "sns.catplot(x=\"thunder_x\", kind=\"count\", data=match[match['CLASS']==3])"
   ]
  },
  {
   "cell_type": "code",
   "execution_count": 72,
   "metadata": {},
   "outputs": [],
   "source": [
    "thunder = match.groupby('FIRE_SIZE_CLASS')['thunder_x']\\\n",
    "               .value_counts()\\\n",
    "               .reset_index(name='count')\\\n",
    "               .pivot(index='FIRE_SIZE_CLASS', \n",
    "                      columns='thunder_x', \n",
    "                      values='count')"
   ]
  },
  {
   "cell_type": "code",
   "execution_count": 73,
   "metadata": {},
   "outputs": [
    {
     "data": {
      "text/html": [
       "<div>\n",
       "<style scoped>\n",
       "    .dataframe tbody tr th:only-of-type {\n",
       "        vertical-align: middle;\n",
       "    }\n",
       "\n",
       "    .dataframe tbody tr th {\n",
       "        vertical-align: top;\n",
       "    }\n",
       "\n",
       "    .dataframe thead th {\n",
       "        text-align: right;\n",
       "    }\n",
       "</style>\n",
       "<table border=\"1\" class=\"dataframe\">\n",
       "  <thead>\n",
       "    <tr style=\"text-align: right;\">\n",
       "      <th>thunder_x</th>\n",
       "      <th>0</th>\n",
       "      <th>1</th>\n",
       "      <th>ratio</th>\n",
       "    </tr>\n",
       "    <tr>\n",
       "      <th>FIRE_SIZE_CLASS</th>\n",
       "      <th></th>\n",
       "      <th></th>\n",
       "      <th></th>\n",
       "    </tr>\n",
       "  </thead>\n",
       "  <tbody>\n",
       "    <tr>\n",
       "      <th>A</th>\n",
       "      <td>500437</td>\n",
       "      <td>55475</td>\n",
       "      <td>0.110853</td>\n",
       "    </tr>\n",
       "    <tr>\n",
       "      <th>B</th>\n",
       "      <td>764226</td>\n",
       "      <td>42551</td>\n",
       "      <td>0.055679</td>\n",
       "    </tr>\n",
       "    <tr>\n",
       "      <th>C</th>\n",
       "      <td>175335</td>\n",
       "      <td>10668</td>\n",
       "      <td>0.060844</td>\n",
       "    </tr>\n",
       "    <tr>\n",
       "      <th>D</th>\n",
       "      <td>21699</td>\n",
       "      <td>1783</td>\n",
       "      <td>0.082170</td>\n",
       "    </tr>\n",
       "    <tr>\n",
       "      <th>E</th>\n",
       "      <td>10324</td>\n",
       "      <td>1079</td>\n",
       "      <td>0.104514</td>\n",
       "    </tr>\n",
       "    <tr>\n",
       "      <th>F</th>\n",
       "      <td>5406</td>\n",
       "      <td>758</td>\n",
       "      <td>0.140215</td>\n",
       "    </tr>\n",
       "    <tr>\n",
       "      <th>G</th>\n",
       "      <td>2538</td>\n",
       "      <td>431</td>\n",
       "      <td>0.169819</td>\n",
       "    </tr>\n",
       "  </tbody>\n",
       "</table>\n",
       "</div>"
      ],
      "text/plain": [
       "thunder_x             0      1     ratio\n",
       "FIRE_SIZE_CLASS                         \n",
       "A                500437  55475  0.110853\n",
       "B                764226  42551  0.055679\n",
       "C                175335  10668  0.060844\n",
       "D                 21699   1783  0.082170\n",
       "E                 10324   1079  0.104514\n",
       "F                  5406    758  0.140215\n",
       "G                  2538    431  0.169819"
      ]
     },
     "execution_count": 73,
     "metadata": {},
     "output_type": "execute_result"
    }
   ],
   "source": [
    "thunder['ratio'] = thunder.iloc[:,1]/thunder.iloc[:,0]\n",
    "thunder"
   ]
  },
  {
   "cell_type": "code",
   "execution_count": 74,
   "metadata": {},
   "outputs": [
    {
     "data": {
      "text/html": [
       "<div>\n",
       "<style scoped>\n",
       "    .dataframe tbody tr th:only-of-type {\n",
       "        vertical-align: middle;\n",
       "    }\n",
       "\n",
       "    .dataframe tbody tr th {\n",
       "        vertical-align: top;\n",
       "    }\n",
       "\n",
       "    .dataframe thead th {\n",
       "        text-align: right;\n",
       "    }\n",
       "</style>\n",
       "<table border=\"1\" class=\"dataframe\">\n",
       "  <thead>\n",
       "    <tr style=\"text-align: right;\">\n",
       "      <th></th>\n",
       "      <th></th>\n",
       "      <th>count</th>\n",
       "      <th>mean</th>\n",
       "      <th>std</th>\n",
       "      <th>min</th>\n",
       "      <th>25%</th>\n",
       "      <th>50%</th>\n",
       "      <th>75%</th>\n",
       "      <th>max</th>\n",
       "    </tr>\n",
       "    <tr>\n",
       "      <th>thunder_x</th>\n",
       "      <th>FIRE_SIZE_CLASS</th>\n",
       "      <th></th>\n",
       "      <th></th>\n",
       "      <th></th>\n",
       "      <th></th>\n",
       "      <th></th>\n",
       "      <th></th>\n",
       "      <th></th>\n",
       "      <th></th>\n",
       "    </tr>\n",
       "  </thead>\n",
       "  <tbody>\n",
       "    <tr>\n",
       "      <th rowspan=\"7\" valign=\"top\">0</th>\n",
       "      <th>A</th>\n",
       "      <td>486646.0</td>\n",
       "      <td>0.015324</td>\n",
       "      <td>0.102862</td>\n",
       "      <td>0.0</td>\n",
       "      <td>0.0</td>\n",
       "      <td>0.0</td>\n",
       "      <td>0.00</td>\n",
       "      <td>7.78</td>\n",
       "    </tr>\n",
       "    <tr>\n",
       "      <th>B</th>\n",
       "      <td>745680.0</td>\n",
       "      <td>0.009999</td>\n",
       "      <td>0.096342</td>\n",
       "      <td>0.0</td>\n",
       "      <td>0.0</td>\n",
       "      <td>0.0</td>\n",
       "      <td>0.00</td>\n",
       "      <td>12.12</td>\n",
       "    </tr>\n",
       "    <tr>\n",
       "      <th>C</th>\n",
       "      <td>171236.0</td>\n",
       "      <td>0.009458</td>\n",
       "      <td>0.106830</td>\n",
       "      <td>0.0</td>\n",
       "      <td>0.0</td>\n",
       "      <td>0.0</td>\n",
       "      <td>0.00</td>\n",
       "      <td>12.12</td>\n",
       "    </tr>\n",
       "    <tr>\n",
       "      <th>D</th>\n",
       "      <td>21151.0</td>\n",
       "      <td>0.007147</td>\n",
       "      <td>0.063612</td>\n",
       "      <td>0.0</td>\n",
       "      <td>0.0</td>\n",
       "      <td>0.0</td>\n",
       "      <td>0.00</td>\n",
       "      <td>2.75</td>\n",
       "    </tr>\n",
       "    <tr>\n",
       "      <th>E</th>\n",
       "      <td>10078.0</td>\n",
       "      <td>0.008802</td>\n",
       "      <td>0.076023</td>\n",
       "      <td>0.0</td>\n",
       "      <td>0.0</td>\n",
       "      <td>0.0</td>\n",
       "      <td>0.00</td>\n",
       "      <td>1.70</td>\n",
       "    </tr>\n",
       "    <tr>\n",
       "      <th>F</th>\n",
       "      <td>5288.0</td>\n",
       "      <td>0.010318</td>\n",
       "      <td>0.100943</td>\n",
       "      <td>0.0</td>\n",
       "      <td>0.0</td>\n",
       "      <td>0.0</td>\n",
       "      <td>0.00</td>\n",
       "      <td>4.05</td>\n",
       "    </tr>\n",
       "    <tr>\n",
       "      <th>G</th>\n",
       "      <td>2506.0</td>\n",
       "      <td>0.006935</td>\n",
       "      <td>0.058507</td>\n",
       "      <td>0.0</td>\n",
       "      <td>0.0</td>\n",
       "      <td>0.0</td>\n",
       "      <td>0.00</td>\n",
       "      <td>1.54</td>\n",
       "    </tr>\n",
       "    <tr>\n",
       "      <th rowspan=\"7\" valign=\"top\">1</th>\n",
       "      <th>A</th>\n",
       "      <td>46771.0</td>\n",
       "      <td>0.110816</td>\n",
       "      <td>0.316181</td>\n",
       "      <td>0.0</td>\n",
       "      <td>0.0</td>\n",
       "      <td>0.0</td>\n",
       "      <td>0.08</td>\n",
       "      <td>10.71</td>\n",
       "    </tr>\n",
       "    <tr>\n",
       "      <th>B</th>\n",
       "      <td>35153.0</td>\n",
       "      <td>0.137494</td>\n",
       "      <td>0.355886</td>\n",
       "      <td>0.0</td>\n",
       "      <td>0.0</td>\n",
       "      <td>0.0</td>\n",
       "      <td>0.10</td>\n",
       "      <td>12.01</td>\n",
       "    </tr>\n",
       "    <tr>\n",
       "      <th>C</th>\n",
       "      <td>8674.0</td>\n",
       "      <td>0.134222</td>\n",
       "      <td>0.359554</td>\n",
       "      <td>0.0</td>\n",
       "      <td>0.0</td>\n",
       "      <td>0.0</td>\n",
       "      <td>0.09</td>\n",
       "      <td>7.99</td>\n",
       "    </tr>\n",
       "    <tr>\n",
       "      <th>D</th>\n",
       "      <td>1458.0</td>\n",
       "      <td>0.103477</td>\n",
       "      <td>0.295006</td>\n",
       "      <td>0.0</td>\n",
       "      <td>0.0</td>\n",
       "      <td>0.0</td>\n",
       "      <td>0.05</td>\n",
       "      <td>3.24</td>\n",
       "    </tr>\n",
       "    <tr>\n",
       "      <th>E</th>\n",
       "      <td>913.0</td>\n",
       "      <td>0.071249</td>\n",
       "      <td>0.195705</td>\n",
       "      <td>0.0</td>\n",
       "      <td>0.0</td>\n",
       "      <td>0.0</td>\n",
       "      <td>0.03</td>\n",
       "      <td>2.23</td>\n",
       "    </tr>\n",
       "    <tr>\n",
       "      <th>F</th>\n",
       "      <td>655.0</td>\n",
       "      <td>0.055298</td>\n",
       "      <td>0.189829</td>\n",
       "      <td>0.0</td>\n",
       "      <td>0.0</td>\n",
       "      <td>0.0</td>\n",
       "      <td>0.02</td>\n",
       "      <td>3.12</td>\n",
       "    </tr>\n",
       "    <tr>\n",
       "      <th>G</th>\n",
       "      <td>360.0</td>\n",
       "      <td>0.038611</td>\n",
       "      <td>0.100305</td>\n",
       "      <td>0.0</td>\n",
       "      <td>0.0</td>\n",
       "      <td>0.0</td>\n",
       "      <td>0.02</td>\n",
       "      <td>0.68</td>\n",
       "    </tr>\n",
       "  </tbody>\n",
       "</table>\n",
       "</div>"
      ],
      "text/plain": [
       "                              count      mean       std  min  25%  50%   75%  \\\n",
       "thunder_x FIRE_SIZE_CLASS                                                      \n",
       "0         A                486646.0  0.015324  0.102862  0.0  0.0  0.0  0.00   \n",
       "          B                745680.0  0.009999  0.096342  0.0  0.0  0.0  0.00   \n",
       "          C                171236.0  0.009458  0.106830  0.0  0.0  0.0  0.00   \n",
       "          D                 21151.0  0.007147  0.063612  0.0  0.0  0.0  0.00   \n",
       "          E                 10078.0  0.008802  0.076023  0.0  0.0  0.0  0.00   \n",
       "          F                  5288.0  0.010318  0.100943  0.0  0.0  0.0  0.00   \n",
       "          G                  2506.0  0.006935  0.058507  0.0  0.0  0.0  0.00   \n",
       "1         A                 46771.0  0.110816  0.316181  0.0  0.0  0.0  0.08   \n",
       "          B                 35153.0  0.137494  0.355886  0.0  0.0  0.0  0.10   \n",
       "          C                  8674.0  0.134222  0.359554  0.0  0.0  0.0  0.09   \n",
       "          D                  1458.0  0.103477  0.295006  0.0  0.0  0.0  0.05   \n",
       "          E                   913.0  0.071249  0.195705  0.0  0.0  0.0  0.03   \n",
       "          F                   655.0  0.055298  0.189829  0.0  0.0  0.0  0.02   \n",
       "          G                   360.0  0.038611  0.100305  0.0  0.0  0.0  0.02   \n",
       "\n",
       "                             max  \n",
       "thunder_x FIRE_SIZE_CLASS         \n",
       "0         A                 7.78  \n",
       "          B                12.12  \n",
       "          C                12.12  \n",
       "          D                 2.75  \n",
       "          E                 1.70  \n",
       "          F                 4.05  \n",
       "          G                 1.54  \n",
       "1         A                10.71  \n",
       "          B                12.01  \n",
       "          C                 7.99  \n",
       "          D                 3.24  \n",
       "          E                 2.23  \n",
       "          F                 3.12  \n",
       "          G                 0.68  "
      ]
     },
     "execution_count": 74,
     "metadata": {},
     "output_type": "execute_result"
    }
   ],
   "source": [
    "match.groupby(['thunder_x', 'FIRE_SIZE_CLASS'])['prcp_x'].describe()\n",
    "# thunder usually means more rain but no strong signals here"
   ]
  },
  {
   "cell_type": "code",
   "execution_count": 75,
   "metadata": {},
   "outputs": [
    {
     "data": {
      "text/plain": [
       "(1592710, 32)"
      ]
     },
     "execution_count": 75,
     "metadata": {},
     "output_type": "execute_result"
    }
   ],
   "source": [
    "match.shape"
   ]
  },
  {
   "cell_type": "markdown",
   "metadata": {},
   "source": [
    "# Hold out data sets\n",
    "I hold out two samples of size 20000. The first, \"recents\", contains only fires from 2015, for a temporal test set. The second is sampled from the remaining fires using train_test_split from sklearn with the stratify option enabled to get the same distribution of fire size classes. The resulting datasets are all pickled for easy access. "
   ]
  },
  {
   "cell_type": "code",
   "execution_count": 76,
   "metadata": {},
   "outputs": [],
   "source": [
    "m2015 = match[match['DISCOVERY_DATE'].dt.year == 2015]"
   ]
  },
  {
   "cell_type": "code",
   "execution_count": 77,
   "metadata": {},
   "outputs": [
    {
     "data": {
      "text/plain": [
       "66797"
      ]
     },
     "execution_count": 77,
     "metadata": {},
     "output_type": "execute_result"
    }
   ],
   "source": [
    "len(m2015)"
   ]
  },
  {
   "cell_type": "code",
   "execution_count": 78,
   "metadata": {},
   "outputs": [
    {
     "data": {
      "text/plain": [
       "A    0.437699\n",
       "B    0.432415\n",
       "C    0.100454\n",
       "D    0.014147\n",
       "E    0.007186\n",
       "F    0.004312\n",
       "G    0.003788\n",
       "Name: FIRE_SIZE_CLASS, dtype: float64"
      ]
     },
     "execution_count": 78,
     "metadata": {},
     "output_type": "execute_result"
    }
   ],
   "source": [
    "m2015['FIRE_SIZE_CLASS'].value_counts() / len(m2015)"
   ]
  },
  {
   "cell_type": "code",
   "execution_count": 79,
   "metadata": {},
   "outputs": [
    {
     "data": {
      "text/plain": [
       "B    0.506544\n",
       "A    0.349035\n",
       "C    0.116784\n",
       "D    0.014743\n",
       "E    0.007159\n",
       "F    0.003870\n",
       "G    0.001864\n",
       "Name: FIRE_SIZE_CLASS, dtype: float64"
      ]
     },
     "execution_count": 79,
     "metadata": {},
     "output_type": "execute_result"
    }
   ],
   "source": [
    "match['FIRE_SIZE_CLASS'].value_counts() / len(match)"
   ]
  },
  {
   "cell_type": "code",
   "execution_count": 88,
   "metadata": {},
   "outputs": [],
   "source": [
    "recents = m2015.sample(20000)"
   ]
  },
  {
   "cell_type": "code",
   "execution_count": 89,
   "metadata": {},
   "outputs": [
    {
     "data": {
      "text/plain": [
       "B    0.43590\n",
       "A    0.43570\n",
       "C    0.09935\n",
       "D    0.01360\n",
       "E    0.00705\n",
       "F    0.00450\n",
       "G    0.00390\n",
       "Name: FIRE_SIZE_CLASS, dtype: float64"
      ]
     },
     "execution_count": 89,
     "metadata": {},
     "output_type": "execute_result"
    }
   ],
   "source": [
    "recents['FIRE_SIZE_CLASS'].value_counts() / 20000\n",
    "# slightly different ratios but has a good amount of the rare classes"
   ]
  },
  {
   "cell_type": "code",
   "execution_count": 90,
   "metadata": {},
   "outputs": [],
   "source": [
    "remaining = match[~match['FOD_ID'].isin(recents['FOD_ID'])]\n"
   ]
  },
  {
   "cell_type": "code",
   "execution_count": 91,
   "metadata": {},
   "outputs": [
    {
     "data": {
      "text/plain": [
       "B    0.49515\n",
       "A    0.35580\n",
       "C    0.12045\n",
       "D    0.01615\n",
       "E    0.00685\n",
       "F    0.00400\n",
       "G    0.00160\n",
       "Name: FIRE_SIZE_CLASS, dtype: float64"
      ]
     },
     "execution_count": 91,
     "metadata": {},
     "output_type": "execute_result"
    }
   ],
   "source": [
    "# Alternative way to make sample- didn't use.\n",
    "# evals = remaining.sample(20000)\n",
    "# evals['FIRE_SIZE_CLASS'].value_counts() / 20000"
   ]
  },
  {
   "cell_type": "code",
   "execution_count": 92,
   "metadata": {},
   "outputs": [],
   "source": [
    "train, val = train_test_split(remaining, test_size=20000, stratify=remaining['FIRE_SIZE_CLASS'])"
   ]
  },
  {
   "cell_type": "code",
   "execution_count": 93,
   "metadata": {},
   "outputs": [
    {
     "data": {
      "text/plain": [
       "B    0.50745\n",
       "A    0.34795\n",
       "C    0.11700\n",
       "D    0.01475\n",
       "E    0.00715\n",
       "F    0.00385\n",
       "G    0.00185\n",
       "Name: FIRE_SIZE_CLASS, dtype: float64"
      ]
     },
     "execution_count": 93,
     "metadata": {},
     "output_type": "execute_result"
    }
   ],
   "source": [
    "val['FIRE_SIZE_CLASS'].value_counts() / 20000"
   ]
  },
  {
   "cell_type": "code",
   "execution_count": 94,
   "metadata": {},
   "outputs": [
    {
     "data": {
      "text/plain": [
       "2006    1192\n",
       "2000    1044\n",
       "2007    1043\n",
       "2011    1039\n",
       "1999     964\n",
       "2001     949\n",
       "2008     943\n",
       "2010     903\n",
       "2005     897\n",
       "2002     844\n",
       "2012     832\n",
       "2009     823\n",
       "2003     772\n",
       "2004     765\n",
       "1995     757\n",
       "1994     749\n",
       "1996     742\n",
       "2013     732\n",
       "1998     719\n",
       "2014     692\n",
       "1992     689\n",
       "1993     651\n",
       "1997     633\n",
       "2015     626\n",
       "Name: DISCOVERY_DATE, dtype: int64"
      ]
     },
     "execution_count": 94,
     "metadata": {},
     "output_type": "execute_result"
    }
   ],
   "source": [
    "val['DISCOVERY_DATE'].dt.year.value_counts()"
   ]
  },
  {
   "cell_type": "code",
   "execution_count": 95,
   "metadata": {},
   "outputs": [],
   "source": [
    "recents.to_pickle('recent_fires20k.pkl')\n",
    "train.to_pickle('train_fires.pkl')\n",
    "val.to_pickle('val_fires20k.pkl')"
   ]
  },
  {
   "cell_type": "markdown",
   "metadata": {},
   "source": [
    "# UNUSED CODE"
   ]
  },
  {
   "cell_type": "code",
   "execution_count": null,
   "metadata": {},
   "outputs": [],
   "source": [
    "# tried dask\n",
    "# overhead not worth it yet "
   ]
  },
  {
   "cell_type": "code",
   "execution_count": null,
   "metadata": {},
   "outputs": [],
   "source": [
    "# import dask.dataframe as dd\n",
    "# dfull = dd.from_pandas(full, npartitions=7)"
   ]
  },
  {
   "cell_type": "code",
   "execution_count": null,
   "metadata": {},
   "outputs": [],
   "source": [
    "# %time dfull['Elevation'].value_counts().compute().head()"
   ]
  },
  {
   "cell_type": "code",
   "execution_count": null,
   "metadata": {
    "scrolled": true
   },
   "outputs": [],
   "source": [
    "# %time full['Elevation'].value_counts().head()"
   ]
  },
  {
   "cell_type": "code",
   "execution_count": null,
   "metadata": {},
   "outputs": [],
   "source": [
    "# %time dfull.count().compute()\n",
    "# %time full.count()\n",
    "# dash overhead takes quite a bit longer"
   ]
  },
  {
   "cell_type": "code",
   "execution_count": null,
   "metadata": {},
   "outputs": [],
   "source": []
  },
  {
   "cell_type": "code",
   "execution_count": null,
   "metadata": {},
   "outputs": [],
   "source": [
    "# import scipy.stats as stats"
   ]
  },
  {
   "cell_type": "code",
   "execution_count": null,
   "metadata": {},
   "outputs": [],
   "source": [
    "# stats.ks_2samp(match['FIRE_SIZE'], nomatch['FIRE_SIZE'])"
   ]
  }
 ],
 "metadata": {
  "kernelspec": {
   "display_name": "Python (dask-tutorial)",
   "language": "python",
   "name": "dask-tutorial"
  },
  "language_info": {
   "codemirror_mode": {
    "name": "ipython",
    "version": 3
   },
   "file_extension": ".py",
   "mimetype": "text/x-python",
   "name": "python",
   "nbconvert_exporter": "python",
   "pygments_lexer": "ipython3",
   "version": "3.6.8"
  }
 },
 "nbformat": 4,
 "nbformat_minor": 2
}
